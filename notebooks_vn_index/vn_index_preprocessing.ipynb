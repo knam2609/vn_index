{
 "cells": [
  {
   "cell_type": "code",
   "execution_count": 1,
   "metadata": {},
   "outputs": [],
   "source": [
    "import pandas as pd\n",
    "\n",
    "# Load the data\n",
    "df = pd.read_csv('../vn_index/hose_historical_data.csv')\n",
    "\n",
    "# Remove duplicates\n",
    "df.drop_duplicates(inplace=True)\n",
    "\n",
    "# Remove the 'Change'column\n",
    "df.drop(columns=['Change'], inplace=True)\n",
    "\n",
    "# Remove rows with missing values\n",
    "# df.replace('---', pd.NA, inplace=True)  \n",
    "df.dropna(inplace=True)\n",
    "\n",
    "df = df[['Date', 'VN-INDEX', 'Total Volume', 'Total Value']]\n",
    "\n",
    "# Convert 'Date' to datetime type\n",
    "df['Date'] = pd.to_datetime(df['Date'], format='%m/%d/%Y')\n"
   ]
  },
  {
   "cell_type": "code",
   "execution_count": 2,
   "metadata": {},
   "outputs": [
    {
     "data": {
      "text/plain": [
       "Index(['Date', 'VN-INDEX', 'Total Volume', 'Total Value'], dtype='object')"
      ]
     },
     "execution_count": 2,
     "metadata": {},
     "output_type": "execute_result"
    }
   ],
   "source": [
    "df.columns"
   ]
  },
  {
   "cell_type": "code",
   "execution_count": 3,
   "metadata": {},
   "outputs": [],
   "source": [
    "# Function to convert values to numeric, handling 'mil', 'bil', and commas\n",
    "def convert_to_numeric(value):\n",
    "    if isinstance(value, str):\n",
    "        value = value.replace(',', '')  # Remove commas\n",
    "        if ' bil' in value:  \n",
    "            return float(value.replace(' bil', '')) * 1e9  # Convert 'bil' to numeric\n",
    "        elif ' mil' in value:\n",
    "            return float(value.replace(' mil', '')) * 1e6  # Convert 'mil' to numeric\n",
    "    return float(value)  # Convert remaining values\n"
   ]
  },
  {
   "cell_type": "code",
   "execution_count": 4,
   "metadata": {},
   "outputs": [],
   "source": [
    "# Apply the conversion to all relevant columns\n",
    "columns_to_convert = [\n",
    "    'Total Volume', 'Total Value']\n",
    "\n",
    "# , 'Total Foreigner Buy Volume', \n",
    "#     'Total Foreigner Buy Value', 'Total Foreigner Sell Volume', \n",
    "#     'Total Foreigner Sell Value'\n",
    "# ]\n",
    "\n",
    "for col in columns_to_convert:\n",
    "    df[col] = df[col].apply(convert_to_numeric)"
   ]
  },
  {
   "cell_type": "code",
   "execution_count": 5,
   "metadata": {},
   "outputs": [
    {
     "name": "stdout",
     "output_type": "stream",
     "text": [
      "Data preprocessing completed and saved to 'cleaned_vn_index_data.csv'\n"
     ]
    }
   ],
   "source": [
    "# Convert other columns to numerical types\n",
    "df['VN-INDEX'] = df['VN-INDEX'].astype(float)\n",
    "df.rename(columns={'VN-INDEX': 'VN_Index_Close'}, inplace=True)\n",
    "\n",
    "df = df.sort_values('Date')\n",
    "\n",
    "# Save the cleaned data to a new CSV file\n",
    "df.to_csv('../ready_data/cleaned_vn_index_data.csv', index=False)\n",
    "\n",
    "print(\"Data preprocessing completed and saved to 'cleaned_vn_index_data.csv'\")"
   ]
  }
 ],
 "metadata": {
  "kernelspec": {
   "display_name": "base",
   "language": "python",
   "name": "python3"
  },
  "language_info": {
   "codemirror_mode": {
    "name": "ipython",
    "version": 3
   },
   "file_extension": ".py",
   "mimetype": "text/x-python",
   "name": "python",
   "nbconvert_exporter": "python",
   "pygments_lexer": "ipython3",
   "version": "3.11.8"
  },
  "orig_nbformat": 4
 },
 "nbformat": 4,
 "nbformat_minor": 2
}
