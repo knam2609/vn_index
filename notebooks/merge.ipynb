{
 "cells": [
  {
   "cell_type": "code",
   "execution_count": 1,
   "source": [
    "import pandas as pd\n",
    "\n",
    "# 📂 File paths\n",
    "vn_index_file = \"../ready_data/cleaned_hose_historical_data.csv\"  \n",
    "external_data_file = \"../ready_data/cleaned_external_data.csv\"    # Processed external data\n",
    "\n",
    "# ✅ Load VN-Index Data\n",
    "vn_index_df = pd.read_csv(vn_index_file, parse_dates=[\"Date\"])\n",
    "vn_index_df.rename(columns={\"VN-INDEX\": \"VN_Index_Close\"}, inplace=True)  # Rename column\n",
    "\n",
    "# ✅ Load External Data\n",
    "external_df = pd.read_csv(external_data_file, parse_dates=[\"Date\"])\n",
    "\n",
    "# ✅ Merge using Left Join (VN-Index as reference)\n",
    "merged_df = pd.merge(vn_index_df, external_df, on=\"Date\", how=\"inner\")\n",
    "vn_index_external_df = pd.merge(vn_index_df[['Date', 'VN_Index_Close']], external_df, on=\"Date\", how=\"inner\")\n",
    "\n",
    "# ✅ Sort values by Date\n",
    "merged_df = merged_df.sort_values(by=\"Date\")\n",
    "vn_index_external_df = vn_index_external_df.sort_values(by=\"Date\")\n",
    "\n",
    "# ✅ Save merged dataset\n",
    "merged_df.to_csv(\"../ready_data/merged_data.csv\", index=False)\n",
    "print(\"🎉 Merging complete! Data saved to `merged_data.csv`\")\n",
    "\n",
    "vn_index_external_df.to_csv(\"../ready_data/vn_index_external_data.csv\", index=False)\n",
    "print(\"🎉 Merging complete! Data saved to `vn_index_external_data.csv`\")\n"
   ],
   "outputs": [],
   "metadata": {}
  }
 ],
 "metadata": {
  "orig_nbformat": 4,
  "language_info": {
   "name": "python",
   "version": "3.11.8",
   "mimetype": "text/x-python",
   "codemirror_mode": {
    "name": "ipython",
    "version": 3
   },
   "pygments_lexer": "ipython3",
   "nbconvert_exporter": "python",
   "file_extension": ".py"
  },
  "kernelspec": {
   "name": "python3",
   "display_name": "Python 3.11.8 64-bit ('base': conda)"
  },
  "interpreter": {
   "hash": "dca0ade3e726a953b501b15e8e990130d2b7799f14cfd9f4271676035ebe5511"
  }
 },
 "nbformat": 4,
 "nbformat_minor": 2
}