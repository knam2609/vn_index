{
 "cells": [
  {
   "cell_type": "code",
   "execution_count": 5,
   "metadata": {},
   "outputs": [
    {
     "name": "stdout",
     "output_type": "stream",
     "text": [
      "📥 Downloading data for S&P_500 (^GSPC)...\n"
     ]
    },
    {
     "name": "stderr",
     "output_type": "stream",
     "text": [
      "[*********************100%***********************]  1 of 1 completed\n"
     ]
    },
    {
     "name": "stdout",
     "output_type": "stream",
     "text": [
      "✅ Data saved to ../external_data/S&P_500_historical_data.csv\n",
      "📥 Downloading data for DJIA (^DJI)...\n"
     ]
    },
    {
     "name": "stderr",
     "output_type": "stream",
     "text": [
      "[*********************100%***********************]  1 of 1 completed\n"
     ]
    },
    {
     "name": "stdout",
     "output_type": "stream",
     "text": [
      "✅ Data saved to ../external_data/DJIA_historical_data.csv\n",
      "📥 Downloading data for NASDAQ (^IXIC)...\n"
     ]
    },
    {
     "name": "stderr",
     "output_type": "stream",
     "text": [
      "[*********************100%***********************]  1 of 1 completed\n"
     ]
    },
    {
     "name": "stdout",
     "output_type": "stream",
     "text": [
      "✅ Data saved to ../external_data/NASDAQ_historical_data.csv\n",
      "📥 Downloading data for Shanghai (000001.SS)...\n"
     ]
    },
    {
     "name": "stderr",
     "output_type": "stream",
     "text": [
      "[*********************100%***********************]  1 of 1 completed\n"
     ]
    },
    {
     "name": "stdout",
     "output_type": "stream",
     "text": [
      "✅ Data saved to ../external_data/Shanghai_historical_data.csv\n",
      "📥 Downloading data for Hang_Seng_Index (^HSI)...\n"
     ]
    },
    {
     "name": "stderr",
     "output_type": "stream",
     "text": [
      "[*********************100%***********************]  1 of 1 completed\n"
     ]
    },
    {
     "name": "stdout",
     "output_type": "stream",
     "text": [
      "✅ Data saved to ../external_data/Hang_Seng_Index_historical_data.csv\n",
      "📥 Downloading data for KOSPI (^KS11)...\n"
     ]
    },
    {
     "name": "stderr",
     "output_type": "stream",
     "text": [
      "[*********************100%***********************]  1 of 1 completed\n"
     ]
    },
    {
     "name": "stdout",
     "output_type": "stream",
     "text": [
      "✅ Data saved to ../external_data/KOSPI_historical_data.csv\n",
      "📥 Downloading data for Taiwan_Weighted_Index (^TWII)...\n"
     ]
    },
    {
     "name": "stderr",
     "output_type": "stream",
     "text": [
      "[*********************100%***********************]  1 of 1 completed\n"
     ]
    },
    {
     "name": "stdout",
     "output_type": "stream",
     "text": [
      "✅ Data saved to ../external_data/Taiwan_Weighted_Index_historical_data.csv\n",
      "📥 Downloading data for FTSE_100 (^FTSE)...\n"
     ]
    },
    {
     "name": "stderr",
     "output_type": "stream",
     "text": [
      "[*********************100%***********************]  1 of 1 completed\n"
     ]
    },
    {
     "name": "stdout",
     "output_type": "stream",
     "text": [
      "✅ Data saved to ../external_data/FTSE_100_historical_data.csv\n",
      "📥 Downloading data for Brent_Crude_Oil (BZ=F)...\n"
     ]
    },
    {
     "name": "stderr",
     "output_type": "stream",
     "text": [
      "[*********************100%***********************]  1 of 1 completed\n"
     ]
    },
    {
     "name": "stdout",
     "output_type": "stream",
     "text": [
      "✅ Data saved to ../external_data/Brent_Crude_Oil_historical_data.csv\n",
      "📥 Downloading data for WTI_Crude_Oil (CL=F)...\n"
     ]
    },
    {
     "name": "stderr",
     "output_type": "stream",
     "text": [
      "[*********************100%***********************]  1 of 1 completed\n"
     ]
    },
    {
     "name": "stdout",
     "output_type": "stream",
     "text": [
      "✅ Data saved to ../external_data/WTI_Crude_Oil_historical_data.csv\n",
      "📥 Downloading data for Gold (GC=F)...\n"
     ]
    },
    {
     "name": "stderr",
     "output_type": "stream",
     "text": [
      "[*********************100%***********************]  1 of 1 completed\n"
     ]
    },
    {
     "name": "stdout",
     "output_type": "stream",
     "text": [
      "✅ Data saved to ../external_data/Gold_historical_data.csv\n",
      "📥 Downloading data for LNG (NG=F)...\n"
     ]
    },
    {
     "name": "stderr",
     "output_type": "stream",
     "text": [
      "[*********************100%***********************]  1 of 1 completed\n"
     ]
    },
    {
     "name": "stdout",
     "output_type": "stream",
     "text": [
      "✅ Data saved to ../external_data/LNG_historical_data.csv\n",
      "📥 Downloading data for Copper (HG=F)...\n"
     ]
    },
    {
     "name": "stderr",
     "output_type": "stream",
     "text": [
      "[*********************100%***********************]  1 of 1 completed\n"
     ]
    },
    {
     "name": "stdout",
     "output_type": "stream",
     "text": [
      "✅ Data saved to ../external_data/Copper_historical_data.csv\n",
      "📥 Downloading data for Aluminum (ALI=F)...\n"
     ]
    },
    {
     "name": "stderr",
     "output_type": "stream",
     "text": [
      "[*********************100%***********************]  1 of 1 completed\n"
     ]
    },
    {
     "name": "stdout",
     "output_type": "stream",
     "text": [
      "✅ Data saved to ../external_data/Aluminum_historical_data.csv\n"
     ]
    },
    {
     "name": "stderr",
     "output_type": "stream",
     "text": [
      "[*********************100%***********************]  1 of 1 completed\n",
      "\n",
      "1 Failed download:\n",
      "['TIOC1']: YFTzMissingError('possibly delisted; no timezone found')\n"
     ]
    },
    {
     "name": "stdout",
     "output_type": "stream",
     "text": [
      "📥 Downloading data for Iron_Ore (TIOc1)...\n",
      "⚠️ No data available for Iron_Ore, skipping...\n",
      "📥 Downloading data for USDVND (USDVND=X)...\n"
     ]
    },
    {
     "name": "stderr",
     "output_type": "stream",
     "text": [
      "[*********************100%***********************]  1 of 1 completed\n"
     ]
    },
    {
     "name": "stdout",
     "output_type": "stream",
     "text": [
      "✅ Data saved to ../external_data/USDVND_historical_data.csv\n",
      "📥 Downloading data for CNYVND (CNYVND=X)...\n"
     ]
    },
    {
     "name": "stderr",
     "output_type": "stream",
     "text": [
      "[*********************100%***********************]  1 of 1 completed\n"
     ]
    },
    {
     "name": "stdout",
     "output_type": "stream",
     "text": [
      "✅ Data saved to ../external_data/CNYVND_historical_data.csv\n",
      "📥 Downloading data for JPYVND (JPYVND=X)...\n"
     ]
    },
    {
     "name": "stderr",
     "output_type": "stream",
     "text": [
      "[*********************100%***********************]  1 of 1 completed\n"
     ]
    },
    {
     "name": "stdout",
     "output_type": "stream",
     "text": [
      "✅ Data saved to ../external_data/JPYVND_historical_data.csv\n"
     ]
    },
    {
     "name": "stderr",
     "output_type": "stream",
     "text": [
      "[*********************100%***********************]  1 of 1 completed\n",
      "\n",
      "1 Failed download:\n",
      "['KRWVND=X']: YFTzMissingError('possibly delisted; no timezone found')\n"
     ]
    },
    {
     "name": "stdout",
     "output_type": "stream",
     "text": [
      "📥 Downloading data for KRWVND (KRWVND=X)...\n",
      "⚠️ No data available for KRWVND, skipping...\n",
      "📥 Downloading data for EURVND (EURVND=X)...\n"
     ]
    },
    {
     "name": "stderr",
     "output_type": "stream",
     "text": [
      "[*********************100%***********************]  1 of 1 completed\n"
     ]
    },
    {
     "name": "stdout",
     "output_type": "stream",
     "text": [
      "✅ Data saved to ../external_data/EURVND_historical_data.csv\n",
      "📥 Downloading data for US_10Y_Treasury_Yield (^TNX)...\n"
     ]
    },
    {
     "name": "stderr",
     "output_type": "stream",
     "text": [
      "[*********************100%***********************]  1 of 1 completed\n"
     ]
    },
    {
     "name": "stdout",
     "output_type": "stream",
     "text": [
      "✅ Data saved to ../external_data/US_10Y_Treasury_Yield_historical_data.csv\n",
      "🎉 All available data successfully downloaded!\n"
     ]
    }
   ],
   "source": [
    "import yfinance as yf\n",
    "import time\n",
    "import random\n",
    "from datetime import datetime\n",
    "\n",
    "# 📅 Define start and end dates\n",
    "start_date = \"2000-07-28\"\n",
    "end_date = datetime.today().strftime(\"%Y-%m-%d\")\n",
    "\n",
    "# 📊 Financial & Commodity Data (from Yahoo Finance)\n",
    "assets = {\n",
    "    \"S&P_500\": \"^GSPC\",\n",
    "    \"DJIA\": \"^DJI\",\n",
    "    \"NASDAQ\": \"^IXIC\",\n",
    "    \"Shanghai\": \"000001.SS\",\n",
    "    \"Hang_Seng_Index\": \"^HSI\",\n",
    "    \"KOSPI\": \"^KS11\",\n",
    "    \"Taiwan_Weighted_Index\": \"^TWII\",\n",
    "    \"FTSE_100\": \"^FTSE\",\n",
    "    \"Brent_Crude_Oil\": \"BZ=F\",\n",
    "    \"WTI_Crude_Oil\": \"CL=F\",\n",
    "    \"Gold\": \"GC=F\",\n",
    "    \"LNG\": \"NG=F\",\n",
    "    \"Copper\": \"HG=F\",\n",
    "    \"Aluminum\": \"ALI=F\",\n",
    "    \"Iron_Ore\": \"TIOc1\",\n",
    "    \"USDVND\": \"USDVND=X\",\n",
    "    \"CNYVND\": \"CNYVND=X\",\n",
    "    \"JPYVND\": \"JPYVND=X\",\n",
    "    \"KRWVND\": \"KRWVND=X\",\n",
    "    \"EURVND\": \"EURVND=X\",\n",
    "    \"US_10Y_Treasury_Yield\": \"^TNX\"\n",
    "}\n",
    "\n",
    "# ✅ Function to download data with retry logic & random delay\n",
    "def download_data(asset_name, ticker, max_retries=3):\n",
    "    retries = 0\n",
    "    while retries < max_retries:\n",
    "        try:\n",
    "            print(f\"📥 Downloading data for {asset_name} ({ticker})...\")\n",
    "            df = yf.download(ticker, start=start_date, end=end_date, timeout=20)\n",
    "            \n",
    "            if df.empty:\n",
    "                print(f\"⚠️ No data available for {asset_name}, skipping...\")\n",
    "                return None\n",
    "            \n",
    "            # Save to CSV with sanitized filename\n",
    "            file_name = f\"../external_data/{asset_name.replace('/', '_').replace('=', '_')}_historical_data.csv\"\n",
    "            df.to_csv(file_name)\n",
    "            print(f\"✅ Data saved to {file_name}\")\n",
    "            \n",
    "            # 🕒 Add a random delay (2-5 seconds) to avoid rate limiting\n",
    "            time.sleep(random.uniform(2, 5))\n",
    "            return df  # Successfully downloaded\n",
    "\n",
    "        except Exception as e:\n",
    "            print(f\"⚠️ Error downloading {asset_name}: {e}\")\n",
    "            retries += 1\n",
    "            time.sleep(10)  # Longer wait before retrying\n",
    "    \n",
    "    print(f\"❌ Failed to download {asset_name} after {max_retries} retries.\")\n",
    "    return None\n",
    "\n",
    "# ✅ Download and save data for all assets\n",
    "for asset_name, ticker in assets.items():\n",
    "    download_data(asset_name, ticker)\n",
    "\n",
    "print(\"🎉 All available data successfully downloaded!\")"
   ]
  }
 ],
 "metadata": {
  "kernelspec": {
   "display_name": "base",
   "language": "python",
   "name": "python3"
  },
  "language_info": {
   "codemirror_mode": {
    "name": "ipython",
    "version": 3
   },
   "file_extension": ".py",
   "mimetype": "text/x-python",
   "name": "python",
   "nbconvert_exporter": "python",
   "pygments_lexer": "ipython3",
   "version": "3.11.8"
  },
  "orig_nbformat": 4
 },
 "nbformat": 4,
 "nbformat_minor": 2
}
