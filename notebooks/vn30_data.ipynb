{
 "cells": [
  {
   "cell_type": "code",
   "execution_count": 1,
   "metadata": {},
   "outputs": [
    {
     "name": "stdout",
     "output_type": "stream",
     "text": [
      "📥 Attempt 1 for ACB (ACB.VN)...\n"
     ]
    },
    {
     "name": "stderr",
     "output_type": "stream",
     "text": [
      "[*********************100%***********************]  1 of 1 completed\n",
      "\n",
      "1 Failed download:\n",
      "['ACB.VN']: ValueError('Length mismatch: Expected axis has 2 elements, new values have 1 elements')\n"
     ]
    },
    {
     "name": "stdout",
     "output_type": "stream",
     "text": [
      "⚠️ No data available for ACB\n",
      "📥 Attempt 1 for BID (BID.VN)...\n"
     ]
    },
    {
     "name": "stderr",
     "output_type": "stream",
     "text": [
      "[*********************100%***********************]  1 of 1 completed\n"
     ]
    },
    {
     "name": "stdout",
     "output_type": "stream",
     "text": [
      "✅ Successfully saved 2784 rows to ../vn_30/BID_historical_data.csv\n",
      "📥 Attempt 1 for BVH (BVH.VN)...\n"
     ]
    },
    {
     "name": "stderr",
     "output_type": "stream",
     "text": [
      "[*********************100%***********************]  1 of 1 completed\n",
      "\n",
      "1 Failed download:\n",
      "['BVH.VN']: ValueError('Length mismatch: Expected axis has 2 elements, new values have 1 elements')\n"
     ]
    },
    {
     "name": "stdout",
     "output_type": "stream",
     "text": [
      "⚠️ No data available for BVH\n",
      "📥 Attempt 1 for CTG (CTG.VN)...\n"
     ]
    },
    {
     "name": "stderr",
     "output_type": "stream",
     "text": [
      "[*********************100%***********************]  1 of 1 completed\n"
     ]
    },
    {
     "name": "stdout",
     "output_type": "stream",
     "text": [
      "✅ Successfully saved 3915 rows to ../vn_30/CTG_historical_data.csv\n",
      "📥 Attempt 1 for FPT (FPT.VN)...\n"
     ]
    },
    {
     "name": "stderr",
     "output_type": "stream",
     "text": [
      "[*********************100%***********************]  1 of 1 completed\n",
      "\n",
      "1 Failed download:\n",
      "['FPT.VN']: ValueError('Length mismatch: Expected axis has 2 elements, new values have 1 elements')\n"
     ]
    },
    {
     "name": "stdout",
     "output_type": "stream",
     "text": [
      "⚠️ No data available for FPT\n",
      "📥 Attempt 1 for GAS (GAS.VN)...\n"
     ]
    },
    {
     "name": "stderr",
     "output_type": "stream",
     "text": [
      "[*********************100%***********************]  1 of 1 completed\n",
      "\n",
      "1 Failed download:\n",
      "['GAS.VN']: ValueError('Length mismatch: Expected axis has 2 elements, new values have 1 elements')\n"
     ]
    },
    {
     "name": "stdout",
     "output_type": "stream",
     "text": [
      "⚠️ No data available for GAS\n",
      "📥 Attempt 1 for HPG (HPG.VN)...\n"
     ]
    },
    {
     "name": "stderr",
     "output_type": "stream",
     "text": [
      "[*********************100%***********************]  1 of 1 completed\n"
     ]
    },
    {
     "name": "stdout",
     "output_type": "stream",
     "text": [
      "✅ Successfully saved 4281 rows to ../vn_30/HPG_historical_data.csv\n",
      "📥 Attempt 1 for MBB (MBB.VN)...\n"
     ]
    },
    {
     "name": "stderr",
     "output_type": "stream",
     "text": [
      "[*********************100%***********************]  1 of 1 completed\n",
      "\n",
      "1 Failed download:\n",
      "['MBB.VN']: ValueError('Length mismatch: Expected axis has 2 elements, new values have 1 elements')\n"
     ]
    },
    {
     "name": "stdout",
     "output_type": "stream",
     "text": [
      "⚠️ No data available for MBB\n",
      "📥 Attempt 1 for MSN (MSN.VN)...\n"
     ]
    },
    {
     "name": "stderr",
     "output_type": "stream",
     "text": [
      "[*********************100%***********************]  1 of 1 completed\n"
     ]
    },
    {
     "name": "stdout",
     "output_type": "stream",
     "text": [
      "✅ Successfully saved 424 rows to ../vn_30/MSN_historical_data.csv\n",
      "📥 Attempt 1 for MWG (MWG.VN)...\n"
     ]
    },
    {
     "name": "stderr",
     "output_type": "stream",
     "text": [
      "[*********************100%***********************]  1 of 1 completed\n",
      "\n",
      "1 Failed download:\n",
      "['MWG.VN']: ValueError('Length mismatch: Expected axis has 2 elements, new values have 1 elements')\n"
     ]
    },
    {
     "name": "stdout",
     "output_type": "stream",
     "text": [
      "⚠️ No data available for MWG\n",
      "📥 Attempt 1 for NVL (NVL.VN)...\n"
     ]
    },
    {
     "name": "stderr",
     "output_type": "stream",
     "text": [
      "[*********************100%***********************]  1 of 1 completed\n"
     ]
    },
    {
     "name": "stdout",
     "output_type": "stream",
     "text": [
      "✅ Successfully saved 424 rows to ../vn_30/NVL_historical_data.csv\n",
      "📥 Attempt 1 for PDR (PDR.VN)...\n"
     ]
    },
    {
     "name": "stderr",
     "output_type": "stream",
     "text": [
      "[*********************100%***********************]  1 of 1 completed\n"
     ]
    },
    {
     "name": "stdout",
     "output_type": "stream",
     "text": [
      "✅ Successfully saved 424 rows to ../vn_30/PDR_historical_data.csv\n",
      "📥 Attempt 1 for PLX (PLX.VN)...\n"
     ]
    },
    {
     "name": "stderr",
     "output_type": "stream",
     "text": [
      "[*********************100%***********************]  1 of 1 completed\n",
      "\n",
      "1 Failed download:\n",
      "['PLX.VN']: ValueError('Length mismatch: Expected axis has 2 elements, new values have 1 elements')\n",
      "[*********************100%***********************]  1 of 1 completed\n",
      "\n",
      "1 Failed download:\n",
      "['PNJ.VN']: ValueError('Length mismatch: Expected axis has 2 elements, new values have 1 elements')\n"
     ]
    },
    {
     "name": "stdout",
     "output_type": "stream",
     "text": [
      "⚠️ No data available for PLX\n",
      "📥 Attempt 1 for PNJ (PNJ.VN)...\n",
      "⚠️ No data available for PNJ\n",
      "📥 Attempt 1 for POW (POW.VN)...\n"
     ]
    },
    {
     "name": "stderr",
     "output_type": "stream",
     "text": [
      "[*********************100%***********************]  1 of 1 completed\n"
     ]
    },
    {
     "name": "stdout",
     "output_type": "stream",
     "text": [
      "✅ Successfully saved 424 rows to ../vn_30/POW_historical_data.csv\n",
      "📥 Attempt 1 for SAB (SAB.VN)...\n"
     ]
    },
    {
     "name": "stderr",
     "output_type": "stream",
     "text": [
      "[*********************100%***********************]  1 of 1 completed\n",
      "\n",
      "1 Failed download:\n",
      "['SAB.VN']: ValueError('Length mismatch: Expected axis has 2 elements, new values have 1 elements')\n"
     ]
    },
    {
     "name": "stdout",
     "output_type": "stream",
     "text": [
      "⚠️ No data available for SAB\n",
      "📥 Attempt 1 for SSI (SSI.VN)...\n"
     ]
    },
    {
     "name": "stderr",
     "output_type": "stream",
     "text": [
      "[*********************100%***********************]  1 of 1 completed\n",
      "\n",
      "1 Failed download:\n",
      "['SSI.VN']: ValueError('Length mismatch: Expected axis has 2 elements, new values have 1 elements')\n"
     ]
    },
    {
     "name": "stdout",
     "output_type": "stream",
     "text": [
      "⚠️ No data available for SSI\n",
      "📥 Attempt 1 for STB (STB.VN)...\n"
     ]
    },
    {
     "name": "stderr",
     "output_type": "stream",
     "text": [
      "[*********************100%***********************]  1 of 1 completed\n"
     ]
    },
    {
     "name": "stdout",
     "output_type": "stream",
     "text": [
      "✅ Successfully saved 424 rows to ../vn_30/STB_historical_data.csv\n",
      "📥 Attempt 1 for TCB (TCB.VN)...\n"
     ]
    },
    {
     "name": "stderr",
     "output_type": "stream",
     "text": [
      "[*********************100%***********************]  1 of 1 completed\n",
      "\n",
      "1 Failed download:\n",
      "['TCB.VN']: ValueError('Length mismatch: Expected axis has 2 elements, new values have 1 elements')\n"
     ]
    },
    {
     "name": "stdout",
     "output_type": "stream",
     "text": [
      "⚠️ No data available for TCB\n",
      "📥 Attempt 1 for TPB (TPB.VN)...\n"
     ]
    },
    {
     "name": "stderr",
     "output_type": "stream",
     "text": [
      "[*********************100%***********************]  1 of 1 completed\n",
      "\n",
      "1 Failed download:\n",
      "['TPB.VN']: ValueError('Length mismatch: Expected axis has 2 elements, new values have 1 elements')\n"
     ]
    },
    {
     "name": "stdout",
     "output_type": "stream",
     "text": [
      "⚠️ No data available for TPB\n",
      "📥 Attempt 1 for VVN (VVN.VN)...\n"
     ]
    },
    {
     "name": "stderr",
     "output_type": "stream",
     "text": [
      "[*********************100%***********************]  1 of 1 completed\n",
      "\n",
      "1 Failed download:\n",
      "['VVN.VN']: YFTzMissingError('possibly delisted; no timezone found')\n"
     ]
    },
    {
     "name": "stdout",
     "output_type": "stream",
     "text": [
      "⚠️ No data available for VVN\n",
      "📥 Attempt 1 for VIB (VIB.VN)...\n"
     ]
    },
    {
     "name": "stderr",
     "output_type": "stream",
     "text": [
      "[*********************100%***********************]  1 of 1 completed\n",
      "\n",
      "1 Failed download:\n",
      "['VIB.VN']: ValueError('Length mismatch: Expected axis has 2 elements, new values have 1 elements')\n"
     ]
    },
    {
     "name": "stdout",
     "output_type": "stream",
     "text": [
      "⚠️ No data available for VIB\n",
      "📥 Attempt 1 for VCB (VCB.VN)...\n"
     ]
    },
    {
     "name": "stderr",
     "output_type": "stream",
     "text": [
      "[*********************100%***********************]  1 of 1 completed\n"
     ]
    },
    {
     "name": "stdout",
     "output_type": "stream",
     "text": [
      "✅ Successfully saved 3930 rows to ../vn_30/VCB_historical_data.csv\n",
      "📥 Attempt 1 for VIC (VIC.VN)...\n"
     ]
    },
    {
     "name": "stderr",
     "output_type": "stream",
     "text": [
      "[*********************100%***********************]  1 of 1 completed\n"
     ]
    },
    {
     "name": "stdout",
     "output_type": "stream",
     "text": [
      "✅ Successfully saved 424 rows to ../vn_30/VIC_historical_data.csv\n",
      "📥 Attempt 1 for VJC (VJC.VN)...\n"
     ]
    },
    {
     "name": "stderr",
     "output_type": "stream",
     "text": [
      "[*********************100%***********************]  1 of 1 completed\n"
     ]
    },
    {
     "name": "stdout",
     "output_type": "stream",
     "text": [
      "✅ Successfully saved 424 rows to ../vn_30/VJC_historical_data.csv\n",
      "📥 Attempt 1 for VNM (VNM.VN)...\n"
     ]
    },
    {
     "name": "stderr",
     "output_type": "stream",
     "text": [
      "[*********************100%***********************]  1 of 1 completed\n",
      "\n",
      "1 Failed download:\n",
      "['VNM.VN']: ValueError('Length mismatch: Expected axis has 2 elements, new values have 1 elements')\n",
      "[*********************100%***********************]  1 of 1 completed\n",
      "\n",
      "1 Failed download:\n",
      "['VPB.VN']: ValueError('Length mismatch: Expected axis has 2 elements, new values have 1 elements')\n"
     ]
    },
    {
     "name": "stdout",
     "output_type": "stream",
     "text": [
      "⚠️ No data available for VNM\n",
      "📥 Attempt 1 for VPB (VPB.VN)...\n",
      "⚠️ No data available for VPB\n",
      "📥 Attempt 1 for VRE (VRE.VN)...\n"
     ]
    },
    {
     "name": "stderr",
     "output_type": "stream",
     "text": [
      "[*********************100%***********************]  1 of 1 completed\n"
     ]
    },
    {
     "name": "stdout",
     "output_type": "stream",
     "text": [
      "✅ Successfully saved 424 rows to ../vn_30/VRE_historical_data.csv\n",
      "📥 Attempt 1 for HDB (HDB.VN)...\n"
     ]
    },
    {
     "name": "stderr",
     "output_type": "stream",
     "text": [
      "[*********************100%***********************]  1 of 1 completed\n",
      "\n",
      "1 Failed download:\n",
      "['HDB.VN']: ValueError('Length mismatch: Expected axis has 2 elements, new values have 1 elements')\n"
     ]
    },
    {
     "name": "stdout",
     "output_type": "stream",
     "text": [
      "⚠️ No data available for HDB\n",
      "📥 Attempt 1 for SHB (SHB.VN)...\n"
     ]
    },
    {
     "name": "stderr",
     "output_type": "stream",
     "text": [
      "[*********************100%***********************]  1 of 1 completed\n",
      "\n",
      "1 Failed download:\n",
      "['SHB.VN']: ValueError('Length mismatch: Expected axis has 2 elements, new values have 1 elements')\n"
     ]
    },
    {
     "name": "stdout",
     "output_type": "stream",
     "text": [
      "⚠️ No data available for SHB\n",
      "🎉 VN30 data download process completed!\n"
     ]
    }
   ],
   "source": [
    "import yfinance as yf\n",
    "import time\n",
    "import random\n",
    "from datetime import datetime\n",
    "import os\n",
    "import pandas as pd\n",
    "import requests\n",
    "\n",
    "# 📅 Set date range\n",
    "start_date = \"2000-07-28\"\n",
    "end_date = datetime.today().strftime(\"%Y-%m-%d\")\n",
    "\n",
    "# 📁 Ensure directory exists\n",
    "os.makedirs(\"../vn_30\", exist_ok=True)  # Fixed path to match your code\n",
    "\n",
    "# 📈 VN30 tickers on Yahoo Finance (HOSE suffix)\n",
    "vn30_tickers = {\n",
    "    \"ACB\": \"ACB.VN\", \"BID\": \"BID.VN\", \"BVH\": \"BVH.VN\", \"CTG\": \"CTG.VN\", \"FPT\": \"FPT.VN\",\n",
    "    \"GAS\": \"GAS.VN\", \"HPG\": \"HPG.VN\", \"MBB\": \"MBB.VN\", \"MSN\": \"MSN.VN\", \"MWG\": \"MWG.VN\",\n",
    "    \"NVL\": \"NVL.VN\", \"PDR\": \"PDR.VN\", \"PLX\": \"PLX.VN\", \"PNJ\": \"PNJ.VN\", \"POW\": \"POW.VN\",\n",
    "    \"SAB\": \"SAB.VN\", \"SSI\": \"SSI.VN\", \"STB\": \"STB.VN\", \"TCB\": \"TCB.VN\", \"TPB\": \"TPB.VN\",\n",
    "    \"VVN\": \"VVN.VN\", \"VIB\": \"VIB.VN\", \"VCB\": \"VCB.VN\", \"VIC\": \"VIC.VN\", \"VJC\": \"VJC.VN\",\n",
    "    \"VNM\": \"VNM.VN\", \"VPB\": \"VPB.VN\", \"VRE\": \"VRE.VN\", \"HDB\": \"HDB.VN\", \"SHB\": \"SHB.VN\"\n",
    "}\n",
    "\n",
    "# ⏳ Enhanced downloader with multiple approaches\n",
    "def download_data(stock_name, ticker, max_retries=3):\n",
    "    retries = 0\n",
    "    while retries < max_retries:\n",
    "        try:\n",
    "            print(f\"📥 Attempt {retries+1} for {stock_name} ({ticker})...\")\n",
    "            \n",
    "            # Try different download methods\n",
    "            if retries == 0:\n",
    "                # Method 1: Standard download\n",
    "                df = yf.download(ticker, start=start_date, end=end_date, \n",
    "                                timeout=20, auto_adjust=False, repair=True)\n",
    "            elif retries == 1:\n",
    "                # Method 2: Use Ticker object\n",
    "                ticker_obj = yf.Ticker(ticker)\n",
    "                df = ticker_obj.history(start=start_date, end=end_date, \n",
    "                                       auto_adjust=False)\n",
    "            else:\n",
    "                # Method 3: Try shorter period first\n",
    "                df = yf.download(ticker, period=\"5y\", auto_adjust=False)\n",
    "                if not df.empty:\n",
    "                    # If short period works, try full period\n",
    "                    df = yf.download(ticker, start=start_date, end=end_date, \n",
    "                                    auto_adjust=False)\n",
    "            \n",
    "            if df.empty:\n",
    "                print(f\"⚠️ No data available for {stock_name}\")\n",
    "                return None\n",
    "                \n",
    "            # Clean and validate data\n",
    "            df = df[~df.index.duplicated()]\n",
    "            df = df.dropna(how='all')\n",
    "            \n",
    "            file_path = f\"../vn_30/{stock_name}_historical_data.csv\"\n",
    "            df.to_csv(file_path)\n",
    "            print(f\"✅ Successfully saved {len(df)} rows to {file_path}\")\n",
    "            \n",
    "            # Random delay between 2-10 seconds\n",
    "            time.sleep(random.uniform(2, 10))\n",
    "            return df\n",
    "\n",
    "        except Exception as e:\n",
    "            print(f\"⚠️ Error downloading {stock_name}: {str(e)[:100]}...\")\n",
    "            retries += 1\n",
    "            time.sleep(random.uniform(5, 15))  # Longer delay after failures\n",
    "    \n",
    "    print(f\"❌ Failed to download {stock_name} after {max_retries} retries\")\n",
    "    return None\n",
    "\n",
    "# 🚀 Loop through all VN30 stocks\n",
    "for stock_name, ticker in vn30_tickers.items():\n",
    "    download_data(stock_name, ticker)\n",
    "\n",
    "print(\"🎉 VN30 data download process completed!\")"
   ]
  }
 ],
 "metadata": {
  "kernelspec": {
   "display_name": "base",
   "language": "python",
   "name": "python3"
  },
  "language_info": {
   "codemirror_mode": {
    "name": "ipython",
    "version": 3
   },
   "file_extension": ".py",
   "mimetype": "text/x-python",
   "name": "python",
   "nbconvert_exporter": "python",
   "pygments_lexer": "ipython3",
   "version": "3.11.8"
  }
 },
 "nbformat": 4,
 "nbformat_minor": 2
}
