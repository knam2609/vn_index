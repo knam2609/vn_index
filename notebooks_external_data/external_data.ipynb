{
 "cells": [
  {
   "cell_type": "code",
   "execution_count": 2,
   "metadata": {},
   "outputs": [
    {
     "name": "stdout",
     "output_type": "stream",
     "text": [
      "2025-05-09\n",
      "📥 Downloading data for S&P_500 (^GSPC)...\n"
     ]
    },
    {
     "name": "stderr",
     "output_type": "stream",
     "text": [
      "[*********************100%***********************]  1 of 1 completed\n",
      "\n",
      "1 Failed download:\n",
      "['^GSPC']: YFRateLimitError('Too Many Requests. Rate limited. Try after a while.')\n"
     ]
    },
    {
     "name": "stdout",
     "output_type": "stream",
     "text": [
      "⚠️ No data available for S&P_500, skipping...\n",
      "📥 Downloading data for DJIA (^DJI)...\n"
     ]
    },
    {
     "name": "stderr",
     "output_type": "stream",
     "text": [
      "[*********************100%***********************]  1 of 1 completed\n",
      "\n",
      "1 Failed download:\n",
      "['^DJI']: YFRateLimitError('Too Many Requests. Rate limited. Try after a while.')\n"
     ]
    },
    {
     "name": "stdout",
     "output_type": "stream",
     "text": [
      "⚠️ No data available for DJIA, skipping...\n",
      "📥 Downloading data for NASDAQ (^IXIC)...\n"
     ]
    },
    {
     "name": "stderr",
     "output_type": "stream",
     "text": [
      "[*********************100%***********************]  1 of 1 completed\n",
      "\n",
      "1 Failed download:\n",
      "['^IXIC']: YFRateLimitError('Too Many Requests. Rate limited. Try after a while.')\n"
     ]
    },
    {
     "name": "stdout",
     "output_type": "stream",
     "text": [
      "⚠️ No data available for NASDAQ, skipping...\n",
      "📥 Downloading data for Shanghai (000001.SS)...\n"
     ]
    },
    {
     "name": "stderr",
     "output_type": "stream",
     "text": [
      "[*********************100%***********************]  1 of 1 completed\n",
      "\n",
      "1 Failed download:\n",
      "['000001.SS']: YFRateLimitError('Too Many Requests. Rate limited. Try after a while.')\n"
     ]
    },
    {
     "name": "stdout",
     "output_type": "stream",
     "text": [
      "⚠️ No data available for Shanghai, skipping...\n",
      "📥 Downloading data for Hang_Seng_Index (^HSI)...\n"
     ]
    },
    {
     "name": "stderr",
     "output_type": "stream",
     "text": [
      "[*********************100%***********************]  1 of 1 completed\n",
      "\n",
      "1 Failed download:\n",
      "['^HSI']: YFRateLimitError('Too Many Requests. Rate limited. Try after a while.')\n"
     ]
    },
    {
     "name": "stdout",
     "output_type": "stream",
     "text": [
      "⚠️ No data available for Hang_Seng_Index, skipping...\n",
      "📥 Downloading data for KOSPI (^KS11)...\n"
     ]
    },
    {
     "name": "stderr",
     "output_type": "stream",
     "text": [
      "[*********************100%***********************]  1 of 1 completed\n",
      "\n",
      "1 Failed download:\n",
      "['^KS11']: YFRateLimitError('Too Many Requests. Rate limited. Try after a while.')\n"
     ]
    },
    {
     "name": "stdout",
     "output_type": "stream",
     "text": [
      "⚠️ No data available for KOSPI, skipping...\n",
      "📥 Downloading data for Taiwan_Weighted_Index (^TWII)...\n"
     ]
    },
    {
     "name": "stderr",
     "output_type": "stream",
     "text": [
      "[*********************100%***********************]  1 of 1 completed\n",
      "\n",
      "1 Failed download:\n",
      "['^TWII']: YFRateLimitError('Too Many Requests. Rate limited. Try after a while.')\n"
     ]
    },
    {
     "name": "stdout",
     "output_type": "stream",
     "text": [
      "⚠️ No data available for Taiwan_Weighted_Index, skipping...\n",
      "📥 Downloading data for FTSE_100 (^FTSE)...\n"
     ]
    },
    {
     "name": "stderr",
     "output_type": "stream",
     "text": [
      "[*********************100%***********************]  1 of 1 completed\n",
      "\n",
      "1 Failed download:\n",
      "['^FTSE']: YFRateLimitError('Too Many Requests. Rate limited. Try after a while.')\n"
     ]
    },
    {
     "name": "stdout",
     "output_type": "stream",
     "text": [
      "⚠️ No data available for FTSE_100, skipping...\n",
      "📥 Downloading data for Brent_Crude_Oil (BZ=F)...\n"
     ]
    },
    {
     "name": "stderr",
     "output_type": "stream",
     "text": [
      "[*********************100%***********************]  1 of 1 completed\n",
      "\n",
      "1 Failed download:\n",
      "['BZ=F']: YFRateLimitError('Too Many Requests. Rate limited. Try after a while.')\n"
     ]
    },
    {
     "name": "stdout",
     "output_type": "stream",
     "text": [
      "⚠️ No data available for Brent_Crude_Oil, skipping...\n",
      "📥 Downloading data for WTI_Crude_Oil (CL=F)...\n"
     ]
    },
    {
     "name": "stderr",
     "output_type": "stream",
     "text": [
      "[*********************100%***********************]  1 of 1 completed\n",
      "\n",
      "1 Failed download:\n",
      "['CL=F']: YFRateLimitError('Too Many Requests. Rate limited. Try after a while.')\n"
     ]
    },
    {
     "name": "stdout",
     "output_type": "stream",
     "text": [
      "⚠️ No data available for WTI_Crude_Oil, skipping...\n",
      "📥 Downloading data for Gold (GC=F)...\n"
     ]
    },
    {
     "name": "stderr",
     "output_type": "stream",
     "text": [
      "[*********************100%***********************]  1 of 1 completed\n",
      "\n",
      "1 Failed download:\n",
      "['GC=F']: YFRateLimitError('Too Many Requests. Rate limited. Try after a while.')\n"
     ]
    },
    {
     "name": "stdout",
     "output_type": "stream",
     "text": [
      "⚠️ No data available for Gold, skipping...\n",
      "📥 Downloading data for LNG (NG=F)...\n"
     ]
    },
    {
     "name": "stderr",
     "output_type": "stream",
     "text": [
      "[*********************100%***********************]  1 of 1 completed\n",
      "\n",
      "1 Failed download:\n",
      "['NG=F']: YFRateLimitError('Too Many Requests. Rate limited. Try after a while.')\n"
     ]
    },
    {
     "name": "stdout",
     "output_type": "stream",
     "text": [
      "⚠️ No data available for LNG, skipping...\n",
      "📥 Downloading data for Copper (HG=F)...\n"
     ]
    },
    {
     "name": "stderr",
     "output_type": "stream",
     "text": [
      "[*********************100%***********************]  1 of 1 completed\n",
      "\n",
      "1 Failed download:\n",
      "['HG=F']: YFRateLimitError('Too Many Requests. Rate limited. Try after a while.')\n"
     ]
    },
    {
     "name": "stdout",
     "output_type": "stream",
     "text": [
      "⚠️ No data available for Copper, skipping...\n",
      "📥 Downloading data for Aluminum (ALI=F)...\n"
     ]
    },
    {
     "name": "stderr",
     "output_type": "stream",
     "text": [
      "[*********************100%***********************]  1 of 1 completed\n",
      "\n",
      "1 Failed download:\n",
      "['ALI=F']: YFRateLimitError('Too Many Requests. Rate limited. Try after a while.')\n"
     ]
    },
    {
     "name": "stdout",
     "output_type": "stream",
     "text": [
      "⚠️ No data available for Aluminum, skipping...\n",
      "📥 Downloading data for Iron_Ore (TIOc1)...\n"
     ]
    },
    {
     "name": "stderr",
     "output_type": "stream",
     "text": [
      "[*********************100%***********************]  1 of 1 completed\n",
      "\n",
      "1 Failed download:\n",
      "['TIOC1']: YFRateLimitError('Too Many Requests. Rate limited. Try after a while.')\n"
     ]
    },
    {
     "name": "stdout",
     "output_type": "stream",
     "text": [
      "⚠️ No data available for Iron_Ore, skipping...\n",
      "📥 Downloading data for USDVND (USDVND=X)...\n"
     ]
    },
    {
     "name": "stderr",
     "output_type": "stream",
     "text": [
      "[*********************100%***********************]  1 of 1 completed\n",
      "\n",
      "1 Failed download:\n",
      "['USDVND=X']: YFRateLimitError('Too Many Requests. Rate limited. Try after a while.')\n"
     ]
    },
    {
     "name": "stdout",
     "output_type": "stream",
     "text": [
      "⚠️ No data available for USDVND, skipping...\n",
      "📥 Downloading data for CNYVND (CNYVND=X)...\n"
     ]
    },
    {
     "name": "stderr",
     "output_type": "stream",
     "text": [
      "[*********************100%***********************]  1 of 1 completed\n",
      "\n",
      "1 Failed download:\n",
      "['CNYVND=X']: YFRateLimitError('Too Many Requests. Rate limited. Try after a while.')\n"
     ]
    },
    {
     "name": "stdout",
     "output_type": "stream",
     "text": [
      "⚠️ No data available for CNYVND, skipping...\n",
      "📥 Downloading data for JPYVND (JPYVND=X)...\n"
     ]
    },
    {
     "name": "stderr",
     "output_type": "stream",
     "text": [
      "[*********************100%***********************]  1 of 1 completed\n",
      "\n",
      "1 Failed download:\n",
      "['JPYVND=X']: YFRateLimitError('Too Many Requests. Rate limited. Try after a while.')\n"
     ]
    },
    {
     "name": "stdout",
     "output_type": "stream",
     "text": [
      "⚠️ No data available for JPYVND, skipping...\n",
      "📥 Downloading data for KRWVND (KRWVND=X)...\n"
     ]
    },
    {
     "name": "stderr",
     "output_type": "stream",
     "text": [
      "[*********************100%***********************]  1 of 1 completed\n",
      "\n",
      "1 Failed download:\n",
      "['KRWVND=X']: YFRateLimitError('Too Many Requests. Rate limited. Try after a while.')\n"
     ]
    },
    {
     "name": "stdout",
     "output_type": "stream",
     "text": [
      "⚠️ No data available for KRWVND, skipping...\n",
      "📥 Downloading data for EURVND (EURVND=X)...\n"
     ]
    },
    {
     "name": "stderr",
     "output_type": "stream",
     "text": [
      "[*********************100%***********************]  1 of 1 completed\n",
      "\n",
      "1 Failed download:\n",
      "['EURVND=X']: YFRateLimitError('Too Many Requests. Rate limited. Try after a while.')\n"
     ]
    },
    {
     "name": "stdout",
     "output_type": "stream",
     "text": [
      "⚠️ No data available for EURVND, skipping...\n",
      "📥 Downloading data for US_10Y_Treasury_Yield (^TNX)...\n"
     ]
    },
    {
     "name": "stderr",
     "output_type": "stream",
     "text": [
      "[*********************100%***********************]  1 of 1 completed\n",
      "\n",
      "1 Failed download:\n",
      "['^TNX']: YFRateLimitError('Too Many Requests. Rate limited. Try after a while.')\n"
     ]
    },
    {
     "name": "stdout",
     "output_type": "stream",
     "text": [
      "⚠️ No data available for US_10Y_Treasury_Yield, skipping...\n",
      "🎉 All available data successfully downloaded!\n"
     ]
    }
   ],
   "source": [
    "import yfinance as yf\n",
    "import time\n",
    "import random\n",
    "from datetime import datetime, timedelta\n",
    "\n",
    "# 📅 Define start and end dates\n",
    "start_date = \"2000-07-28\"\n",
    "end_date = datetime.today().strftime(\"%Y-%m-%d\")\n",
    "# end_date = (datetime.today() - timedelta(days=1)).strftime(\"%Y-%m-%d\")\n",
    "print(end_date)\n",
    "# 📊 Financial & Commodity Data (from Yahoo Finance)\n",
    "assets = {\n",
    "    \"S&P_500\": \"^GSPC\",\n",
    "    \"DJIA\": \"^DJI\",\n",
    "    \"NASDAQ\": \"^IXIC\",\n",
    "    \"Shanghai\": \"000001.SS\",\n",
    "    \"Hang_Seng_Index\": \"^HSI\",\n",
    "    \"KOSPI\": \"^KS11\",\n",
    "    \"Taiwan_Weighted_Index\": \"^TWII\",\n",
    "    \"FTSE_100\": \"^FTSE\",\n",
    "    \"Brent_Crude_Oil\": \"BZ=F\",\n",
    "    \"WTI_Crude_Oil\": \"CL=F\",\n",
    "    \"Gold\": \"GC=F\",\n",
    "    \"LNG\": \"NG=F\",\n",
    "    \"Copper\": \"HG=F\",\n",
    "    \"Aluminum\": \"ALI=F\",\n",
    "    \"Iron_Ore\": \"TIOc1\",\n",
    "    \"USDVND\": \"USDVND=X\",\n",
    "    \"CNYVND\": \"CNYVND=X\",\n",
    "    \"JPYVND\": \"JPYVND=X\",\n",
    "    \"KRWVND\": \"KRWVND=X\",\n",
    "    \"EURVND\": \"EURVND=X\",\n",
    "    \"US_10Y_Treasury_Yield\": \"^TNX\"\n",
    "}\n",
    "\n",
    "# ✅ Function to download data with retry logic & random delay\n",
    "def download_data(asset_name, ticker, max_retries=3):\n",
    "    retries = 0\n",
    "    while retries < max_retries:\n",
    "        try:\n",
    "            print(f\"📥 Downloading data for {asset_name} ({ticker})...\")\n",
    "            df = yf.download(ticker, start=start_date, end=end_date, timeout=20)\n",
    "            \n",
    "            if df.empty:\n",
    "                print(f\"⚠️ No data available for {asset_name}, skipping...\")\n",
    "                return None\n",
    "            \n",
    "            # Save to CSV with sanitized filename\n",
    "            file_name = f\"../external_data/{asset_name.replace('/', '_').replace('=', '_')}_historical_data.csv\"\n",
    "            df.to_csv(file_name)\n",
    "            print(f\"✅ Data saved to {file_name}\")\n",
    "            \n",
    "            # 🕒 Add a random delay (2-5 seconds) to avoid rate limiting\n",
    "            time.sleep(random.uniform(2, 5))\n",
    "            return df  # Successfully downloaded\n",
    "\n",
    "        except Exception as e:\n",
    "            print(f\"⚠️ Error downloading {asset_name}: {e}\")\n",
    "            retries += 1\n",
    "            time.sleep(10)  # Longer wait before retrying\n",
    "    \n",
    "    print(f\"❌ Failed to download {asset_name} after {max_retries} retries.\")\n",
    "    return None\n",
    "\n",
    "# ✅ Download and save data for all assets\n",
    "for asset_name, ticker in assets.items():\n",
    "    download_data(asset_name, ticker)\n",
    "\n",
    "print(\"🎉 All available data successfully downloaded!\")"
   ]
  }
 ],
 "metadata": {
  "kernelspec": {
   "display_name": "base",
   "language": "python",
   "name": "python3"
  },
  "language_info": {
   "codemirror_mode": {
    "name": "ipython",
    "version": 3
   },
   "file_extension": ".py",
   "mimetype": "text/x-python",
   "name": "python",
   "nbconvert_exporter": "python",
   "pygments_lexer": "ipython3",
   "version": "3.11.8"
  },
  "orig_nbformat": 4
 },
 "nbformat": 4,
 "nbformat_minor": 2
}
