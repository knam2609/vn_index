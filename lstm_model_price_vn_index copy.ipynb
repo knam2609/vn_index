{
 "cells": [
  {
   "cell_type": "code",
   "execution_count": 1,
   "metadata": {},
   "outputs": [],
   "source": [
    "import sys\n",
    "from pathlib import Path\n",
    "\n",
    "# Go two levels up to reach project root\n",
    "project_root = Path.cwd().parents[1]  # from subfolder/ to notebook_folder/ to project_root/\n",
    "scripts_path = project_root / \"scripts\"\n",
    "\n",
    "if str(project_root) not in sys.path:\n",
    "    sys.path.insert(0, str(project_root))"
   ]
  },
  {
   "cell_type": "code",
   "execution_count": null,
   "metadata": {},
   "outputs": [],
   "source": [
    "# from scripts.general_scripts.features_engineering import quicky_data, lag_features_indicators\n",
    "# from scripts.general_scripts.lstm import LSTMModelMultiOutput\n",
    "# from scripts.general_scripts.helper import CustomizedLoss\n",
    "# import pandas as pd \n",
    "# from sklearn.preprocessing import StandardScaler\n",
    "from scripts.general_scripts.model_shorcut import test_predict\n",
    "# from render_app.run_test_predict import main"
   ]
  },
  {
   "cell_type": "code",
   "execution_count": null,
   "metadata": {},
   "outputs": [],
   "source": [
    "scaler = StandardScaler()\n",
    "model_type = LSTMModelMultiOutput\n",
    "criterion = CustomizedLoss()\n",
    "n_lags = 5\n",
    "n_forecasts = 2\n",
    "seasonal_periods = 261"
   ]
  },
  {
   "cell_type": "code",
   "execution_count": null,
   "metadata": {},
   "outputs": [],
   "source": [
    "# 📂 Load dataset\n",
    "file_path_1 = \"ready_data/vn_index_data/cleaned_vn_index_data.csv\"\n",
    "df = pd.read_csv(file_path_1)\n",
    "print(df.columns)\n",
    "df_1 = quicky_data(df.copy(), seasonal_periods, plot=True)"
   ]
  },
  {
   "cell_type": "code",
   "execution_count": null,
   "metadata": {},
   "outputs": [],
   "source": [
    "df_1.tail(20)"
   ]
  },
  {
   "cell_type": "code",
   "execution_count": null,
   "metadata": {},
   "outputs": [],
   "source": [
    "df.iloc[-21:]"
   ]
  },
  {
   "cell_type": "code",
   "execution_count": null,
   "metadata": {},
   "outputs": [],
   "source": [
    "# final_df, metrics_df, forecast_df = test_predict(df, 20, n_forecasts, seasonal_periods, scaler, 'LSTM', criterion, n_lags)"
   ]
  },
  {
   "cell_type": "code",
   "execution_count": null,
   "metadata": {},
   "outputs": [],
   "source": [
    "main()"
   ]
  }
 ],
 "metadata": {
  "kernelspec": {
   "display_name": "base",
   "language": "python",
   "name": "python3"
  },
  "language_info": {
   "codemirror_mode": {
    "name": "ipython",
    "version": 3
   },
   "file_extension": ".py",
   "mimetype": "text/x-python",
   "name": "python",
   "nbconvert_exporter": "python",
   "pygments_lexer": "ipython3",
   "version": "3.11.8"
  },
  "orig_nbformat": 4
 },
 "nbformat": 4,
 "nbformat_minor": 2
}
