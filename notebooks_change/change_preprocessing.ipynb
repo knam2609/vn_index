{
 "cells": [
  {
   "cell_type": "code",
   "execution_count": 15,
   "metadata": {},
   "outputs": [],
   "source": [
    "# Re-import needed modules after reset\n",
    "import pandas as pd\n",
    "\n",
    "# Reload the uploaded file\n",
    "df = pd.read_csv(\"../vn_index/hose_historical_data.csv\")\n",
    "\n",
    "# Extract Date and Change columns\n",
    "df_change = df[['Date', 'Change']].copy()\n",
    "\n",
    "# Convert 'Date' to datetime type\n",
    "df_change['Date'] = pd.to_datetime(df['Date'], format='%m/%d/%Y')\n",
    "\n",
    "df_change = df_change.sort_values('Date')\n",
    "\n",
    "# Save the cleaned DataFrame to a new CSV\n",
    "df_change.to_csv('../ready_data/change.csv', index=False)"
   ]
  }
 ],
 "metadata": {
  "kernelspec": {
   "display_name": "base",
   "language": "python",
   "name": "python3"
  },
  "language_info": {
   "codemirror_mode": {
    "name": "ipython",
    "version": 3
   },
   "file_extension": ".py",
   "mimetype": "text/x-python",
   "name": "python",
   "nbconvert_exporter": "python",
   "pygments_lexer": "ipython3",
   "version": "3.11.8"
  }
 },
 "nbformat": 4,
 "nbformat_minor": 2
}
