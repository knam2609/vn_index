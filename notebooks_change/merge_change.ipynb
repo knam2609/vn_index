{
 "cells": [
  {
   "cell_type": "code",
   "execution_count": 13,
   "metadata": {},
   "outputs": [],
   "source": [
    "import pandas as pd"
   ]
  },
  {
   "cell_type": "code",
   "execution_count": 14,
   "metadata": {},
   "outputs": [],
   "source": [
    "# Load the datasets\n",
    "change_df = pd.read_csv(\"../ready_data/change.csv\")\n",
    "vn_index_df = pd.read_csv(\"../ready_data/cleaned_vn_index_data.csv\")\n",
    "external_df = pd.read_csv(\"../ready_data/vn_index_external_data.csv\")\n",
    "merged_df = pd.read_csv(\"../ready_data/vn_index_merged_data.csv\")"
   ]
  },
  {
   "cell_type": "code",
   "execution_count": 15,
   "metadata": {},
   "outputs": [],
   "source": [
    "# Perform an inner merge:\n",
    "change_vn_index = pd.merge(change_df, vn_index_df, how='inner', on='Date')\n",
    "change_external = pd.merge(change_df, external_df, how='inner', on='Date')\n",
    "change_merged = pd.merge(change_df, merged_df, how='inner', on='Date')"
   ]
  },
  {
   "cell_type": "code",
   "execution_count": 16,
   "metadata": {},
   "outputs": [],
   "source": [
    "change_vn_index.to_csv(\"../ready_data/change_vn_index.csv\", index=False)\n",
    "change_external.to_csv(\"../ready_data/change_external.csv\", index=False)\n",
    "change_merged.to_csv(\"../ready_data/change_merged.csv\", index=False)"
   ]
  }
 ],
 "metadata": {
  "kernelspec": {
   "display_name": "base",
   "language": "python",
   "name": "python3"
  },
  "language_info": {
   "codemirror_mode": {
    "name": "ipython",
    "version": 3
   },
   "file_extension": ".py",
   "mimetype": "text/x-python",
   "name": "python",
   "nbconvert_exporter": "python",
   "pygments_lexer": "ipython3",
   "version": "3.11.8"
  }
 },
 "nbformat": 4,
 "nbformat_minor": 2
}
