{
 "cells": [
  {
   "cell_type": "code",
   "execution_count": 1,
   "metadata": {},
   "outputs": [
    {
     "name": "stdout",
     "output_type": "stream",
     "text": [
      "✅ Processed: VRE\n",
      "✅ Processed: VIB\n",
      "✅ Processed: STB\n",
      "✅ Processed: VIC\n",
      "✅ Processed: VCB\n",
      "✅ Processed: MSN\n",
      "✅ Processed: MWG\n",
      "✅ Processed: PLX\n",
      "✅ Processed: TCB\n",
      "✅ Processed: FPT\n",
      "✅ Processed: VHM\n",
      "✅ Processed: HDB\n",
      "✅ Processed: HPG\n",
      "✅ Processed: ACB\n",
      "✅ Processed: MBB\n",
      "✅ Processed: SAB\n",
      "✅ Processed: NVL\n",
      "✅ Processed: PNJ\n",
      "✅ Processed: SHB\n",
      "✅ Processed: VPB\n",
      "✅ Processed: POW\n",
      "✅ Processed: TPB\n",
      "✅ Processed: GAS\n",
      "✅ Processed: CTG\n",
      "✅ Processed: VNM\n",
      "✅ Processed: PDR\n",
      "✅ Processed: SSI\n",
      "✅ Processed: BVH\n",
      "✅ Processed: VJC\n",
      "✅ Processed: BID\n",
      "🎉 Preprocessing complete! Data saved to `cleaned_vn30_list_data.csv`\n"
     ]
    },
    {
     "name": "stderr",
     "output_type": "stream",
     "text": [
      "/var/folders/fl/t1q3j3rn0dg278fhg2bvg0dw0000gn/T/ipykernel_13125/413272804.py:47: FutureWarning: DataFrame.fillna with 'method' is deprecated and will raise in a future version. Use obj.ffill() or obj.bfill() instead.\n",
      "  merged_df.fillna(method='ffill', inplace=True)  # Forward fill\n",
      "/var/folders/fl/t1q3j3rn0dg278fhg2bvg0dw0000gn/T/ipykernel_13125/413272804.py:48: FutureWarning: DataFrame.fillna with 'method' is deprecated and will raise in a future version. Use obj.ffill() or obj.bfill() instead.\n",
      "  merged_df.fillna(method='bfill', inplace=True)  # Backward fill (if needed)\n"
     ]
    }
   ],
   "source": [
    "import os\n",
    "import pandas as pd\n",
    "import numpy as np\n",
    "from datetime import datetime\n",
    "\n",
    "# 📂 Define the folder containing all CSV files\n",
    "data_folder = \"../vn_30_list\"\n",
    "\n",
    "# ✅ Function to preprocess a single CSV file\n",
    "def preprocess_file(file_path):\n",
    "    try:\n",
    "        # Read CSV, skipping first two rows to fix column names issue\n",
    "        df = pd.read_csv(file_path)\n",
    "\n",
    "        # Ensure 'Date' is parsed correctly\n",
    "        df['Date'] = pd.to_datetime(df['Date'])\n",
    "        df['Close'] = df['Close'].astype(float)\n",
    "\n",
    "        df = df[['Date', 'Close']]\n",
    "\n",
    "        # Rename columns: Add file name as prefix to avoid conflicts\n",
    "        file_name = os.path.basename(file_path).replace(\"_historical_data.csv\", \"\")\n",
    "        df.rename(columns={'Close': f\"{file_name}_Close\"}, inplace=True)\n",
    "\n",
    "        print(f\"✅ Processed: {file_name}\")\n",
    "        return df\n",
    "    except Exception as e:\n",
    "        print(f\"⚠️ Error processing {file_path}: {e}\")\n",
    "        return None\n",
    "\n",
    "# ✅ Read all CSV files in the folder\n",
    "all_dataframes = []\n",
    "for file in os.listdir(data_folder):\n",
    "    if file.endswith(\".csv\"):\n",
    "        file_path = os.path.join(data_folder, file)\n",
    "        df = preprocess_file(file_path)\n",
    "        if df is not None:\n",
    "            all_dataframes.append(df)\n",
    "\n",
    "# ✅ Merge all data on Date\n",
    "if all_dataframes:\n",
    "    merged_df = all_dataframes[0]\n",
    "    for df in all_dataframes[1:]:\n",
    "        merged_df = pd.merge(merged_df, df, on=\"Date\", how=\"inner\")\n",
    "\n",
    "    # ✅ Handle missing values (Forward Fill & Backward Fill)\n",
    "    merged_df.fillna(method='ffill', inplace=True)  # Forward fill\n",
    "    merged_df.fillna(method='bfill', inplace=True)  # Backward fill (if needed)\n",
    "\n",
    "    merged_df = merged_df.sort_values(by='Date')\n",
    "\n",
    "    # ✅ Save preprocessed data\n",
    "    merged_df.to_csv(\"../ready_data/cleaned_vn30_list_data.csv\", index=False)\n",
    "    print(\"🎉 Preprocessing complete! Data saved to `cleaned_vn30_list_data.csv`\")\n",
    "else:\n",
    "    print(\"⚠️ No valid CSV files found in the folder.\")"
   ]
  }
 ],
 "metadata": {
  "kernelspec": {
   "display_name": "base",
   "language": "python",
   "name": "python3"
  },
  "language_info": {
   "codemirror_mode": {
    "name": "ipython",
    "version": 3
   },
   "file_extension": ".py",
   "mimetype": "text/x-python",
   "name": "python",
   "nbconvert_exporter": "python",
   "pygments_lexer": "ipython3",
   "version": "3.11.8"
  }
 },
 "nbformat": 4,
 "nbformat_minor": 2
}
