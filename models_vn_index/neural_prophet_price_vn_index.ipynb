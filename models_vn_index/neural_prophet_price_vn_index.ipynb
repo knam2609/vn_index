{
 "cells": [
  {
   "cell_type": "code",
   "execution_count": 6,
   "id": "88eeb36a",
   "metadata": {},
   "outputs": [],
   "source": [
    "import sys, os\n",
    "\n",
    "# Add project_root to sys.path so Python can find `scripts/`\n",
    "project_root = os.path.abspath(os.path.join(os.getcwd(), \"..\"))\n",
    "if project_root not in sys.path:\n",
    "    sys.path.insert(0, project_root)"
   ]
  },
  {
   "cell_type": "code",
   "execution_count": 7,
   "id": "d7c200c6",
   "metadata": {},
   "outputs": [],
   "source": [
    "from neuralprophet import NeuralProphet, set_random_seed, set_log_level\n",
    "from scripts.features_engineering import quicky_data, lag_features_indicators\n",
    "from scripts.helper import CustomizedLoss\n",
    "import pandas as pd\n",
    "import numpy as np \n",
    "from sklearn.preprocessing import MinMaxScaler, StandardScaler\n",
    "\n",
    "set_random_seed(0)\n",
    "# Disable logging messages unless there is an error\n",
    "set_log_level(\"ERROR\")\n"
   ]
  },
  {
   "cell_type": "code",
   "execution_count": 8,
   "id": "d2992d63",
   "metadata": {},
   "outputs": [],
   "source": [
    "def modify(df, forecast=5):\n",
    "    # figure out where 'yhat1' lives\n",
    "    col_idx = df.columns.get_loc('yhat1')\n",
    "\n",
    "    # loop 1…9\n",
    "    for i in range(1, forecast):\n",
    "        # compute which yhatN we need\n",
    "        which = forecast - i + 1          # 10→1, 9→2, …, 2→9\n",
    "        val   = df.iloc[-i][f'yhat{which}'] \n",
    "        # row number = -i (so i=1 → last row, i=9 → 9th-from-last)\n",
    "        df.iat[-i, col_idx] = val\n",
    "\n",
    "    j = 0\n",
    "    for i in range(forecast+1, forecast+6):\n",
    "        which = min(5, forecast - j +1)\n",
    "        print(which)\n",
    "        print(df.iloc[-i]['ds'])\n",
    "\n",
    "        val = df.iloc[-i][f'yhat{which}']\n",
    "        df.iat[-i, col_idx] = val\n",
    "        j += 1"
   ]
  },
  {
   "cell_type": "code",
   "execution_count": 9,
   "id": "17166fdc",
   "metadata": {},
   "outputs": [],
   "source": [
    "\n",
    "# 1) Instantiate a NeuralProphet model that learns from the past 60 days (n_lags)\n",
    "#    to forecast the next 10 days (n_forecasts), with trend + all seasonalities on.\n",
    "m = NeuralProphet(\n",
    "    n_lags=45,                 # look back this many days as inputs\n",
    "    n_forecasts=5,            # predict this many days ahead\n",
    "    yearly_seasonality=True,   # model an annual cycle\n",
    "    weekly_seasonality=True,   # model day-of-week cycle\n",
    "    daily_seasonality=False,    # if intra-day data; set False for daily only\n",
    "    seasonality_mode='additive',\n",
    "    n_changepoints=10,\n",
    "    # you can also tweak trend flexibility:\n",
    "    trend_reg=0.5,                  \n",
    "    trend_reg_threshold=True,\n",
    "    normalize='standardize',\n",
    "    drop_missing=True,\n",
    ")\n",
    "m.set_plotting_backend(\"plotly-static\")\n",
    "# m.add_country_holidays('VN')"
   ]
  },
  {
   "cell_type": "code",
   "execution_count": 10,
   "id": "2b552aee",
   "metadata": {},
   "outputs": [],
   "source": [
    "# 📂 Load dataset\n",
    "file_path_1 = \"../ready_data/cleaned_vn_index_data.csv\"\n",
    "df_1 = pd.read_csv(file_path_1)\n",
    "\n",
    "# df_1.drop(columns=['Index'], inplace=True)\n",
    "\n",
    "df = (\n",
    "    df_1[['Date', 'VN_Index_Close']].rename(columns={\n",
    "          'Date': 'ds',\n",
    "          'VN_Index_Close': 'y'\n",
    "      })\n",
    ")\n",
    "\n",
    "# convert the 'ds' column to datetime\n",
    "df['ds'] = pd.to_datetime(df['ds'])\n"
   ]
  },
  {
   "cell_type": "code",
   "execution_count": 20,
   "id": "26cfd3e2",
   "metadata": {},
   "outputs": [
    {
     "data": {
      "text/html": [
       "<div>\n",
       "<style scoped>\n",
       "    .dataframe tbody tr th:only-of-type {\n",
       "        vertical-align: middle;\n",
       "    }\n",
       "\n",
       "    .dataframe tbody tr th {\n",
       "        vertical-align: top;\n",
       "    }\n",
       "\n",
       "    .dataframe thead th {\n",
       "        text-align: right;\n",
       "    }\n",
       "</style>\n",
       "<table border=\"1\" class=\"dataframe\">\n",
       "  <thead>\n",
       "    <tr style=\"text-align: right;\">\n",
       "      <th></th>\n",
       "      <th>ds</th>\n",
       "      <th>y</th>\n",
       "    </tr>\n",
       "  </thead>\n",
       "  <tbody>\n",
       "    <tr>\n",
       "      <th>0</th>\n",
       "      <td>2007-01-02</td>\n",
       "      <td>741.27</td>\n",
       "    </tr>\n",
       "    <tr>\n",
       "      <th>1</th>\n",
       "      <td>2007-01-03</td>\n",
       "      <td>757.71</td>\n",
       "    </tr>\n",
       "    <tr>\n",
       "      <th>2</th>\n",
       "      <td>2007-01-08</td>\n",
       "      <td>825.11</td>\n",
       "    </tr>\n",
       "    <tr>\n",
       "      <th>3</th>\n",
       "      <td>2007-01-09</td>\n",
       "      <td>844.91</td>\n",
       "    </tr>\n",
       "    <tr>\n",
       "      <th>4</th>\n",
       "      <td>2007-01-10</td>\n",
       "      <td>865.71</td>\n",
       "    </tr>\n",
       "    <tr>\n",
       "      <th>...</th>\n",
       "      <td>...</td>\n",
       "      <td>...</td>\n",
       "    </tr>\n",
       "    <tr>\n",
       "      <th>4304</th>\n",
       "      <td>2025-04-29</td>\n",
       "      <td>1226.30</td>\n",
       "    </tr>\n",
       "    <tr>\n",
       "      <th>4305</th>\n",
       "      <td>2025-05-05</td>\n",
       "      <td>1240.05</td>\n",
       "    </tr>\n",
       "    <tr>\n",
       "      <th>4306</th>\n",
       "      <td>2025-05-06</td>\n",
       "      <td>1241.95</td>\n",
       "    </tr>\n",
       "    <tr>\n",
       "      <th>4307</th>\n",
       "      <td>2025-05-07</td>\n",
       "      <td>1250.37</td>\n",
       "    </tr>\n",
       "    <tr>\n",
       "      <th>4308</th>\n",
       "      <td>2025-05-08</td>\n",
       "      <td>1269.80</td>\n",
       "    </tr>\n",
       "  </tbody>\n",
       "</table>\n",
       "<p>4309 rows × 2 columns</p>\n",
       "</div>"
      ],
      "text/plain": [
       "             ds        y\n",
       "0    2007-01-02   741.27\n",
       "1    2007-01-03   757.71\n",
       "2    2007-01-08   825.11\n",
       "3    2007-01-09   844.91\n",
       "4    2007-01-10   865.71\n",
       "...         ...      ...\n",
       "4304 2025-04-29  1226.30\n",
       "4305 2025-05-05  1240.05\n",
       "4306 2025-05-06  1241.95\n",
       "4307 2025-05-07  1250.37\n",
       "4308 2025-05-08  1269.80\n",
       "\n",
       "[4309 rows x 2 columns]"
      ]
     },
     "execution_count": 20,
     "metadata": {},
     "output_type": "execute_result"
    }
   ],
   "source": [
    "df"
   ]
  },
  {
   "cell_type": "code",
   "execution_count": 12,
   "id": "a4242efd",
   "metadata": {},
   "outputs": [],
   "source": [
    "# m.add_lagged_regressor('Total Volume', normalize='standardize')"
   ]
  },
  {
   "cell_type": "code",
   "execution_count": 13,
   "id": "af5ce736",
   "metadata": {},
   "outputs": [
    {
     "data": {
      "application/vnd.jupyter.widget-view+json": {
       "model_id": "57ff3ad76d15493ab41e4f41bcdf63e5",
       "version_major": 2,
       "version_minor": 0
      },
      "text/plain": [
       "Training: |          | 0/? [00:00<?, ?it/s]"
      ]
     },
     "metadata": {},
     "output_type": "display_data"
    },
    {
     "data": {
      "application/vnd.jupyter.widget-view+json": {
       "model_id": "92e729a783a1433dad527feb379d6ebb",
       "version_major": 2,
       "version_minor": 0
      },
      "text/plain": [
       "Finding best initial lr:   0%|          | 0/242 [00:00<?, ?it/s]"
      ]
     },
     "metadata": {},
     "output_type": "display_data"
    },
    {
     "name": "stderr",
     "output_type": "stream",
     "text": [
      "WARNING - (py.warnings._showwarnmsg) - /opt/anaconda3/lib/python3.11/site-packages/pytorch_lightning/utilities/data.py:79: Trying to infer the `batch_size` from an ambiguous collection. The batch size we found is 64. To avoid any miscalculations, use `self.log(..., batch_size=batch_size)`.\n",
      "\n",
      "WARNING - (py.warnings._showwarnmsg) - /opt/anaconda3/lib/python3.11/site-packages/pytorch_lightning/utilities/data.py:79: Trying to infer the `batch_size` from an ambiguous collection. The batch size we found is 8. To avoid any miscalculations, use `self.log(..., batch_size=batch_size)`.\n",
      "\n"
     ]
    },
    {
     "data": {
      "application/vnd.jupyter.widget-view+json": {
       "model_id": "fcb0aa1fb39242c39a5969c0cd2fc3fe",
       "version_major": 2,
       "version_minor": 0
      },
      "text/plain": [
       "Training: |          | 0/? [00:00<?, ?it/s]"
      ]
     },
     "metadata": {},
     "output_type": "display_data"
    },
    {
     "data": {
      "application/vnd.jupyter.widget-view+json": {
       "model_id": "14e17ebd5b5a4bcaa5655eaffe0879d4",
       "version_major": 2,
       "version_minor": 0
      },
      "text/plain": [
       "Validation: |          | 0/? [00:00<?, ?it/s]"
      ]
     },
     "metadata": {},
     "output_type": "display_data"
    },
    {
     "data": {
      "application/vnd.jupyter.widget-view+json": {
       "model_id": "b47bfb0c844146638467e7fabd4c6598",
       "version_major": 2,
       "version_minor": 0
      },
      "text/plain": [
       "Validation: |          | 0/? [00:00<?, ?it/s]"
      ]
     },
     "metadata": {},
     "output_type": "display_data"
    },
    {
     "data": {
      "application/vnd.jupyter.widget-view+json": {
       "model_id": "28802af860814013bebb178afb815986",
       "version_major": 2,
       "version_minor": 0
      },
      "text/plain": [
       "Validation: |          | 0/? [00:00<?, ?it/s]"
      ]
     },
     "metadata": {},
     "output_type": "display_data"
    },
    {
     "data": {
      "application/vnd.jupyter.widget-view+json": {
       "model_id": "2933328f3bb3474292ee69973fb3d0d4",
       "version_major": 2,
       "version_minor": 0
      },
      "text/plain": [
       "Validation: |          | 0/? [00:00<?, ?it/s]"
      ]
     },
     "metadata": {},
     "output_type": "display_data"
    },
    {
     "data": {
      "application/vnd.jupyter.widget-view+json": {
       "model_id": "a7d84a7a5b0844cfaf45acf2f45266b4",
       "version_major": 2,
       "version_minor": 0
      },
      "text/plain": [
       "Validation: |          | 0/? [00:00<?, ?it/s]"
      ]
     },
     "metadata": {},
     "output_type": "display_data"
    },
    {
     "data": {
      "application/vnd.jupyter.widget-view+json": {
       "model_id": "b30af655dacf40fca9ce64d53b494d80",
       "version_major": 2,
       "version_minor": 0
      },
      "text/plain": [
       "Validation: |          | 0/? [00:00<?, ?it/s]"
      ]
     },
     "metadata": {},
     "output_type": "display_data"
    },
    {
     "data": {
      "application/vnd.jupyter.widget-view+json": {
       "model_id": "a9f4dc148de449338f2d7ae51e20ab90",
       "version_major": 2,
       "version_minor": 0
      },
      "text/plain": [
       "Validation: |          | 0/? [00:00<?, ?it/s]"
      ]
     },
     "metadata": {},
     "output_type": "display_data"
    },
    {
     "data": {
      "application/vnd.jupyter.widget-view+json": {
       "model_id": "14a3d06aa25e454093560dca6512aa3e",
       "version_major": 2,
       "version_minor": 0
      },
      "text/plain": [
       "Validation: |          | 0/? [00:00<?, ?it/s]"
      ]
     },
     "metadata": {},
     "output_type": "display_data"
    },
    {
     "data": {
      "application/vnd.jupyter.widget-view+json": {
       "model_id": "9009d14693a64ac981c8aa7ab12a9eb9",
       "version_major": 2,
       "version_minor": 0
      },
      "text/plain": [
       "Validation: |          | 0/? [00:00<?, ?it/s]"
      ]
     },
     "metadata": {},
     "output_type": "display_data"
    },
    {
     "data": {
      "application/vnd.jupyter.widget-view+json": {
       "model_id": "fc56386da840407293ff8c42ddfe692b",
       "version_major": 2,
       "version_minor": 0
      },
      "text/plain": [
       "Validation: |          | 0/? [00:00<?, ?it/s]"
      ]
     },
     "metadata": {},
     "output_type": "display_data"
    },
    {
     "data": {
      "application/vnd.jupyter.widget-view+json": {
       "model_id": "b6ed6a886c9e4400af15881b38cc3fd8",
       "version_major": 2,
       "version_minor": 0
      },
      "text/plain": [
       "Validation: |          | 0/? [00:00<?, ?it/s]"
      ]
     },
     "metadata": {},
     "output_type": "display_data"
    },
    {
     "data": {
      "application/vnd.jupyter.widget-view+json": {
       "model_id": "72fb816ea14d462197ade88b2c9a595d",
       "version_major": 2,
       "version_minor": 0
      },
      "text/plain": [
       "Validation: |          | 0/? [00:00<?, ?it/s]"
      ]
     },
     "metadata": {},
     "output_type": "display_data"
    },
    {
     "data": {
      "application/vnd.jupyter.widget-view+json": {
       "model_id": "e71f6887571d46698fb727fc3b0ca0eb",
       "version_major": 2,
       "version_minor": 0
      },
      "text/plain": [
       "Validation: |          | 0/? [00:00<?, ?it/s]"
      ]
     },
     "metadata": {},
     "output_type": "display_data"
    },
    {
     "data": {
      "application/vnd.jupyter.widget-view+json": {
       "model_id": "815956951e2e42169026e00735635699",
       "version_major": 2,
       "version_minor": 0
      },
      "text/plain": [
       "Validation: |          | 0/? [00:00<?, ?it/s]"
      ]
     },
     "metadata": {},
     "output_type": "display_data"
    },
    {
     "data": {
      "application/vnd.jupyter.widget-view+json": {
       "model_id": "9308012f87b0400bacbe783366fd0431",
       "version_major": 2,
       "version_minor": 0
      },
      "text/plain": [
       "Validation: |          | 0/? [00:00<?, ?it/s]"
      ]
     },
     "metadata": {},
     "output_type": "display_data"
    },
    {
     "data": {
      "application/vnd.jupyter.widget-view+json": {
       "model_id": "1f9d3d6a0649488bae7e975516bf1b7f",
       "version_major": 2,
       "version_minor": 0
      },
      "text/plain": [
       "Validation: |          | 0/? [00:00<?, ?it/s]"
      ]
     },
     "metadata": {},
     "output_type": "display_data"
    },
    {
     "data": {
      "application/vnd.jupyter.widget-view+json": {
       "model_id": "907a7f6c1dde4ab8a2f9b42c986cf476",
       "version_major": 2,
       "version_minor": 0
      },
      "text/plain": [
       "Validation: |          | 0/? [00:00<?, ?it/s]"
      ]
     },
     "metadata": {},
     "output_type": "display_data"
    },
    {
     "data": {
      "application/vnd.jupyter.widget-view+json": {
       "model_id": "0cdb7d1b2dcf480997bab5bca3fd1661",
       "version_major": 2,
       "version_minor": 0
      },
      "text/plain": [
       "Validation: |          | 0/? [00:00<?, ?it/s]"
      ]
     },
     "metadata": {},
     "output_type": "display_data"
    },
    {
     "data": {
      "application/vnd.jupyter.widget-view+json": {
       "model_id": "22d90206369041a1b37432e7ed988446",
       "version_major": 2,
       "version_minor": 0
      },
      "text/plain": [
       "Validation: |          | 0/? [00:00<?, ?it/s]"
      ]
     },
     "metadata": {},
     "output_type": "display_data"
    },
    {
     "data": {
      "application/vnd.jupyter.widget-view+json": {
       "model_id": "b4b7883ca1e846b38c5d1ebc6b47ffe8",
       "version_major": 2,
       "version_minor": 0
      },
      "text/plain": [
       "Validation: |          | 0/? [00:00<?, ?it/s]"
      ]
     },
     "metadata": {},
     "output_type": "display_data"
    },
    {
     "data": {
      "application/vnd.jupyter.widget-view+json": {
       "model_id": "a208abecb99e472788dc7a5a92151e2f",
       "version_major": 2,
       "version_minor": 0
      },
      "text/plain": [
       "Validation: |          | 0/? [00:00<?, ?it/s]"
      ]
     },
     "metadata": {},
     "output_type": "display_data"
    },
    {
     "data": {
      "application/vnd.jupyter.widget-view+json": {
       "model_id": "c69ba6792a524a1fb48e84f3813e74ce",
       "version_major": 2,
       "version_minor": 0
      },
      "text/plain": [
       "Validation: |          | 0/? [00:00<?, ?it/s]"
      ]
     },
     "metadata": {},
     "output_type": "display_data"
    },
    {
     "data": {
      "application/vnd.jupyter.widget-view+json": {
       "model_id": "b0422969b6e44cfeab1b28458617d455",
       "version_major": 2,
       "version_minor": 0
      },
      "text/plain": [
       "Validation: |          | 0/? [00:00<?, ?it/s]"
      ]
     },
     "metadata": {},
     "output_type": "display_data"
    },
    {
     "data": {
      "application/vnd.jupyter.widget-view+json": {
       "model_id": "62da9009749540b49c068aec4b5ab18b",
       "version_major": 2,
       "version_minor": 0
      },
      "text/plain": [
       "Validation: |          | 0/? [00:00<?, ?it/s]"
      ]
     },
     "metadata": {},
     "output_type": "display_data"
    },
    {
     "data": {
      "application/vnd.jupyter.widget-view+json": {
       "model_id": "d87f8bf378104b2c832bf9e95cf03557",
       "version_major": 2,
       "version_minor": 0
      },
      "text/plain": [
       "Validation: |          | 0/? [00:00<?, ?it/s]"
      ]
     },
     "metadata": {},
     "output_type": "display_data"
    },
    {
     "data": {
      "application/vnd.jupyter.widget-view+json": {
       "model_id": "a5af0a19aa1a433f97cf85517f70041a",
       "version_major": 2,
       "version_minor": 0
      },
      "text/plain": [
       "Validation: |          | 0/? [00:00<?, ?it/s]"
      ]
     },
     "metadata": {},
     "output_type": "display_data"
    },
    {
     "data": {
      "application/vnd.jupyter.widget-view+json": {
       "model_id": "e9511b91b8814a8b8dd628ebb8a4817b",
       "version_major": 2,
       "version_minor": 0
      },
      "text/plain": [
       "Validation: |          | 0/? [00:00<?, ?it/s]"
      ]
     },
     "metadata": {},
     "output_type": "display_data"
    },
    {
     "data": {
      "application/vnd.jupyter.widget-view+json": {
       "model_id": "2c7090f8aa8749d88f8daa24734b7496",
       "version_major": 2,
       "version_minor": 0
      },
      "text/plain": [
       "Validation: |          | 0/? [00:00<?, ?it/s]"
      ]
     },
     "metadata": {},
     "output_type": "display_data"
    },
    {
     "data": {
      "application/vnd.jupyter.widget-view+json": {
       "model_id": "dfd6997a434f461ea3ba7646af78e608",
       "version_major": 2,
       "version_minor": 0
      },
      "text/plain": [
       "Validation: |          | 0/? [00:00<?, ?it/s]"
      ]
     },
     "metadata": {},
     "output_type": "display_data"
    },
    {
     "data": {
      "application/vnd.jupyter.widget-view+json": {
       "model_id": "40f21037929342ccb37e4fa48ff7ae41",
       "version_major": 2,
       "version_minor": 0
      },
      "text/plain": [
       "Validation: |          | 0/? [00:00<?, ?it/s]"
      ]
     },
     "metadata": {},
     "output_type": "display_data"
    },
    {
     "data": {
      "application/vnd.jupyter.widget-view+json": {
       "model_id": "4a3a69ff7b894114b00fdc0411b6e949",
       "version_major": 2,
       "version_minor": 0
      },
      "text/plain": [
       "Validation: |          | 0/? [00:00<?, ?it/s]"
      ]
     },
     "metadata": {},
     "output_type": "display_data"
    },
    {
     "data": {
      "application/vnd.jupyter.widget-view+json": {
       "model_id": "460c406af3d34a6aa2acac79995d0428",
       "version_major": 2,
       "version_minor": 0
      },
      "text/plain": [
       "Validation: |          | 0/? [00:00<?, ?it/s]"
      ]
     },
     "metadata": {},
     "output_type": "display_data"
    },
    {
     "data": {
      "application/vnd.jupyter.widget-view+json": {
       "model_id": "33e6571c68c9405193dad35f8913f69e",
       "version_major": 2,
       "version_minor": 0
      },
      "text/plain": [
       "Validation: |          | 0/? [00:00<?, ?it/s]"
      ]
     },
     "metadata": {},
     "output_type": "display_data"
    },
    {
     "data": {
      "application/vnd.jupyter.widget-view+json": {
       "model_id": "95677257e38e4462bfa77f8076ed0bcb",
       "version_major": 2,
       "version_minor": 0
      },
      "text/plain": [
       "Validation: |          | 0/? [00:00<?, ?it/s]"
      ]
     },
     "metadata": {},
     "output_type": "display_data"
    },
    {
     "data": {
      "application/vnd.jupyter.widget-view+json": {
       "model_id": "9f5b3a5dd7784e189ed1fcb766473693",
       "version_major": 2,
       "version_minor": 0
      },
      "text/plain": [
       "Validation: |          | 0/? [00:00<?, ?it/s]"
      ]
     },
     "metadata": {},
     "output_type": "display_data"
    },
    {
     "data": {
      "application/vnd.jupyter.widget-view+json": {
       "model_id": "b6e8f06599764a5f938902c65150e237",
       "version_major": 2,
       "version_minor": 0
      },
      "text/plain": [
       "Validation: |          | 0/? [00:00<?, ?it/s]"
      ]
     },
     "metadata": {},
     "output_type": "display_data"
    },
    {
     "data": {
      "application/vnd.jupyter.widget-view+json": {
       "model_id": "f15b320ae82c4c22a0acf8e3e34a5c61",
       "version_major": 2,
       "version_minor": 0
      },
      "text/plain": [
       "Validation: |          | 0/? [00:00<?, ?it/s]"
      ]
     },
     "metadata": {},
     "output_type": "display_data"
    },
    {
     "data": {
      "application/vnd.jupyter.widget-view+json": {
       "model_id": "396889bbcff842ab882eb6c9c20052fe",
       "version_major": 2,
       "version_minor": 0
      },
      "text/plain": [
       "Validation: |          | 0/? [00:00<?, ?it/s]"
      ]
     },
     "metadata": {},
     "output_type": "display_data"
    },
    {
     "data": {
      "application/vnd.jupyter.widget-view+json": {
       "model_id": "308fb2eb0d5749bf883f84d93ac77d7a",
       "version_major": 2,
       "version_minor": 0
      },
      "text/plain": [
       "Validation: |          | 0/? [00:00<?, ?it/s]"
      ]
     },
     "metadata": {},
     "output_type": "display_data"
    },
    {
     "data": {
      "application/vnd.jupyter.widget-view+json": {
       "model_id": "63ab896391a644a4b50e8ad5f934d491",
       "version_major": 2,
       "version_minor": 0
      },
      "text/plain": [
       "Validation: |          | 0/? [00:00<?, ?it/s]"
      ]
     },
     "metadata": {},
     "output_type": "display_data"
    },
    {
     "data": {
      "application/vnd.jupyter.widget-view+json": {
       "model_id": "eefa3325af6e4618a5ad524eb516716c",
       "version_major": 2,
       "version_minor": 0
      },
      "text/plain": [
       "Validation: |          | 0/? [00:00<?, ?it/s]"
      ]
     },
     "metadata": {},
     "output_type": "display_data"
    },
    {
     "data": {
      "application/vnd.jupyter.widget-view+json": {
       "model_id": "fbb8d298355649fe928cb2b8b99c4175",
       "version_major": 2,
       "version_minor": 0
      },
      "text/plain": [
       "Validation: |          | 0/? [00:00<?, ?it/s]"
      ]
     },
     "metadata": {},
     "output_type": "display_data"
    },
    {
     "data": {
      "application/vnd.jupyter.widget-view+json": {
       "model_id": "8af93dfb964c4283a25120103000e13f",
       "version_major": 2,
       "version_minor": 0
      },
      "text/plain": [
       "Validation: |          | 0/? [00:00<?, ?it/s]"
      ]
     },
     "metadata": {},
     "output_type": "display_data"
    },
    {
     "data": {
      "application/vnd.jupyter.widget-view+json": {
       "model_id": "c5c4c295f6a845dbab84d45e6b42e5af",
       "version_major": 2,
       "version_minor": 0
      },
      "text/plain": [
       "Validation: |          | 0/? [00:00<?, ?it/s]"
      ]
     },
     "metadata": {},
     "output_type": "display_data"
    },
    {
     "data": {
      "application/vnd.jupyter.widget-view+json": {
       "model_id": "e1d9f6bb78cc4f88b9489994cf3bdcc7",
       "version_major": 2,
       "version_minor": 0
      },
      "text/plain": [
       "Validation: |          | 0/? [00:00<?, ?it/s]"
      ]
     },
     "metadata": {},
     "output_type": "display_data"
    },
    {
     "data": {
      "application/vnd.jupyter.widget-view+json": {
       "model_id": "db99fcc48b7f4f00be8051f59a4e640b",
       "version_major": 2,
       "version_minor": 0
      },
      "text/plain": [
       "Validation: |          | 0/? [00:00<?, ?it/s]"
      ]
     },
     "metadata": {},
     "output_type": "display_data"
    },
    {
     "data": {
      "application/vnd.jupyter.widget-view+json": {
       "model_id": "809efd18aa414f8aa17c220d24b1f27f",
       "version_major": 2,
       "version_minor": 0
      },
      "text/plain": [
       "Validation: |          | 0/? [00:00<?, ?it/s]"
      ]
     },
     "metadata": {},
     "output_type": "display_data"
    },
    {
     "data": {
      "application/vnd.jupyter.widget-view+json": {
       "model_id": "d13acd26a22847f09b7a306d5ac81047",
       "version_major": 2,
       "version_minor": 0
      },
      "text/plain": [
       "Validation: |          | 0/? [00:00<?, ?it/s]"
      ]
     },
     "metadata": {},
     "output_type": "display_data"
    },
    {
     "data": {
      "application/vnd.jupyter.widget-view+json": {
       "model_id": "b324ac8ba9e64234ae5ef215b02b8a8a",
       "version_major": 2,
       "version_minor": 0
      },
      "text/plain": [
       "Validation: |          | 0/? [00:00<?, ?it/s]"
      ]
     },
     "metadata": {},
     "output_type": "display_data"
    },
    {
     "data": {
      "application/vnd.jupyter.widget-view+json": {
       "model_id": "34386cf09fdb445b885fd48d469a8434",
       "version_major": 2,
       "version_minor": 0
      },
      "text/plain": [
       "Validation: |          | 0/? [00:00<?, ?it/s]"
      ]
     },
     "metadata": {},
     "output_type": "display_data"
    },
    {
     "data": {
      "application/vnd.jupyter.widget-view+json": {
       "model_id": "ea78da8c6fb44ac79b17afc3db5a3038",
       "version_major": 2,
       "version_minor": 0
      },
      "text/plain": [
       "Validation: |          | 0/? [00:00<?, ?it/s]"
      ]
     },
     "metadata": {},
     "output_type": "display_data"
    },
    {
     "data": {
      "application/vnd.jupyter.widget-view+json": {
       "model_id": "63f4af96356345859abcfd3509a1314d",
       "version_major": 2,
       "version_minor": 0
      },
      "text/plain": [
       "Validation: |          | 0/? [00:00<?, ?it/s]"
      ]
     },
     "metadata": {},
     "output_type": "display_data"
    },
    {
     "data": {
      "application/vnd.jupyter.widget-view+json": {
       "model_id": "de3b61d4641a4f55a0922a2bbc4a4fe1",
       "version_major": 2,
       "version_minor": 0
      },
      "text/plain": [
       "Validation: |          | 0/? [00:00<?, ?it/s]"
      ]
     },
     "metadata": {},
     "output_type": "display_data"
    },
    {
     "data": {
      "application/vnd.jupyter.widget-view+json": {
       "model_id": "a80ca330e39f463aabc1b3b49c851c9f",
       "version_major": 2,
       "version_minor": 0
      },
      "text/plain": [
       "Validation: |          | 0/? [00:00<?, ?it/s]"
      ]
     },
     "metadata": {},
     "output_type": "display_data"
    },
    {
     "data": {
      "application/vnd.jupyter.widget-view+json": {
       "model_id": "e8f948662a704a0098737110b6665882",
       "version_major": 2,
       "version_minor": 0
      },
      "text/plain": [
       "Validation: |          | 0/? [00:00<?, ?it/s]"
      ]
     },
     "metadata": {},
     "output_type": "display_data"
    },
    {
     "data": {
      "application/vnd.jupyter.widget-view+json": {
       "model_id": "27ff7579e4214d9c914c7282b93546f7",
       "version_major": 2,
       "version_minor": 0
      },
      "text/plain": [
       "Validation: |          | 0/? [00:00<?, ?it/s]"
      ]
     },
     "metadata": {},
     "output_type": "display_data"
    },
    {
     "data": {
      "application/vnd.jupyter.widget-view+json": {
       "model_id": "b1dd176036bf4e77a133dad3480b57f2",
       "version_major": 2,
       "version_minor": 0
      },
      "text/plain": [
       "Validation: |          | 0/? [00:00<?, ?it/s]"
      ]
     },
     "metadata": {},
     "output_type": "display_data"
    },
    {
     "data": {
      "application/vnd.jupyter.widget-view+json": {
       "model_id": "88a0253c5d554f53abadc6eed11f9c39",
       "version_major": 2,
       "version_minor": 0
      },
      "text/plain": [
       "Validation: |          | 0/? [00:00<?, ?it/s]"
      ]
     },
     "metadata": {},
     "output_type": "display_data"
    },
    {
     "data": {
      "application/vnd.jupyter.widget-view+json": {
       "model_id": "92e1a14f0df64ba09ff3ecabe9a989f7",
       "version_major": 2,
       "version_minor": 0
      },
      "text/plain": [
       "Validation: |          | 0/? [00:00<?, ?it/s]"
      ]
     },
     "metadata": {},
     "output_type": "display_data"
    },
    {
     "data": {
      "application/vnd.jupyter.widget-view+json": {
       "model_id": "6ad7e97ab88b4aaea74b4d3524155433",
       "version_major": 2,
       "version_minor": 0
      },
      "text/plain": [
       "Validation: |          | 0/? [00:00<?, ?it/s]"
      ]
     },
     "metadata": {},
     "output_type": "display_data"
    },
    {
     "data": {
      "application/vnd.jupyter.widget-view+json": {
       "model_id": "97b3d3e3be954a318558ea06b4595ea1",
       "version_major": 2,
       "version_minor": 0
      },
      "text/plain": [
       "Validation: |          | 0/? [00:00<?, ?it/s]"
      ]
     },
     "metadata": {},
     "output_type": "display_data"
    },
    {
     "data": {
      "application/vnd.jupyter.widget-view+json": {
       "model_id": "2e1b23ebac064931bebbab96d9d0ea91",
       "version_major": 2,
       "version_minor": 0
      },
      "text/plain": [
       "Validation: |          | 0/? [00:00<?, ?it/s]"
      ]
     },
     "metadata": {},
     "output_type": "display_data"
    },
    {
     "data": {
      "application/vnd.jupyter.widget-view+json": {
       "model_id": "df46962ab91542ce8de885e9fea1a733",
       "version_major": 2,
       "version_minor": 0
      },
      "text/plain": [
       "Validation: |          | 0/? [00:00<?, ?it/s]"
      ]
     },
     "metadata": {},
     "output_type": "display_data"
    },
    {
     "data": {
      "application/vnd.jupyter.widget-view+json": {
       "model_id": "5313db1235aa401cbcb75416a1433a95",
       "version_major": 2,
       "version_minor": 0
      },
      "text/plain": [
       "Validation: |          | 0/? [00:00<?, ?it/s]"
      ]
     },
     "metadata": {},
     "output_type": "display_data"
    },
    {
     "data": {
      "application/vnd.jupyter.widget-view+json": {
       "model_id": "803f4e31c7574586b60f148edcc0794c",
       "version_major": 2,
       "version_minor": 0
      },
      "text/plain": [
       "Validation: |          | 0/? [00:00<?, ?it/s]"
      ]
     },
     "metadata": {},
     "output_type": "display_data"
    },
    {
     "data": {
      "application/vnd.jupyter.widget-view+json": {
       "model_id": "af2d607a8a7b48c99ea7421797fa2a89",
       "version_major": 2,
       "version_minor": 0
      },
      "text/plain": [
       "Validation: |          | 0/? [00:00<?, ?it/s]"
      ]
     },
     "metadata": {},
     "output_type": "display_data"
    },
    {
     "data": {
      "application/vnd.jupyter.widget-view+json": {
       "model_id": "1c63cb50e6b04bf8b1643bb28dc1abc0",
       "version_major": 2,
       "version_minor": 0
      },
      "text/plain": [
       "Validation: |          | 0/? [00:00<?, ?it/s]"
      ]
     },
     "metadata": {},
     "output_type": "display_data"
    },
    {
     "data": {
      "application/vnd.jupyter.widget-view+json": {
       "model_id": "19604a8e1b524af8801e5c9df17b8dda",
       "version_major": 2,
       "version_minor": 0
      },
      "text/plain": [
       "Validation: |          | 0/? [00:00<?, ?it/s]"
      ]
     },
     "metadata": {},
     "output_type": "display_data"
    },
    {
     "data": {
      "application/vnd.jupyter.widget-view+json": {
       "model_id": "cd177066b9654c6cb30a36b53252a68d",
       "version_major": 2,
       "version_minor": 0
      },
      "text/plain": [
       "Validation: |          | 0/? [00:00<?, ?it/s]"
      ]
     },
     "metadata": {},
     "output_type": "display_data"
    },
    {
     "data": {
      "application/vnd.jupyter.widget-view+json": {
       "model_id": "f684bc6800fa406497d1bf84c86084d3",
       "version_major": 2,
       "version_minor": 0
      },
      "text/plain": [
       "Validation: |          | 0/? [00:00<?, ?it/s]"
      ]
     },
     "metadata": {},
     "output_type": "display_data"
    },
    {
     "data": {
      "image/png": "[encoded data removed]",
      "text/plain": [
       "<Figure size 640x480 with 1 Axes>"
      ]
     },
     "metadata": {},
     "output_type": "display_data"
    }
   ],
   "source": [
    "# 2) compute how many rows you need for validation\n",
    "n_val = m.n_lags + m.n_forecasts  # must equal 60 + 10 = 70\n",
    "\n",
    "# 3) split your DataFrame by row‐count\n",
    "train_df = df.iloc[:-n_val]\n",
    "val_df   = df.iloc[-n_val:]\n",
    "\n",
    "# 4) fit using the fixed‐size validation set\n",
    "metrics = m.fit(\n",
    "    train_df,\n",
    "    freq=\"B\",\n",
    "    validation_df=val_df,\n",
    "    progress=\"plot\",\n",
    ")\n"
   ]
  },
  {
   "cell_type": "code",
   "execution_count": 14,
   "id": "e861f865",
   "metadata": {},
   "outputs": [
    {
     "name": "stderr",
     "output_type": "stream",
     "text": [
      "WARNING - (py.warnings._showwarnmsg) - /opt/anaconda3/lib/python3.11/site-packages/neuralprophet/data/split.py:273: FutureWarning: The behavior of DataFrame concatenation with empty or all-NA entries is deprecated. In a future version, this will no longer exclude empty or all-NA columns when determining the result dtypes. To retain the old behavior, exclude the relevant entries before the concat operation.\n",
      "  df = pd.concat([df, future_df])\n",
      "\n"
     ]
    },
    {
     "data": {
      "application/vnd.jupyter.widget-view+json": {
       "model_id": "6c30aee151434aa883cf8c2dde28bc69",
       "version_major": 2,
       "version_minor": 0
      },
      "text/plain": [
       "Predicting: |          | 0/? [00:00<?, ?it/s]"
      ]
     },
     "metadata": {},
     "output_type": "display_data"
    },
    {
     "name": "stderr",
     "output_type": "stream",
     "text": [
      "WARNING - (py.warnings._showwarnmsg) - /opt/anaconda3/lib/python3.11/site-packages/neuralprophet/plot_forecast_plotly.py:100: FutureWarning: The behavior of DatetimeProperties.to_pydatetime is deprecated, in a future version this will return a Series containing python datetime objects instead of an ndarray. To retain the old behavior, call `np.array` on the result\n",
      "  ds = fcst[\"ds\"].dt.to_pydatetime()\n",
      "\n"
     ]
    },
    {
     "name": "stdout",
     "output_type": "stream",
     "text": [
      "           ds            y        yhat1        yhat2        yhat3  \\\n",
      "0  2025-02-24  1304.560000          NaN          NaN          NaN   \n",
      "1  2025-02-25  1303.160000          NaN          NaN          NaN   \n",
      "2  2025-02-26  1302.960000          NaN          NaN          NaN   \n",
      "3  2025-02-27  1307.800000          NaN          NaN          NaN   \n",
      "4  2025-02-28  1305.360000          NaN          NaN          NaN   \n",
      "5  2025-03-03  1309.370000          NaN          NaN          NaN   \n",
      "6  2025-03-04  1311.910000          NaN          NaN          NaN   \n",
      "7  2025-03-05  1304.710000          NaN          NaN          NaN   \n",
      "8  2025-03-06  1318.220000          NaN          NaN          NaN   \n",
      "9  2025-03-07  1326.050000          NaN          NaN          NaN   \n",
      "10 2025-03-10  1330.280000          NaN          NaN          NaN   \n",
      "11 2025-03-11  1332.540000          NaN          NaN          NaN   \n",
      "12 2025-03-12  1334.410000          NaN          NaN          NaN   \n",
      "13 2025-03-13  1326.270000          NaN          NaN          NaN   \n",
      "14 2025-03-14  1326.150000          NaN          NaN          NaN   \n",
      "15 2025-03-17  1336.260000          NaN          NaN          NaN   \n",
      "16 2025-03-18  1330.970000          NaN          NaN          NaN   \n",
      "17 2025-03-19  1324.630000          NaN          NaN          NaN   \n",
      "18 2025-03-20  1323.930000          NaN          NaN          NaN   \n",
      "19 2025-03-21  1321.880000          NaN          NaN          NaN   \n",
      "20 2025-03-24  1330.320000          NaN          NaN          NaN   \n",
      "21 2025-03-25  1331.920000          NaN          NaN          NaN   \n",
      "22 2025-03-26  1326.090000          NaN          NaN          NaN   \n",
      "23 2025-03-27  1323.810000          NaN          NaN          NaN   \n",
      "24 2025-03-28  1317.460000          NaN          NaN          NaN   \n",
      "25 2025-03-31  1306.860000          NaN          NaN          NaN   \n",
      "26 2025-04-01  1317.330000          NaN          NaN          NaN   \n",
      "27 2025-04-02  1317.830000          NaN          NaN          NaN   \n",
      "28 2025-04-03  1264.250000          NaN          NaN          NaN   \n",
      "29 2025-04-04  1210.670000          NaN          NaN          NaN   \n",
      "30 2025-04-07  1215.798333          NaN          NaN          NaN   \n",
      "31 2025-04-08  1220.926667          NaN          NaN          NaN   \n",
      "32 2025-04-09  1226.055000          NaN          NaN          NaN   \n",
      "33 2025-04-10  1231.183333          NaN          NaN          NaN   \n",
      "34 2025-04-11  1236.311667          NaN          NaN          NaN   \n",
      "35 2025-04-14  1241.440000          NaN          NaN          NaN   \n",
      "36 2025-04-15  1227.790000          NaN          NaN          NaN   \n",
      "37 2025-04-16  1210.300000          NaN          NaN          NaN   \n",
      "38 2025-04-17  1217.250000          NaN          NaN          NaN   \n",
      "39 2025-04-18  1219.120000          NaN          NaN          NaN   \n",
      "40 2025-04-21  1207.070000          NaN          NaN          NaN   \n",
      "41 2025-04-22  1197.130000          NaN          NaN          NaN   \n",
      "42 2025-04-23  1211.000000          NaN          NaN          NaN   \n",
      "43 2025-04-24  1223.350000          NaN          NaN          NaN   \n",
      "44 2025-04-25  1229.230000          NaN          NaN          NaN   \n",
      "45 2025-04-28  1226.800000  1225.957642          NaN          NaN   \n",
      "46 2025-04-29  1226.300000  1225.566406  1233.427734          NaN   \n",
      "47 2025-04-30  1229.737500  1227.539062  1248.128052  1218.590088   \n",
      "48 2025-05-01  1233.175000  1235.697754  1224.602295  1216.932007   \n",
      "49 2025-05-02  1236.612500  1235.035156  1210.645020  1228.282715   \n",
      "50 2025-05-05  1240.050000  1230.287354  1224.610107  1230.625977   \n",
      "51 2025-05-06  1241.950000  1237.207520  1247.959717  1232.315674   \n",
      "52 2025-05-07  1250.370000  1241.913330  1241.026611  1237.556641   \n",
      "53 2025-05-08  1269.800000  1245.607056  1237.511230  1238.479492   \n",
      "54 2025-05-09          NaN  1267.770264  1236.289429  1247.468506   \n",
      "55 2025-05-12          NaN          NaN  1255.456543  1249.276733   \n",
      "56 2025-05-13          NaN          NaN          NaN  1256.926270   \n",
      "57 2025-05-14          NaN          NaN          NaN          NaN   \n",
      "58 2025-05-15          NaN          NaN          NaN          NaN   \n",
      "\n",
      "          yhat4        yhat5        ar1        ar2        ar3        ar4  \\\n",
      "0           NaN          NaN        NaN        NaN        NaN        NaN   \n",
      "1           NaN          NaN        NaN        NaN        NaN        NaN   \n",
      "2           NaN          NaN        NaN        NaN        NaN        NaN   \n",
      "3           NaN          NaN        NaN        NaN        NaN        NaN   \n",
      "4           NaN          NaN        NaN        NaN        NaN        NaN   \n",
      "5           NaN          NaN        NaN        NaN        NaN        NaN   \n",
      "6           NaN          NaN        NaN        NaN        NaN        NaN   \n",
      "7           NaN          NaN        NaN        NaN        NaN        NaN   \n",
      "8           NaN          NaN        NaN        NaN        NaN        NaN   \n",
      "9           NaN          NaN        NaN        NaN        NaN        NaN   \n",
      "10          NaN          NaN        NaN        NaN        NaN        NaN   \n",
      "11          NaN          NaN        NaN        NaN        NaN        NaN   \n",
      "12          NaN          NaN        NaN        NaN        NaN        NaN   \n",
      "13          NaN          NaN        NaN        NaN        NaN        NaN   \n",
      "14          NaN          NaN        NaN        NaN        NaN        NaN   \n",
      "15          NaN          NaN        NaN        NaN        NaN        NaN   \n",
      "16          NaN          NaN        NaN        NaN        NaN        NaN   \n",
      "17          NaN          NaN        NaN        NaN        NaN        NaN   \n",
      "18          NaN          NaN        NaN        NaN        NaN        NaN   \n",
      "19          NaN          NaN        NaN        NaN        NaN        NaN   \n",
      "20          NaN          NaN        NaN        NaN        NaN        NaN   \n",
      "21          NaN          NaN        NaN        NaN        NaN        NaN   \n",
      "22          NaN          NaN        NaN        NaN        NaN        NaN   \n",
      "23          NaN          NaN        NaN        NaN        NaN        NaN   \n",
      "24          NaN          NaN        NaN        NaN        NaN        NaN   \n",
      "25          NaN          NaN        NaN        NaN        NaN        NaN   \n",
      "26          NaN          NaN        NaN        NaN        NaN        NaN   \n",
      "27          NaN          NaN        NaN        NaN        NaN        NaN   \n",
      "28          NaN          NaN        NaN        NaN        NaN        NaN   \n",
      "29          NaN          NaN        NaN        NaN        NaN        NaN   \n",
      "30          NaN          NaN        NaN        NaN        NaN        NaN   \n",
      "31          NaN          NaN        NaN        NaN        NaN        NaN   \n",
      "32          NaN          NaN        NaN        NaN        NaN        NaN   \n",
      "33          NaN          NaN        NaN        NaN        NaN        NaN   \n",
      "34          NaN          NaN        NaN        NaN        NaN        NaN   \n",
      "35          NaN          NaN        NaN        NaN        NaN        NaN   \n",
      "36          NaN          NaN        NaN        NaN        NaN        NaN   \n",
      "37          NaN          NaN        NaN        NaN        NaN        NaN   \n",
      "38          NaN          NaN        NaN        NaN        NaN        NaN   \n",
      "39          NaN          NaN        NaN        NaN        NaN        NaN   \n",
      "40          NaN          NaN        NaN        NaN        NaN        NaN   \n",
      "41          NaN          NaN        NaN        NaN        NaN        NaN   \n",
      "42          NaN          NaN        NaN        NaN        NaN        NaN   \n",
      "43          NaN          NaN        NaN        NaN        NaN        NaN   \n",
      "44          NaN          NaN        NaN        NaN        NaN        NaN   \n",
      "45          NaN          NaN -68.348282        NaN        NaN        NaN   \n",
      "46          NaN          NaN -55.152397 -47.290981        NaN        NaN   \n",
      "47          NaN          NaN  27.271690  47.860786  18.322798        NaN   \n",
      "48  1218.506104          NaN  72.646873  61.551556  53.881165  55.455231   \n",
      "49  1224.174072  1229.165649  13.589694 -10.800488   6.837266   2.728652   \n",
      "50  1228.278198  1210.197754 -63.434246 -69.111458 -63.095654 -65.443466   \n",
      "51  1235.001953  1211.983276 -43.320728 -32.568508 -48.212528 -45.526226   \n",
      "52  1227.361938  1241.141479  41.698299  40.811687  37.341606  27.146936   \n",
      "53  1224.290527  1233.781128  82.009964  73.914070  74.882317  60.693439   \n",
      "54  1251.687988  1223.478638  45.437683  13.956837  25.135921  29.355398   \n",
      "55  1253.760132  1244.364868        NaN -40.210266 -46.390091 -41.906715   \n",
      "56  1239.073730  1249.481445        NaN        NaN -25.926641 -43.779202   \n",
      "57  1251.542969  1245.553955        NaN        NaN        NaN  48.611244   \n",
      "58          NaN  1260.576172        NaN        NaN        NaN        NaN   \n",
      "\n",
      "          ar5        trend  season_yearly  season_weekly  \n",
      "0         NaN          NaN            NaN            NaN  \n",
      "1         NaN          NaN            NaN            NaN  \n",
      "2         NaN          NaN            NaN            NaN  \n",
      "3         NaN          NaN            NaN            NaN  \n",
      "4         NaN          NaN            NaN            NaN  \n",
      "5         NaN          NaN            NaN            NaN  \n",
      "6         NaN          NaN            NaN            NaN  \n",
      "7         NaN          NaN            NaN            NaN  \n",
      "8         NaN          NaN            NaN            NaN  \n",
      "9         NaN          NaN            NaN            NaN  \n",
      "10        NaN          NaN            NaN            NaN  \n",
      "11        NaN          NaN            NaN            NaN  \n",
      "12        NaN          NaN            NaN            NaN  \n",
      "13        NaN          NaN            NaN            NaN  \n",
      "14        NaN          NaN            NaN            NaN  \n",
      "15        NaN          NaN            NaN            NaN  \n",
      "16        NaN          NaN            NaN            NaN  \n",
      "17        NaN          NaN            NaN            NaN  \n",
      "18        NaN          NaN            NaN            NaN  \n",
      "19        NaN          NaN            NaN            NaN  \n",
      "20        NaN          NaN            NaN            NaN  \n",
      "21        NaN          NaN            NaN            NaN  \n",
      "22        NaN          NaN            NaN            NaN  \n",
      "23        NaN          NaN            NaN            NaN  \n",
      "24        NaN          NaN            NaN            NaN  \n",
      "25        NaN          NaN            NaN            NaN  \n",
      "26        NaN          NaN            NaN            NaN  \n",
      "27        NaN          NaN            NaN            NaN  \n",
      "28        NaN          NaN            NaN            NaN  \n",
      "29        NaN          NaN            NaN            NaN  \n",
      "30        NaN          NaN            NaN            NaN  \n",
      "31        NaN          NaN            NaN            NaN  \n",
      "32        NaN          NaN            NaN            NaN  \n",
      "33        NaN          NaN            NaN            NaN  \n",
      "34        NaN          NaN            NaN            NaN  \n",
      "35        NaN          NaN            NaN            NaN  \n",
      "36        NaN          NaN            NaN            NaN  \n",
      "37        NaN          NaN            NaN            NaN  \n",
      "38        NaN          NaN            NaN            NaN  \n",
      "39        NaN          NaN            NaN            NaN  \n",
      "40        NaN          NaN            NaN            NaN  \n",
      "41        NaN          NaN            NaN            NaN  \n",
      "42        NaN          NaN            NaN            NaN  \n",
      "43        NaN          NaN            NaN            NaN  \n",
      "44        NaN          NaN            NaN            NaN  \n",
      "45        NaN  1189.352783     -11.329377     116.282532  \n",
      "46        NaN  1189.506104     -11.738933     102.951622  \n",
      "47        NaN  1189.659424     -12.100281      22.708157  \n",
      "48        NaN  1189.812744     -12.410201     -14.351724  \n",
      "49   7.720213  1189.966064     -12.667153      44.146465  \n",
      "50 -83.523827  1190.426147     -13.103772     116.399246  \n",
      "51 -68.544922  1190.579468     -13.133309     103.082008  \n",
      "52  40.926487  1190.732910     -13.106215      22.588354  \n",
      "53  70.184013  1190.886108     -13.020273     -14.268738  \n",
      "54   1.146053  1191.039551     -12.876964      44.170025  \n",
      "55 -51.301987  1191.499512     -12.113375     116.280685  \n",
      "56 -33.371513  1191.652954     -11.752819     102.952820  \n",
      "57  42.622280  1191.806152     -11.342951      22.468437  \n",
      "58  93.849739  1191.959595     -10.887767     -14.345491  \n",
      "5\n",
      "2025-05-08 00:00:00\n",
      "5\n",
      "2025-05-07 00:00:00\n",
      "4\n",
      "2025-05-06 00:00:00\n",
      "3\n",
      "2025-05-05 00:00:00\n",
      "2\n",
      "2025-05-02 00:00:00\n"
     ]
    },
    {
     "data": {
      "image/svg+xml": [
       "<svg class=\"main-svg\" xmlns=\"http://www.w3.org/2000/svg\" xmlns:xlink=\"http://www.w3.org/1999/xlink\" width=\"700\" height=\"420\" style=\"\" viewBox=\"0 0 700 420\"><rect x=\"0\" y=\"0\" width=\"700\" height=\"420\" style=\"fill: rgb(255, 255, 255); fill-opacity: 1;\"/><defs id=\"defs-c35cd6\"><g class=\"clips\"><clipPath id=\"clipc35cd6xyplot\" class=\"plotclip\"><rect width=\"545\" height=\"263\"/></clipPath><clipPath class=\"axesclip\" id=\"clipc35cd6x\"><rect x=\"52\" y=\"0\" width=\"545\" height=\"420\"/></clipPath><clipPath class=\"axesclip\" id=\"clipc35cd6y\"><rect x=\"0\" y=\"24\" width=\"700\" height=\"263\"/></clipPath><clipPath class=\"axesclip\" id=\"clipc35cd6xy\"><rect x=\"52\" y=\"24\" width=\"545\" height=\"263\"/></clipPath></g><g class=\"gradients\"/><g class=\"patterns\"/></defs><g class=\"bglayer\"/><g class=\"layer-below\"><g class=\"imagelayer\"/><g class=\"shapelayer\"/></g><g class=\"cartesianlayer\"><g class=\"subplot xy\"><g class=\"layer-subplot\"><g class=\"shapelayer\"/><g class=\"imagelayer\"/></g><g class=\"minor-gridlayer\"><g class=\"x\"/><g class=\"y\"/></g><g class=\"gridlayer\"><g class=\"x\"><path class=\"xgrid crisp\" transform=\"translate(76.19,0)\" d=\"M0,24v263\" style=\"stroke: rgb(235, 240, 248); stroke-opacity: 1; stroke-width: 1px;\"/><path class=\"xgrid crisp\" transform=\"translate(160.98000000000002,0)\" d=\"M0,24v263\" style=\"stroke: rgb(235, 240, 248); stroke-opacity: 1; stroke-width: 1px;\"/><path class=\"xgrid crisp\" transform=\"translate(245.77,0)\" d=\"M0,24v263\" style=\"stroke: rgb(235, 240, 248); stroke-opacity: 1; stroke-width: 1px;\"/><path class=\"xgrid crisp\" transform=\"translate(330.56,0)\" d=\"M0,24v263\" style=\"stroke: rgb(235, 240, 248); stroke-opacity: 1; stroke-width: 1px;\"/><path class=\"xgrid crisp\" transform=\"translate(415.34,0)\" d=\"M0,24v263\" style=\"stroke: rgb(235, 240, 248); stroke-opacity: 1; stroke-width: 1px;\"/><path class=\"xgrid crisp\" transform=\"translate(500.13,0)\" d=\"M0,24v263\" style=\"stroke: rgb(235, 240, 248); stroke-opacity: 1; stroke-width: 1px;\"/><path class=\"xgrid crisp\" transform=\"translate(584.92,0)\" d=\"M0,24v263\" style=\"stroke: rgb(235, 240, 248); stroke-opacity: 1; stroke-width: 1px;\"/></g><g class=\"y\"><path class=\"ygrid crisp\" transform=\"translate(0,266.09000000000003)\" d=\"M52,0h545\" style=\"stroke: rgb(235, 240, 248); stroke-opacity: 1; stroke-width: 1px;\"/><path class=\"ygrid crisp\" transform=\"translate(0,183.18)\" d=\"M52,0h545\" style=\"stroke: rgb(235, 240, 248); stroke-opacity: 1; stroke-width: 1px;\"/><path class=\"ygrid crisp\" transform=\"translate(0,100.27)\" d=\"M52,0h545\" style=\"stroke: rgb(235, 240, 248); stroke-opacity: 1; stroke-width: 1px;\"/></g></g><g class=\"zerolinelayer\"/><g class=\"layer-between\"><g class=\"shapelayer\"/><g class=\"imagelayer\"/></g><path class=\"xlines-below\"/><path class=\"ylines-below\"/><g class=\"overlines-below\"/><g class=\"xaxislayer-below\"/><g class=\"yaxislayer-below\"/><g class=\"overaxes-below\"/><g class=\"overplot\"><g class=\"xy\" transform=\"translate(52,24)\" clip-path=\"url(#clipc35cd6xyplot)\"><g class=\"scatterlayer mlayer\"><g class=\"trace scatter trace5f0305\" style=\"stroke-miterlimit: 2; opacity: 1;\"><g class=\"fills\"/><g class=\"errorbars\"/><g class=\"lines\"><path class=\"js-line\" d=\"M411.79,199.05L417.85,199.7L423.91,196.43L429.96,182.9L436.02,224.44L454.19,191.31L460.24,184.05L466.3,173.87L472.36,186.08L478.41,129.72L496.58,150.14L502.64,147.7L508.69,156.62L514.75,141.65\" style=\"vector-effect: none; fill: none; stroke: rgb(45, 146, 255); stroke-opacity: 1; stroke-width: 2px; opacity: 1;\"/></g><g class=\"points\"/><g class=\"text\"/></g><g class=\"trace scatter traceb0f991\" style=\"stroke-miterlimit: 2; opacity: 1;\"><g class=\"fills\"/><g class=\"errorbars\"/><g class=\"lines\"/><g class=\"points\"><path class=\"point\" transform=\"translate(411.79,199.05)\" d=\"M0,1.13l1.13,1.13l1.13,-1.13l-1.13,-1.13l1.13,-1.13l-1.13,-1.13l-1.13,1.13l-1.13,-1.13l-1.13,1.13l1.13,1.13l-1.13,1.13l1.13,1.13Z\" style=\"opacity: 1; stroke-width: 0px; fill: rgb(0, 0, 255); fill-opacity: 1;\"/><path class=\"point\" transform=\"translate(417.85,199.7)\" d=\"M0,1.13l1.13,1.13l1.13,-1.13l-1.13,-1.13l1.13,-1.13l-1.13,-1.13l-1.13,1.13l-1.13,-1.13l-1.13,1.13l1.13,1.13l-1.13,1.13l1.13,1.13Z\" style=\"opacity: 1; stroke-width: 0px; fill: rgb(0, 0, 255); fill-opacity: 1;\"/><path class=\"point\" transform=\"translate(423.91,196.43)\" d=\"M0,1.13l1.13,1.13l1.13,-1.13l-1.13,-1.13l1.13,-1.13l-1.13,-1.13l-1.13,1.13l-1.13,-1.13l-1.13,1.13l1.13,1.13l-1.13,1.13l1.13,1.13Z\" style=\"opacity: 1; stroke-width: 0px; fill: rgb(0, 0, 255); fill-opacity: 1;\"/><path class=\"point\" transform=\"translate(429.96,182.9)\" d=\"M0,1.13l1.13,1.13l1.13,-1.13l-1.13,-1.13l1.13,-1.13l-1.13,-1.13l-1.13,1.13l-1.13,-1.13l-1.13,1.13l1.13,1.13l-1.13,1.13l1.13,1.13Z\" style=\"opacity: 1; stroke-width: 0px; fill: rgb(0, 0, 255); fill-opacity: 1;\"/><path class=\"point\" transform=\"translate(436.02,224.44)\" d=\"M0,1.13l1.13,1.13l1.13,-1.13l-1.13,-1.13l1.13,-1.13l-1.13,-1.13l-1.13,1.13l-1.13,-1.13l-1.13,1.13l1.13,1.13l-1.13,1.13l1.13,1.13Z\" style=\"opacity: 1; stroke-width: 0px; fill: rgb(0, 0, 255); fill-opacity: 1;\"/><path class=\"point\" transform=\"translate(454.19,191.31)\" d=\"M0,1.13l1.13,1.13l1.13,-1.13l-1.13,-1.13l1.13,-1.13l-1.13,-1.13l-1.13,1.13l-1.13,-1.13l-1.13,1.13l1.13,1.13l-1.13,1.13l1.13,1.13Z\" style=\"opacity: 1; stroke-width: 0px; fill: rgb(0, 0, 255); fill-opacity: 1;\"/><path class=\"point\" transform=\"translate(460.24,184.05)\" d=\"M0,1.13l1.13,1.13l1.13,-1.13l-1.13,-1.13l1.13,-1.13l-1.13,-1.13l-1.13,1.13l-1.13,-1.13l-1.13,1.13l1.13,1.13l-1.13,1.13l1.13,1.13Z\" style=\"opacity: 1; stroke-width: 0px; fill: rgb(0, 0, 255); fill-opacity: 1;\"/><path class=\"point\" transform=\"translate(466.3,173.87)\" d=\"M0,1.13l1.13,1.13l1.13,-1.13l-1.13,-1.13l1.13,-1.13l-1.13,-1.13l-1.13,1.13l-1.13,-1.13l-1.13,1.13l1.13,1.13l-1.13,1.13l1.13,1.13Z\" style=\"opacity: 1; stroke-width: 0px; fill: rgb(0, 0, 255); fill-opacity: 1;\"/><path class=\"point\" transform=\"translate(472.36,186.08)\" d=\"M0,1.13l1.13,1.13l1.13,-1.13l-1.13,-1.13l1.13,-1.13l-1.13,-1.13l-1.13,1.13l-1.13,-1.13l-1.13,1.13l1.13,1.13l-1.13,1.13l1.13,1.13Z\" style=\"opacity: 1; stroke-width: 0px; fill: rgb(0, 0, 255); fill-opacity: 1;\"/><path class=\"point\" transform=\"translate(478.41,129.72)\" d=\"M0,1.13l1.13,1.13l1.13,-1.13l-1.13,-1.13l1.13,-1.13l-1.13,-1.13l-1.13,1.13l-1.13,-1.13l-1.13,1.13l1.13,1.13l-1.13,1.13l1.13,1.13Z\" style=\"opacity: 1; stroke-width: 0px; fill: rgb(0, 0, 255); fill-opacity: 1;\"/><path class=\"point\" transform=\"translate(496.58,150.14)\" d=\"M0,1.13l1.13,1.13l1.13,-1.13l-1.13,-1.13l1.13,-1.13l-1.13,-1.13l-1.13,1.13l-1.13,-1.13l-1.13,1.13l1.13,1.13l-1.13,1.13l1.13,1.13Z\" style=\"opacity: 1; stroke-width: 0px; fill: rgb(0, 0, 255); fill-opacity: 1;\"/><path class=\"point\" transform=\"translate(502.64,147.7)\" d=\"M0,1.13l1.13,1.13l1.13,-1.13l-1.13,-1.13l1.13,-1.13l-1.13,-1.13l-1.13,1.13l-1.13,-1.13l-1.13,1.13l1.13,1.13l-1.13,1.13l1.13,1.13Z\" style=\"opacity: 1; stroke-width: 0px; fill: rgb(0, 0, 255); fill-opacity: 1;\"/><path class=\"point\" transform=\"translate(508.69,156.62)\" d=\"M0,1.13l1.13,1.13l1.13,-1.13l-1.13,-1.13l1.13,-1.13l-1.13,-1.13l-1.13,1.13l-1.13,-1.13l-1.13,1.13l1.13,1.13l-1.13,1.13l1.13,1.13Z\" style=\"opacity: 1; stroke-width: 0px; fill: rgb(0, 0, 255); fill-opacity: 1;\"/><path class=\"point\" transform=\"translate(514.75,141.65)\" d=\"M0,1.13l1.13,1.13l1.13,-1.13l-1.13,-1.13l1.13,-1.13l-1.13,-1.13l-1.13,1.13l-1.13,-1.13l-1.13,1.13l1.13,1.13l-1.13,1.13l1.13,1.13Z\" style=\"opacity: 1; stroke-width: 0px; fill: rgb(0, 0, 255); fill-opacity: 1;\"/></g><g class=\"text\"/></g><g class=\"trace scatter traced6eae9\" style=\"stroke-miterlimit: 2; opacity: 1;\"><g class=\"fills\"/><g class=\"errorbars\"/><g class=\"lines\"/><g class=\"points\"><path class=\"point\" transform=\"translate(30.25,68.71)\" d=\"M2,0A2,2 0 1,1 0,-2A2,2 0 0,1 2,0Z\" style=\"opacity: 1; stroke-width: 0px; fill: rgb(0, 0, 0); fill-opacity: 1;\"/><path class=\"point\" transform=\"translate(36.31,71.04)\" d=\"M2,0A2,2 0 1,1 0,-2A2,2 0 0,1 2,0Z\" style=\"opacity: 1; stroke-width: 0px; fill: rgb(0, 0, 0); fill-opacity: 1;\"/><path class=\"point\" transform=\"translate(42.36,71.37)\" d=\"M2,0A2,2 0 1,1 0,-2A2,2 0 0,1 2,0Z\" style=\"opacity: 1; stroke-width: 0px; fill: rgb(0, 0, 0); fill-opacity: 1;\"/><path class=\"point\" transform=\"translate(48.42,63.34)\" d=\"M2,0A2,2 0 1,1 0,-2A2,2 0 0,1 2,0Z\" style=\"opacity: 1; stroke-width: 0px; fill: rgb(0, 0, 0); fill-opacity: 1;\"/><path class=\"point\" transform=\"translate(54.48,67.39)\" d=\"M2,0A2,2 0 1,1 0,-2A2,2 0 0,1 2,0Z\" style=\"opacity: 1; stroke-width: 0px; fill: rgb(0, 0, 0); fill-opacity: 1;\"/><path class=\"point\" transform=\"translate(72.64,60.74)\" d=\"M2,0A2,2 0 1,1 0,-2A2,2 0 0,1 2,0Z\" style=\"opacity: 1; stroke-width: 0px; fill: rgb(0, 0, 0); fill-opacity: 1;\"/><path class=\"point\" transform=\"translate(78.7,56.53)\" d=\"M2,0A2,2 0 1,1 0,-2A2,2 0 0,1 2,0Z\" style=\"opacity: 1; stroke-width: 0px; fill: rgb(0, 0, 0); fill-opacity: 1;\"/><path class=\"point\" transform=\"translate(84.76,68.46)\" d=\"M2,0A2,2 0 1,1 0,-2A2,2 0 0,1 2,0Z\" style=\"opacity: 1; stroke-width: 0px; fill: rgb(0, 0, 0); fill-opacity: 1;\"/><path class=\"point\" transform=\"translate(90.81,46.06)\" d=\"M2,0A2,2 0 1,1 0,-2A2,2 0 0,1 2,0Z\" style=\"opacity: 1; stroke-width: 0px; fill: rgb(0, 0, 0); fill-opacity: 1;\"/><path class=\"point\" transform=\"translate(96.87,33.08)\" d=\"M2,0A2,2 0 1,1 0,-2A2,2 0 0,1 2,0Z\" style=\"opacity: 1; stroke-width: 0px; fill: rgb(0, 0, 0); fill-opacity: 1;\"/><path class=\"point\" transform=\"translate(115.04,26.07)\" d=\"M2,0A2,2 0 1,1 0,-2A2,2 0 0,1 2,0Z\" style=\"opacity: 1; stroke-width: 0px; fill: rgb(0, 0, 0); fill-opacity: 1;\"/><path class=\"point\" transform=\"translate(121.09,22.32)\" d=\"M2,0A2,2 0 1,1 0,-2A2,2 0 0,1 2,0Z\" style=\"opacity: 1; stroke-width: 0px; fill: rgb(0, 0, 0); fill-opacity: 1;\"/><path class=\"point\" transform=\"translate(127.15,19.22)\" d=\"M2,0A2,2 0 1,1 0,-2A2,2 0 0,1 2,0Z\" style=\"opacity: 1; stroke-width: 0px; fill: rgb(0, 0, 0); fill-opacity: 1;\"/><path class=\"point\" transform=\"translate(133.21,32.72)\" d=\"M2,0A2,2 0 1,1 0,-2A2,2 0 0,1 2,0Z\" style=\"opacity: 1; stroke-width: 0px; fill: rgb(0, 0, 0); fill-opacity: 1;\"/><path class=\"point\" transform=\"translate(139.26,32.91)\" d=\"M2,0A2,2 0 1,1 0,-2A2,2 0 0,1 2,0Z\" style=\"opacity: 1; stroke-width: 0px; fill: rgb(0, 0, 0); fill-opacity: 1;\"/><path class=\"point\" transform=\"translate(157.43,16.15)\" d=\"M2,0A2,2 0 1,1 0,-2A2,2 0 0,1 2,0Z\" style=\"opacity: 1; stroke-width: 0px; fill: rgb(0, 0, 0); fill-opacity: 1;\"/><path class=\"point\" transform=\"translate(163.49,24.92)\" d=\"M2,0A2,2 0 1,1 0,-2A2,2 0 0,1 2,0Z\" style=\"opacity: 1; stroke-width: 0px; fill: rgb(0, 0, 0); fill-opacity: 1;\"/><path class=\"point\" transform=\"translate(169.54,35.43)\" d=\"M2,0A2,2 0 1,1 0,-2A2,2 0 0,1 2,0Z\" style=\"opacity: 1; stroke-width: 0px; fill: rgb(0, 0, 0); fill-opacity: 1;\"/><path class=\"point\" transform=\"translate(175.6,36.6)\" d=\"M2,0A2,2 0 1,1 0,-2A2,2 0 0,1 2,0Z\" style=\"opacity: 1; stroke-width: 0px; fill: rgb(0, 0, 0); fill-opacity: 1;\"/><path class=\"point\" transform=\"translate(181.66,39.99)\" d=\"M2,0A2,2 0 1,1 0,-2A2,2 0 0,1 2,0Z\" style=\"opacity: 1; stroke-width: 0px; fill: rgb(0, 0, 0); fill-opacity: 1;\"/><path class=\"point\" transform=\"translate(199.83,26)\" d=\"M2,0A2,2 0 1,1 0,-2A2,2 0 0,1 2,0Z\" style=\"opacity: 1; stroke-width: 0px; fill: rgb(0, 0, 0); fill-opacity: 1;\"/><path class=\"point\" transform=\"translate(205.88,23.35)\" d=\"M2,0A2,2 0 1,1 0,-2A2,2 0 0,1 2,0Z\" style=\"opacity: 1; stroke-width: 0px; fill: rgb(0, 0, 0); fill-opacity: 1;\"/><path class=\"point\" transform=\"translate(211.94,33.01)\" d=\"M2,0A2,2 0 1,1 0,-2A2,2 0 0,1 2,0Z\" style=\"opacity: 1; stroke-width: 0px; fill: rgb(0, 0, 0); fill-opacity: 1;\"/><path class=\"point\" transform=\"translate(217.99,36.79)\" d=\"M2,0A2,2 0 1,1 0,-2A2,2 0 0,1 2,0Z\" style=\"opacity: 1; stroke-width: 0px; fill: rgb(0, 0, 0); fill-opacity: 1;\"/><path class=\"point\" transform=\"translate(224.05,47.32)\" d=\"M2,0A2,2 0 1,1 0,-2A2,2 0 0,1 2,0Z\" style=\"opacity: 1; stroke-width: 0px; fill: rgb(0, 0, 0); fill-opacity: 1;\"/><path class=\"point\" transform=\"translate(242.22,64.9)\" d=\"M2,0A2,2 0 1,1 0,-2A2,2 0 0,1 2,0Z\" style=\"opacity: 1; stroke-width: 0px; fill: rgb(0, 0, 0); fill-opacity: 1;\"/><path class=\"point\" transform=\"translate(248.28,47.54)\" d=\"M2,0A2,2 0 1,1 0,-2A2,2 0 0,1 2,0Z\" style=\"opacity: 1; stroke-width: 0px; fill: rgb(0, 0, 0); fill-opacity: 1;\"/><path class=\"point\" transform=\"translate(254.33,46.71)\" d=\"M2,0A2,2 0 1,1 0,-2A2,2 0 0,1 2,0Z\" style=\"opacity: 1; stroke-width: 0px; fill: rgb(0, 0, 0); fill-opacity: 1;\"/><path class=\"point\" transform=\"translate(260.39,135.55)\" d=\"M2,0A2,2 0 1,1 0,-2A2,2 0 0,1 2,0Z\" style=\"opacity: 1; stroke-width: 0px; fill: rgb(0, 0, 0); fill-opacity: 1;\"/><path class=\"point\" transform=\"translate(266.44,224.4)\" d=\"M2,0A2,2 0 1,1 0,-2A2,2 0 0,1 2,0Z\" style=\"opacity: 1; stroke-width: 0px; fill: rgb(0, 0, 0); fill-opacity: 1;\"/><path class=\"point\" transform=\"translate(284.61,215.89)\" d=\"M2,0A2,2 0 1,1 0,-2A2,2 0 0,1 2,0Z\" style=\"opacity: 1; stroke-width: 0px; fill: rgb(0, 0, 0); fill-opacity: 1;\"/><path class=\"point\" transform=\"translate(290.67,207.39)\" d=\"M2,0A2,2 0 1,1 0,-2A2,2 0 0,1 2,0Z\" style=\"opacity: 1; stroke-width: 0px; fill: rgb(0, 0, 0); fill-opacity: 1;\"/><path class=\"point\" transform=\"translate(296.72,198.89)\" d=\"M2,0A2,2 0 1,1 0,-2A2,2 0 0,1 2,0Z\" style=\"opacity: 1; stroke-width: 0px; fill: rgb(0, 0, 0); fill-opacity: 1;\"/><path class=\"point\" transform=\"translate(302.78,190.38)\" d=\"M2,0A2,2 0 1,1 0,-2A2,2 0 0,1 2,0Z\" style=\"opacity: 1; stroke-width: 0px; fill: rgb(0, 0, 0); fill-opacity: 1;\"/><path class=\"point\" transform=\"translate(308.84,181.88)\" d=\"M2,0A2,2 0 1,1 0,-2A2,2 0 0,1 2,0Z\" style=\"opacity: 1; stroke-width: 0px; fill: rgb(0, 0, 0); fill-opacity: 1;\"/><path class=\"point\" transform=\"translate(327.01,173.38)\" d=\"M2,0A2,2 0 1,1 0,-2A2,2 0 0,1 2,0Z\" style=\"opacity: 1; stroke-width: 0px; fill: rgb(0, 0, 0); fill-opacity: 1;\"/><path class=\"point\" transform=\"translate(333.06,196.01)\" d=\"M2,0A2,2 0 1,1 0,-2A2,2 0 0,1 2,0Z\" style=\"opacity: 1; stroke-width: 0px; fill: rgb(0, 0, 0); fill-opacity: 1;\"/><path class=\"point\" transform=\"translate(339.12,225.01)\" d=\"M2,0A2,2 0 1,1 0,-2A2,2 0 0,1 2,0Z\" style=\"opacity: 1; stroke-width: 0px; fill: rgb(0, 0, 0); fill-opacity: 1;\"/><path class=\"point\" transform=\"translate(345.17,213.49)\" d=\"M2,0A2,2 0 1,1 0,-2A2,2 0 0,1 2,0Z\" style=\"opacity: 1; stroke-width: 0px; fill: rgb(0, 0, 0); fill-opacity: 1;\"/><path class=\"point\" transform=\"translate(351.23,210.39)\" d=\"M2,0A2,2 0 1,1 0,-2A2,2 0 0,1 2,0Z\" style=\"opacity: 1; stroke-width: 0px; fill: rgb(0, 0, 0); fill-opacity: 1;\"/><path class=\"point\" transform=\"translate(369.4,230.37)\" d=\"M2,0A2,2 0 1,1 0,-2A2,2 0 0,1 2,0Z\" style=\"opacity: 1; stroke-width: 0px; fill: rgb(0, 0, 0); fill-opacity: 1;\"/><path class=\"point\" transform=\"translate(375.46,246.85)\" d=\"M2,0A2,2 0 1,1 0,-2A2,2 0 0,1 2,0Z\" style=\"opacity: 1; stroke-width: 0px; fill: rgb(0, 0, 0); fill-opacity: 1;\"/><path class=\"point\" transform=\"translate(381.51,223.85)\" d=\"M2,0A2,2 0 1,1 0,-2A2,2 0 0,1 2,0Z\" style=\"opacity: 1; stroke-width: 0px; fill: rgb(0, 0, 0); fill-opacity: 1;\"/><path class=\"point\" transform=\"translate(387.57,203.37)\" d=\"M2,0A2,2 0 1,1 0,-2A2,2 0 0,1 2,0Z\" style=\"opacity: 1; stroke-width: 0px; fill: rgb(0, 0, 0); fill-opacity: 1;\"/><path class=\"point\" transform=\"translate(393.62,193.62)\" d=\"M2,0A2,2 0 1,1 0,-2A2,2 0 0,1 2,0Z\" style=\"opacity: 1; stroke-width: 0px; fill: rgb(0, 0, 0); fill-opacity: 1;\"/><path class=\"point\" transform=\"translate(411.79,197.65)\" d=\"M2,0A2,2 0 1,1 0,-2A2,2 0 0,1 2,0Z\" style=\"opacity: 1; stroke-width: 0px; fill: rgb(0, 0, 0); fill-opacity: 1;\"/><path class=\"point\" transform=\"translate(417.85,198.48)\" d=\"M2,0A2,2 0 1,1 0,-2A2,2 0 0,1 2,0Z\" style=\"opacity: 1; stroke-width: 0px; fill: rgb(0, 0, 0); fill-opacity: 1;\"/><path class=\"point\" transform=\"translate(423.91,192.78)\" d=\"M2,0A2,2 0 1,1 0,-2A2,2 0 0,1 2,0Z\" style=\"opacity: 1; stroke-width: 0px; fill: rgb(0, 0, 0); fill-opacity: 1;\"/><path class=\"point\" transform=\"translate(429.96,187.08)\" d=\"M2,0A2,2 0 1,1 0,-2A2,2 0 0,1 2,0Z\" style=\"opacity: 1; stroke-width: 0px; fill: rgb(0, 0, 0); fill-opacity: 1;\"/><path class=\"point\" transform=\"translate(436.02,181.38)\" d=\"M2,0A2,2 0 1,1 0,-2A2,2 0 0,1 2,0Z\" style=\"opacity: 1; stroke-width: 0px; fill: rgb(0, 0, 0); fill-opacity: 1;\"/><path class=\"point\" transform=\"translate(454.19,175.68)\" d=\"M2,0A2,2 0 1,1 0,-2A2,2 0 0,1 2,0Z\" style=\"opacity: 1; stroke-width: 0px; fill: rgb(0, 0, 0); fill-opacity: 1;\"/><path class=\"point\" transform=\"translate(460.24,172.53)\" d=\"M2,0A2,2 0 1,1 0,-2A2,2 0 0,1 2,0Z\" style=\"opacity: 1; stroke-width: 0px; fill: rgb(0, 0, 0); fill-opacity: 1;\"/><path class=\"point\" transform=\"translate(466.3,158.57)\" d=\"M2,0A2,2 0 1,1 0,-2A2,2 0 0,1 2,0Z\" style=\"opacity: 1; stroke-width: 0px; fill: rgb(0, 0, 0); fill-opacity: 1;\"/><path class=\"point\" transform=\"translate(472.36,126.35)\" d=\"M2,0A2,2 0 1,1 0,-2A2,2 0 0,1 2,0Z\" style=\"opacity: 1; stroke-width: 0px; fill: rgb(0, 0, 0); fill-opacity: 1;\"/></g><g class=\"text\"/></g></g></g></g><path class=\"xlines-above crisp\" d=\"M50.5,287.75H598.5M50.5,23.25H598.5\" style=\"fill: none; stroke-width: 1.5px; stroke: rgb(235, 240, 248); stroke-opacity: 1;\"/><path class=\"ylines-above crisp\" d=\"M51.25,24V287M597.75,24V287\" style=\"fill: none; stroke-width: 1.5px; stroke: rgb(235, 240, 248); stroke-opacity: 1;\"/><g class=\"overlines-above\"/><g class=\"xaxislayer-above\"><g class=\"xtick\"><text text-anchor=\"middle\" x=\"0\" y=\"300.5\" transform=\"translate(76.19,0)\" style=\"font-family: 'Open Sans', verdana, arial, sans-serif; font-size: 10px; fill: rgb(42, 63, 95); fill-opacity: 1; white-space: pre; opacity: 1;\"><tspan class=\"line\" dy=\"0em\" x=\"0\" y=\"300.5\">Feb 23</tspan><tspan class=\"line\" dy=\"1.3em\" x=\"0\" y=\"300.5\">2025</tspan></text></g><g class=\"xtick\"><text text-anchor=\"middle\" x=\"0\" y=\"300.5\" style=\"font-family: 'Open Sans', verdana, arial, sans-serif; font-size: 10px; fill: rgb(42, 63, 95); fill-opacity: 1; white-space: pre; opacity: 1;\" transform=\"translate(160.98000000000002,0)\">Mar 9</text></g><g class=\"xtick\"><text text-anchor=\"middle\" x=\"0\" y=\"300.5\" style=\"font-family: 'Open Sans', verdana, arial, sans-serif; font-size: 10px; fill: rgb(42, 63, 95); fill-opacity: 1; white-space: pre; opacity: 1;\" transform=\"translate(245.77,0)\">Mar 23</text></g><g class=\"xtick\"><text text-anchor=\"middle\" x=\"0\" y=\"300.5\" style=\"font-family: 'Open Sans', verdana, arial, sans-serif; font-size: 10px; fill: rgb(42, 63, 95); fill-opacity: 1; white-space: pre; opacity: 1;\" transform=\"translate(330.56,0)\">Apr 6</text></g><g class=\"xtick\"><text text-anchor=\"middle\" x=\"0\" y=\"300.5\" style=\"font-family: 'Open Sans', verdana, arial, sans-serif; font-size: 10px; fill: rgb(42, 63, 95); fill-opacity: 1; white-space: pre; opacity: 1;\" transform=\"translate(415.34,0)\">Apr 20</text></g><g class=\"xtick\"><text text-anchor=\"middle\" x=\"0\" y=\"300.5\" style=\"font-family: 'Open Sans', verdana, arial, sans-serif; font-size: 10px; fill: rgb(42, 63, 95); fill-opacity: 1; white-space: pre; opacity: 1;\" transform=\"translate(500.13,0)\">May 4</text></g><g class=\"xtick\"><text text-anchor=\"middle\" x=\"0\" y=\"300.5\" style=\"font-family: 'Open Sans', verdana, arial, sans-serif; font-size: 10px; fill: rgb(42, 63, 95); fill-opacity: 1; white-space: pre; opacity: 1;\" transform=\"translate(584.92,0)\">May 18</text></g></g><g class=\"yaxislayer-above\"><g class=\"ytick\"><text text-anchor=\"end\" x=\"48.5\" y=\"3.5\" transform=\"translate(0,266.09000000000003)\" style=\"font-family: 'Open Sans', verdana, arial, sans-serif; font-size: 10px; fill: rgb(42, 63, 95); fill-opacity: 1; white-space: pre; opacity: 1;\">1200</text></g><g class=\"ytick\"><text text-anchor=\"end\" x=\"48.5\" y=\"3.5\" style=\"font-family: 'Open Sans', verdana, arial, sans-serif; font-size: 10px; fill: rgb(42, 63, 95); fill-opacity: 1; white-space: pre; opacity: 1;\" transform=\"translate(0,183.18)\">1250</text></g><g class=\"ytick\"><text text-anchor=\"end\" x=\"48.5\" y=\"3.5\" style=\"font-family: 'Open Sans', verdana, arial, sans-serif; font-size: 10px; fill: rgb(42, 63, 95); fill-opacity: 1; white-space: pre; opacity: 1;\" transform=\"translate(0,100.27)\">1300</text></g></g><g class=\"overaxes-above\"/></g></g><g class=\"polarlayer\"/><g class=\"smithlayer\"/><g class=\"ternarylayer\"/><g class=\"geolayer\"/><g class=\"funnelarealayer\"/><g class=\"pielayer\"/><g class=\"iciclelayer\"/><g class=\"treemaplayer\"/><g class=\"sunburstlayer\"/><g class=\"glimages\"/><defs id=\"topdefs-c35cd6\"><g class=\"clips\"/><clipPath id=\"legendc35cd6\"><rect width=\"92\" height=\"67\" x=\"0\" y=\"0\"/></clipPath><clipPath id=\"rangesliderx-c35cd6\"><rect x=\"0\" y=\"0\" width=\"545\" height=\"61.5\"/></clipPath></defs><g class=\"layer-above\"><g class=\"imagelayer\"/><g class=\"shapelayer\"/></g><g class=\"infolayer\"><g class=\"legend\" pointer-events=\"all\" transform=\"translate(607.9,24)\"><rect class=\"bg\" shape-rendering=\"crispEdges\" style=\"stroke: rgb(68, 68, 68); stroke-opacity: 1; fill: rgb(255, 255, 255); fill-opacity: 1; stroke-width: 0px;\" width=\"92\" height=\"67\" x=\"0\" y=\"0\"/><g class=\"scrollbox\" transform=\"\" clip-path=\"url(#legendc35cd6)\"><g class=\"groups\"><g class=\"traces\" transform=\"translate(0,14.5)\" style=\"opacity: 1;\"><text class=\"legendtext\" text-anchor=\"start\" x=\"40\" y=\"3.9\" style=\"font-family: 'Open Sans', verdana, arial, sans-serif; font-size: 10px; fill: rgb(42, 63, 95); fill-opacity: 1; white-space: pre;\">Predicted</text><g class=\"layers\" style=\"opacity: 1;\"><g class=\"legendfill\"/><g class=\"legendlines\"><path class=\"js-line\" d=\"M5,0h30\" style=\"fill: none; stroke: rgb(45, 146, 255); stroke-opacity: 1; stroke-width: 2px;\"/></g><g class=\"legendsymbols\"><g class=\"legendpoints\"/></g></g><rect class=\"legendtoggle\" x=\"0\" y=\"-9.5\" width=\"86.578125\" height=\"19\" style=\"fill: rgb(0, 0, 0); fill-opacity: 0;\"/></g><g class=\"traces\" transform=\"translate(0,33.5)\" style=\"opacity: 1;\"><text class=\"legendtext\" text-anchor=\"start\" x=\"40\" y=\"3.9\" style=\"font-family: 'Open Sans', verdana, arial, sans-serif; font-size: 10px; fill: rgb(42, 63, 95); fill-opacity: 1; white-space: pre;\">Predicted</text><g class=\"layers\" style=\"opacity: 1;\"><g class=\"legendfill\"/><g class=\"legendlines\"/><g class=\"legendsymbols\"><g class=\"legendpoints\"><path class=\"scatterpts\" transform=\"translate(20,0)\" d=\"M0,1.13l1.13,1.13l1.13,-1.13l-1.13,-1.13l1.13,-1.13l-1.13,-1.13l-1.13,1.13l-1.13,-1.13l-1.13,1.13l1.13,1.13l-1.13,1.13l1.13,1.13Z\" style=\"opacity: 1; stroke-width: 0px; fill: rgb(0, 0, 255); fill-opacity: 1;\"/></g></g></g><rect class=\"legendtoggle\" x=\"0\" y=\"-9.5\" width=\"86.578125\" height=\"19\" style=\"fill: rgb(0, 0, 0); fill-opacity: 0;\"/></g><g class=\"traces\" transform=\"translate(0,52.5)\" style=\"opacity: 1;\"><text class=\"legendtext\" text-anchor=\"start\" x=\"40\" y=\"3.9\" style=\"font-family: 'Open Sans', verdana, arial, sans-serif; font-size: 10px; fill: rgb(42, 63, 95); fill-opacity: 1; white-space: pre;\">Actual</text><g class=\"layers\" style=\"opacity: 1;\"><g class=\"legendfill\"/><g class=\"legendlines\"/><g class=\"legendsymbols\"><g class=\"legendpoints\"><path class=\"scatterpts\" transform=\"translate(20,0)\" d=\"M2,0A2,2 0 1,1 0,-2A2,2 0 0,1 2,0Z\" style=\"opacity: 1; stroke-width: 0px; fill: rgb(0, 0, 0); fill-opacity: 1;\"/></g></g></g><rect class=\"legendtoggle\" x=\"0\" y=\"-9.5\" width=\"86.578125\" height=\"19\" style=\"fill: rgb(0, 0, 0); fill-opacity: 0;\"/></g></g></g><rect class=\"scrollbar\" rx=\"20\" ry=\"3\" width=\"0\" height=\"0\" style=\"fill: rgb(128, 139, 164); fill-opacity: 1;\" x=\"0\" y=\"0\"/></g><g class=\"rangeselector\" transform=\"\" style=\"cursor: pointer; pointer-events: all;\"><g class=\"button\" transform=\"\"><rect class=\"selector-rect\" shape-rendering=\"crispEdges\" rx=\"3\" ry=\"3\" style=\"stroke: rgb(68, 68, 68); stroke-opacity: 1; fill: rgb(238, 238, 238); fill-opacity: 1; stroke-width: 0px;\" x=\"0\" y=\"0\" width=\"30\" height=\"19\"/><text class=\"selector-text\" text-anchor=\"middle\" x=\"15\" y=\"12.5\" style=\"font-family: 'Open Sans', verdana, arial, sans-serif; font-size: 10px; fill: rgb(42, 63, 95); fill-opacity: 1; white-space: pre;\">1w</text></g><g class=\"button\" transform=\"translate(35,0)\"><rect class=\"selector-rect\" shape-rendering=\"crispEdges\" rx=\"3\" ry=\"3\" style=\"stroke: rgb(68, 68, 68); stroke-opacity: 1; fill: rgb(238, 238, 238); fill-opacity: 1; stroke-width: 0px;\" x=\"0\" y=\"0\" width=\"30\" height=\"19\"/><text class=\"selector-text\" text-anchor=\"middle\" x=\"15\" y=\"12.5\" style=\"font-family: 'Open Sans', verdana, arial, sans-serif; font-size: 10px; fill: rgb(42, 63, 95); fill-opacity: 1; white-space: pre;\">1m</text></g><g class=\"button\" transform=\"translate(70,0)\"><rect class=\"selector-rect\" shape-rendering=\"crispEdges\" rx=\"3\" ry=\"3\" style=\"stroke: rgb(68, 68, 68); stroke-opacity: 1; fill: rgb(238, 238, 238); fill-opacity: 1; stroke-width: 0px;\" x=\"0\" y=\"0\" width=\"30\" height=\"19\"/><text class=\"selector-text\" text-anchor=\"middle\" x=\"15\" y=\"12.5\" style=\"font-family: 'Open Sans', verdana, arial, sans-serif; font-size: 10px; fill: rgb(42, 63, 95); fill-opacity: 1; white-space: pre;\">6m</text></g><g class=\"button\" transform=\"translate(105,0)\"><rect class=\"selector-rect\" shape-rendering=\"crispEdges\" rx=\"3\" ry=\"3\" style=\"stroke: rgb(68, 68, 68); stroke-opacity: 1; fill: rgb(238, 238, 238); fill-opacity: 1; stroke-width: 0px;\" x=\"0\" y=\"0\" width=\"30\" height=\"19\"/><text class=\"selector-text\" text-anchor=\"middle\" x=\"15\" y=\"12.5\" style=\"font-family: 'Open Sans', verdana, arial, sans-serif; font-size: 10px; fill: rgb(42, 63, 95); fill-opacity: 1; white-space: pre;\">1y</text></g><g class=\"button\" transform=\"translate(140,0)\"><rect class=\"selector-rect\" shape-rendering=\"crispEdges\" rx=\"3\" ry=\"3\" style=\"stroke: rgb(68, 68, 68); stroke-opacity: 1; fill: rgb(212, 212, 212); fill-opacity: 1; stroke-width: 0px;\" x=\"0\" y=\"0\" width=\"30\" height=\"19\"/><text class=\"selector-text\" text-anchor=\"middle\" x=\"15\" y=\"12.5\" style=\"font-family: 'Open Sans', verdana, arial, sans-serif; font-size: 10px; fill: rgb(42, 63, 95); fill-opacity: 1; white-space: pre;\">all</text></g></g><g class=\"g-gtitle\"/><g class=\"rangeslider-container\" pointer-events=\"all\" transform=\"translate(52,331)\"><rect class=\"rangeslider-bg\" x=\"0\" y=\"0\" shape-rendering=\"crispEdges\" width=\"545\" height=\"61.5\" transform=\"\" stroke-width=\"0\" style=\"stroke: rgb(68, 68, 68); stroke-opacity: 1; fill: rgb(255, 255, 255); fill-opacity: 1;\"/><g class=\"rangeslider-rangeplot xy\" clip-path=\"url(#rangesliderx-c35cd6)\"><g class=\"layer-subplot\"><g class=\"shapelayer\"/><g class=\"imagelayer\"/></g><g class=\"minor-gridlayer\"><g class=\"x\"/><g class=\"y\"/></g><g class=\"gridlayer\"><g class=\"x\"/><g class=\"y\"/></g><g class=\"zerolinelayer\"/><g class=\"layer-between\"><g class=\"shapelayer\"/><g class=\"imagelayer\"/></g><path class=\"xlines-below\"/><path class=\"ylines-below\"/><g class=\"overlines-below\"/><g class=\"xaxislayer-below\"/><g class=\"yaxislayer-below\"/><g class=\"overaxes-below\"/><g class=\"overplot\"><g class=\"xy\"><g class=\"scatterlayer mlayer rangeplot\"><g class=\"trace scatter trace5f0305\" style=\"stroke-miterlimit: 2; opacity: 1;\"><g class=\"fills\"/><g class=\"errorbars\"/><g class=\"lines\"><path class=\"js-line\" d=\"M411.79,46.92L417.85,47.08L423.91,46.31L429.96,43.12L436.02,52.91L454.19,45.1L460.24,43.39L466.3,40.99L472.36,43.87L478.41,30.58L496.58,35.39L502.64,34.82L508.69,36.92L514.75,33.39\" style=\"vector-effect: none; fill: none; stroke: rgb(45, 146, 255); stroke-opacity: 1; stroke-width: 2px; opacity: 1;\"/></g><g class=\"points\"/><g class=\"text\"/></g><g class=\"trace scatter traceb0f991\" style=\"stroke-miterlimit: 2; opacity: 1;\"><g class=\"fills\"/><g class=\"errorbars\"/><g class=\"lines\"/><g class=\"points\"><path class=\"point\" transform=\"translate(411.79,46.92)\" d=\"M0,1.13l1.13,1.13l1.13,-1.13l-1.13,-1.13l1.13,-1.13l-1.13,-1.13l-1.13,1.13l-1.13,-1.13l-1.13,1.13l1.13,1.13l-1.13,1.13l1.13,1.13Z\" style=\"opacity: 1; stroke-width: 0px; fill: rgb(0, 0, 255); fill-opacity: 1;\"/><path class=\"point\" transform=\"translate(417.85,47.08)\" d=\"M0,1.13l1.13,1.13l1.13,-1.13l-1.13,-1.13l1.13,-1.13l-1.13,-1.13l-1.13,1.13l-1.13,-1.13l-1.13,1.13l1.13,1.13l-1.13,1.13l1.13,1.13Z\" style=\"opacity: 1; stroke-width: 0px; fill: rgb(0, 0, 255); fill-opacity: 1;\"/><path class=\"point\" transform=\"translate(423.91,46.31)\" d=\"M0,1.13l1.13,1.13l1.13,-1.13l-1.13,-1.13l1.13,-1.13l-1.13,-1.13l-1.13,1.13l-1.13,-1.13l-1.13,1.13l1.13,1.13l-1.13,1.13l1.13,1.13Z\" style=\"opacity: 1; stroke-width: 0px; fill: rgb(0, 0, 255); fill-opacity: 1;\"/><path class=\"point\" transform=\"translate(429.96,43.12)\" d=\"M0,1.13l1.13,1.13l1.13,-1.13l-1.13,-1.13l1.13,-1.13l-1.13,-1.13l-1.13,1.13l-1.13,-1.13l-1.13,1.13l1.13,1.13l-1.13,1.13l1.13,1.13Z\" style=\"opacity: 1; stroke-width: 0px; fill: rgb(0, 0, 255); fill-opacity: 1;\"/><path class=\"point\" transform=\"translate(436.02,52.91)\" d=\"M0,1.13l1.13,1.13l1.13,-1.13l-1.13,-1.13l1.13,-1.13l-1.13,-1.13l-1.13,1.13l-1.13,-1.13l-1.13,1.13l1.13,1.13l-1.13,1.13l1.13,1.13Z\" style=\"opacity: 1; stroke-width: 0px; fill: rgb(0, 0, 255); fill-opacity: 1;\"/><path class=\"point\" transform=\"translate(454.19,45.1)\" d=\"M0,1.13l1.13,1.13l1.13,-1.13l-1.13,-1.13l1.13,-1.13l-1.13,-1.13l-1.13,1.13l-1.13,-1.13l-1.13,1.13l1.13,1.13l-1.13,1.13l1.13,1.13Z\" style=\"opacity: 1; stroke-width: 0px; fill: rgb(0, 0, 255); fill-opacity: 1;\"/><path class=\"point\" transform=\"translate(460.24,43.39)\" d=\"M0,1.13l1.13,1.13l1.13,-1.13l-1.13,-1.13l1.13,-1.13l-1.13,-1.13l-1.13,1.13l-1.13,-1.13l-1.13,1.13l1.13,1.13l-1.13,1.13l1.13,1.13Z\" style=\"opacity: 1; stroke-width: 0px; fill: rgb(0, 0, 255); fill-opacity: 1;\"/><path class=\"point\" transform=\"translate(466.3,40.99)\" d=\"M0,1.13l1.13,1.13l1.13,-1.13l-1.13,-1.13l1.13,-1.13l-1.13,-1.13l-1.13,1.13l-1.13,-1.13l-1.13,1.13l1.13,1.13l-1.13,1.13l1.13,1.13Z\" style=\"opacity: 1; stroke-width: 0px; fill: rgb(0, 0, 255); fill-opacity: 1;\"/><path class=\"point\" transform=\"translate(472.36,43.87)\" d=\"M0,1.13l1.13,1.13l1.13,-1.13l-1.13,-1.13l1.13,-1.13l-1.13,-1.13l-1.13,1.13l-1.13,-1.13l-1.13,1.13l1.13,1.13l-1.13,1.13l1.13,1.13Z\" style=\"opacity: 1; stroke-width: 0px; fill: rgb(0, 0, 255); fill-opacity: 1;\"/><path class=\"point\" transform=\"translate(478.41,30.58)\" d=\"M0,1.13l1.13,1.13l1.13,-1.13l-1.13,-1.13l1.13,-1.13l-1.13,-1.13l-1.13,1.13l-1.13,-1.13l-1.13,1.13l1.13,1.13l-1.13,1.13l1.13,1.13Z\" style=\"opacity: 1; stroke-width: 0px; fill: rgb(0, 0, 255); fill-opacity: 1;\"/><path class=\"point\" transform=\"translate(496.58,35.39)\" d=\"M0,1.13l1.13,1.13l1.13,-1.13l-1.13,-1.13l1.13,-1.13l-1.13,-1.13l-1.13,1.13l-1.13,-1.13l-1.13,1.13l1.13,1.13l-1.13,1.13l1.13,1.13Z\" style=\"opacity: 1; stroke-width: 0px; fill: rgb(0, 0, 255); fill-opacity: 1;\"/><path class=\"point\" transform=\"translate(502.64,34.82)\" d=\"M0,1.13l1.13,1.13l1.13,-1.13l-1.13,-1.13l1.13,-1.13l-1.13,-1.13l-1.13,1.13l-1.13,-1.13l-1.13,1.13l1.13,1.13l-1.13,1.13l1.13,1.13Z\" style=\"opacity: 1; stroke-width: 0px; fill: rgb(0, 0, 255); fill-opacity: 1;\"/><path class=\"point\" transform=\"translate(508.69,36.92)\" d=\"M0,1.13l1.13,1.13l1.13,-1.13l-1.13,-1.13l1.13,-1.13l-1.13,-1.13l-1.13,1.13l-1.13,-1.13l-1.13,1.13l1.13,1.13l-1.13,1.13l1.13,1.13Z\" style=\"opacity: 1; stroke-width: 0px; fill: rgb(0, 0, 255); fill-opacity: 1;\"/><path class=\"point\" transform=\"translate(514.75,33.39)\" d=\"M0,1.13l1.13,1.13l1.13,-1.13l-1.13,-1.13l1.13,-1.13l-1.13,-1.13l-1.13,1.13l-1.13,-1.13l-1.13,1.13l1.13,1.13l-1.13,1.13l1.13,1.13Z\" style=\"opacity: 1; stroke-width: 0px; fill: rgb(0, 0, 255); fill-opacity: 1;\"/></g><g class=\"text\"/></g><g class=\"trace scatter traced6eae9\" style=\"stroke-miterlimit: 2; opacity: 1;\"><g class=\"fills\"/><g class=\"errorbars\"/><g class=\"lines\"/><g class=\"points\"><path class=\"point\" transform=\"translate(30.25,16.2)\" d=\"M2,0A2,2 0 1,1 0,-2A2,2 0 0,1 2,0Z\" style=\"opacity: 1; stroke-width: 0px; fill: rgb(0, 0, 0); fill-opacity: 1;\"/><path class=\"point\" transform=\"translate(36.31,16.75)\" d=\"M2,0A2,2 0 1,1 0,-2A2,2 0 0,1 2,0Z\" style=\"opacity: 1; stroke-width: 0px; fill: rgb(0, 0, 0); fill-opacity: 1;\"/><path class=\"point\" transform=\"translate(42.36,16.82)\" d=\"M2,0A2,2 0 1,1 0,-2A2,2 0 0,1 2,0Z\" style=\"opacity: 1; stroke-width: 0px; fill: rgb(0, 0, 0); fill-opacity: 1;\"/><path class=\"point\" transform=\"translate(48.42,14.93)\" d=\"M2,0A2,2 0 1,1 0,-2A2,2 0 0,1 2,0Z\" style=\"opacity: 1; stroke-width: 0px; fill: rgb(0, 0, 0); fill-opacity: 1;\"/><path class=\"point\" transform=\"translate(54.48,15.89)\" d=\"M2,0A2,2 0 1,1 0,-2A2,2 0 0,1 2,0Z\" style=\"opacity: 1; stroke-width: 0px; fill: rgb(0, 0, 0); fill-opacity: 1;\"/><path class=\"point\" transform=\"translate(72.64,14.32)\" d=\"M2,0A2,2 0 1,1 0,-2A2,2 0 0,1 2,0Z\" style=\"opacity: 1; stroke-width: 0px; fill: rgb(0, 0, 0); fill-opacity: 1;\"/><path class=\"point\" transform=\"translate(78.7,13.33)\" d=\"M2,0A2,2 0 1,1 0,-2A2,2 0 0,1 2,0Z\" style=\"opacity: 1; stroke-width: 0px; fill: rgb(0, 0, 0); fill-opacity: 1;\"/><path class=\"point\" transform=\"translate(84.76,16.14)\" d=\"M2,0A2,2 0 1,1 0,-2A2,2 0 0,1 2,0Z\" style=\"opacity: 1; stroke-width: 0px; fill: rgb(0, 0, 0); fill-opacity: 1;\"/><path class=\"point\" transform=\"translate(90.81,10.86)\" d=\"M2,0A2,2 0 1,1 0,-2A2,2 0 0,1 2,0Z\" style=\"opacity: 1; stroke-width: 0px; fill: rgb(0, 0, 0); fill-opacity: 1;\"/><path class=\"point\" transform=\"translate(96.87,7.8)\" d=\"M2,0A2,2 0 1,1 0,-2A2,2 0 0,1 2,0Z\" style=\"opacity: 1; stroke-width: 0px; fill: rgb(0, 0, 0); fill-opacity: 1;\"/><path class=\"point\" transform=\"translate(115.04,6.14)\" d=\"M2,0A2,2 0 1,1 0,-2A2,2 0 0,1 2,0Z\" style=\"opacity: 1; stroke-width: 0px; fill: rgb(0, 0, 0); fill-opacity: 1;\"/><path class=\"point\" transform=\"translate(121.09,5.26)\" d=\"M2,0A2,2 0 1,1 0,-2A2,2 0 0,1 2,0Z\" style=\"opacity: 1; stroke-width: 0px; fill: rgb(0, 0, 0); fill-opacity: 1;\"/><path class=\"point\" transform=\"translate(127.15,4.53)\" d=\"M2,0A2,2 0 1,1 0,-2A2,2 0 0,1 2,0Z\" style=\"opacity: 1; stroke-width: 0px; fill: rgb(0, 0, 0); fill-opacity: 1;\"/><path class=\"point\" transform=\"translate(133.21,7.71)\" d=\"M2,0A2,2 0 1,1 0,-2A2,2 0 0,1 2,0Z\" style=\"opacity: 1; stroke-width: 0px; fill: rgb(0, 0, 0); fill-opacity: 1;\"/><path class=\"point\" transform=\"translate(139.26,7.76)\" d=\"M2,0A2,2 0 1,1 0,-2A2,2 0 0,1 2,0Z\" style=\"opacity: 1; stroke-width: 0px; fill: rgb(0, 0, 0); fill-opacity: 1;\"/><path class=\"point\" transform=\"translate(157.43,3.81)\" d=\"M2,0A2,2 0 1,1 0,-2A2,2 0 0,1 2,0Z\" style=\"opacity: 1; stroke-width: 0px; fill: rgb(0, 0, 0); fill-opacity: 1;\"/><path class=\"point\" transform=\"translate(163.49,5.88)\" d=\"M2,0A2,2 0 1,1 0,-2A2,2 0 0,1 2,0Z\" style=\"opacity: 1; stroke-width: 0px; fill: rgb(0, 0, 0); fill-opacity: 1;\"/><path class=\"point\" transform=\"translate(169.54,8.35)\" d=\"M2,0A2,2 0 1,1 0,-2A2,2 0 0,1 2,0Z\" style=\"opacity: 1; stroke-width: 0px; fill: rgb(0, 0, 0); fill-opacity: 1;\"/><path class=\"point\" transform=\"translate(175.6,8.63)\" d=\"M2,0A2,2 0 1,1 0,-2A2,2 0 0,1 2,0Z\" style=\"opacity: 1; stroke-width: 0px; fill: rgb(0, 0, 0); fill-opacity: 1;\"/><path class=\"point\" transform=\"translate(181.66,9.43)\" d=\"M2,0A2,2 0 1,1 0,-2A2,2 0 0,1 2,0Z\" style=\"opacity: 1; stroke-width: 0px; fill: rgb(0, 0, 0); fill-opacity: 1;\"/><path class=\"point\" transform=\"translate(199.83,6.13)\" d=\"M2,0A2,2 0 1,1 0,-2A2,2 0 0,1 2,0Z\" style=\"opacity: 1; stroke-width: 0px; fill: rgb(0, 0, 0); fill-opacity: 1;\"/><path class=\"point\" transform=\"translate(205.88,5.5)\" d=\"M2,0A2,2 0 1,1 0,-2A2,2 0 0,1 2,0Z\" style=\"opacity: 1; stroke-width: 0px; fill: rgb(0, 0, 0); fill-opacity: 1;\"/><path class=\"point\" transform=\"translate(211.94,7.78)\" d=\"M2,0A2,2 0 1,1 0,-2A2,2 0 0,1 2,0Z\" style=\"opacity: 1; stroke-width: 0px; fill: rgb(0, 0, 0); fill-opacity: 1;\"/><path class=\"point\" transform=\"translate(217.99,8.67)\" d=\"M2,0A2,2 0 1,1 0,-2A2,2 0 0,1 2,0Z\" style=\"opacity: 1; stroke-width: 0px; fill: rgb(0, 0, 0); fill-opacity: 1;\"/><path class=\"point\" transform=\"translate(224.05,11.16)\" d=\"M2,0A2,2 0 1,1 0,-2A2,2 0 0,1 2,0Z\" style=\"opacity: 1; stroke-width: 0px; fill: rgb(0, 0, 0); fill-opacity: 1;\"/><path class=\"point\" transform=\"translate(242.22,15.3)\" d=\"M2,0A2,2 0 1,1 0,-2A2,2 0 0,1 2,0Z\" style=\"opacity: 1; stroke-width: 0px; fill: rgb(0, 0, 0); fill-opacity: 1;\"/><path class=\"point\" transform=\"translate(248.28,11.21)\" d=\"M2,0A2,2 0 1,1 0,-2A2,2 0 0,1 2,0Z\" style=\"opacity: 1; stroke-width: 0px; fill: rgb(0, 0, 0); fill-opacity: 1;\"/><path class=\"point\" transform=\"translate(254.33,11.01)\" d=\"M2,0A2,2 0 1,1 0,-2A2,2 0 0,1 2,0Z\" style=\"opacity: 1; stroke-width: 0px; fill: rgb(0, 0, 0); fill-opacity: 1;\"/><path class=\"point\" transform=\"translate(260.39,31.96)\" d=\"M2,0A2,2 0 1,1 0,-2A2,2 0 0,1 2,0Z\" style=\"opacity: 1; stroke-width: 0px; fill: rgb(0, 0, 0); fill-opacity: 1;\"/><path class=\"point\" transform=\"translate(266.44,52.9)\" d=\"M2,0A2,2 0 1,1 0,-2A2,2 0 0,1 2,0Z\" style=\"opacity: 1; stroke-width: 0px; fill: rgb(0, 0, 0); fill-opacity: 1;\"/><path class=\"point\" transform=\"translate(284.61,50.9)\" d=\"M2,0A2,2 0 1,1 0,-2A2,2 0 0,1 2,0Z\" style=\"opacity: 1; stroke-width: 0px; fill: rgb(0, 0, 0); fill-opacity: 1;\"/><path class=\"point\" transform=\"translate(290.67,48.89)\" d=\"M2,0A2,2 0 1,1 0,-2A2,2 0 0,1 2,0Z\" style=\"opacity: 1; stroke-width: 0px; fill: rgb(0, 0, 0); fill-opacity: 1;\"/><path class=\"point\" transform=\"translate(296.72,46.89)\" d=\"M2,0A2,2 0 1,1 0,-2A2,2 0 0,1 2,0Z\" style=\"opacity: 1; stroke-width: 0px; fill: rgb(0, 0, 0); fill-opacity: 1;\"/><path class=\"point\" transform=\"translate(302.78,44.88)\" d=\"M2,0A2,2 0 1,1 0,-2A2,2 0 0,1 2,0Z\" style=\"opacity: 1; stroke-width: 0px; fill: rgb(0, 0, 0); fill-opacity: 1;\"/><path class=\"point\" transform=\"translate(308.84,42.88)\" d=\"M2,0A2,2 0 1,1 0,-2A2,2 0 0,1 2,0Z\" style=\"opacity: 1; stroke-width: 0px; fill: rgb(0, 0, 0); fill-opacity: 1;\"/><path class=\"point\" transform=\"translate(327.01,40.87)\" d=\"M2,0A2,2 0 1,1 0,-2A2,2 0 0,1 2,0Z\" style=\"opacity: 1; stroke-width: 0px; fill: rgb(0, 0, 0); fill-opacity: 1;\"/><path class=\"point\" transform=\"translate(333.06,46.21)\" d=\"M2,0A2,2 0 1,1 0,-2A2,2 0 0,1 2,0Z\" style=\"opacity: 1; stroke-width: 0px; fill: rgb(0, 0, 0); fill-opacity: 1;\"/><path class=\"point\" transform=\"translate(339.12,53.04)\" d=\"M2,0A2,2 0 1,1 0,-2A2,2 0 0,1 2,0Z\" style=\"opacity: 1; stroke-width: 0px; fill: rgb(0, 0, 0); fill-opacity: 1;\"/><path class=\"point\" transform=\"translate(345.17,50.33)\" d=\"M2,0A2,2 0 1,1 0,-2A2,2 0 0,1 2,0Z\" style=\"opacity: 1; stroke-width: 0px; fill: rgb(0, 0, 0); fill-opacity: 1;\"/><path class=\"point\" transform=\"translate(351.23,49.6)\" d=\"M2,0A2,2 0 1,1 0,-2A2,2 0 0,1 2,0Z\" style=\"opacity: 1; stroke-width: 0px; fill: rgb(0, 0, 0); fill-opacity: 1;\"/><path class=\"point\" transform=\"translate(369.4,54.31)\" d=\"M2,0A2,2 0 1,1 0,-2A2,2 0 0,1 2,0Z\" style=\"opacity: 1; stroke-width: 0px; fill: rgb(0, 0, 0); fill-opacity: 1;\"/><path class=\"point\" transform=\"translate(375.46,58.19)\" d=\"M2,0A2,2 0 1,1 0,-2A2,2 0 0,1 2,0Z\" style=\"opacity: 1; stroke-width: 0px; fill: rgb(0, 0, 0); fill-opacity: 1;\"/><path class=\"point\" transform=\"translate(381.51,52.77)\" d=\"M2,0A2,2 0 1,1 0,-2A2,2 0 0,1 2,0Z\" style=\"opacity: 1; stroke-width: 0px; fill: rgb(0, 0, 0); fill-opacity: 1;\"/><path class=\"point\" transform=\"translate(387.57,47.94)\" d=\"M2,0A2,2 0 1,1 0,-2A2,2 0 0,1 2,0Z\" style=\"opacity: 1; stroke-width: 0px; fill: rgb(0, 0, 0); fill-opacity: 1;\"/><path class=\"point\" transform=\"translate(393.62,45.64)\" d=\"M2,0A2,2 0 1,1 0,-2A2,2 0 0,1 2,0Z\" style=\"opacity: 1; stroke-width: 0px; fill: rgb(0, 0, 0); fill-opacity: 1;\"/><path class=\"point\" transform=\"translate(411.79,46.59)\" d=\"M2,0A2,2 0 1,1 0,-2A2,2 0 0,1 2,0Z\" style=\"opacity: 1; stroke-width: 0px; fill: rgb(0, 0, 0); fill-opacity: 1;\"/><path class=\"point\" transform=\"translate(417.85,46.79)\" d=\"M2,0A2,2 0 1,1 0,-2A2,2 0 0,1 2,0Z\" style=\"opacity: 1; stroke-width: 0px; fill: rgb(0, 0, 0); fill-opacity: 1;\"/><path class=\"point\" transform=\"translate(423.91,45.45)\" d=\"M2,0A2,2 0 1,1 0,-2A2,2 0 0,1 2,0Z\" style=\"opacity: 1; stroke-width: 0px; fill: rgb(0, 0, 0); fill-opacity: 1;\"/><path class=\"point\" transform=\"translate(429.96,44.1)\" d=\"M2,0A2,2 0 1,1 0,-2A2,2 0 0,1 2,0Z\" style=\"opacity: 1; stroke-width: 0px; fill: rgb(0, 0, 0); fill-opacity: 1;\"/><path class=\"point\" transform=\"translate(436.02,42.76)\" d=\"M2,0A2,2 0 1,1 0,-2A2,2 0 0,1 2,0Z\" style=\"opacity: 1; stroke-width: 0px; fill: rgb(0, 0, 0); fill-opacity: 1;\"/><path class=\"point\" transform=\"translate(454.19,41.42)\" d=\"M2,0A2,2 0 1,1 0,-2A2,2 0 0,1 2,0Z\" style=\"opacity: 1; stroke-width: 0px; fill: rgb(0, 0, 0); fill-opacity: 1;\"/><path class=\"point\" transform=\"translate(460.24,40.67)\" d=\"M2,0A2,2 0 1,1 0,-2A2,2 0 0,1 2,0Z\" style=\"opacity: 1; stroke-width: 0px; fill: rgb(0, 0, 0); fill-opacity: 1;\"/><path class=\"point\" transform=\"translate(466.3,37.38)\" d=\"M2,0A2,2 0 1,1 0,-2A2,2 0 0,1 2,0Z\" style=\"opacity: 1; stroke-width: 0px; fill: rgb(0, 0, 0); fill-opacity: 1;\"/><path class=\"point\" transform=\"translate(472.36,29.79)\" d=\"M2,0A2,2 0 1,1 0,-2A2,2 0 0,1 2,0Z\" style=\"opacity: 1; stroke-width: 0px; fill: rgb(0, 0, 0); fill-opacity: 1;\"/></g><g class=\"text\"/></g></g></g></g><path class=\"xlines-above crisp\" style=\"fill: none;\"/><path class=\"ylines-above crisp\" style=\"fill: none;\"/><g class=\"overlines-above\"/><g class=\"xaxislayer-above\"/><g class=\"yaxislayer-above\"/><g class=\"overaxes-above\"/></g><rect class=\"rangeslider-mask-min\" x=\"0\" y=\"0\" shape-rendering=\"crispEdges\" height=\"61.5\" width=\"0\" style=\"fill: rgb(0, 0, 0); fill-opacity: 0.4;\"/><rect class=\"rangeslider-mask-max\" y=\"0\" shape-rendering=\"crispEdges\" height=\"61.5\" x=\"545\" width=\"0\" style=\"fill: rgb(0, 0, 0); fill-opacity: 0.4;\"/><g class=\"rangeslider-grabber-min\" transform=\"translate(-2.5,0.5)\"><rect class=\"rangeslider-handle-min\" x=\"0\" width=\"4\" rx=\"1\" fill=\"#fff\" stroke=\"#444\" stroke-width=\"1\" shape-rendering=\"crispEdges\" y=\"15\" height=\"31\"/><rect class=\"rangeslider-grabarea-min\" width=\"10\" x=\"0\" y=\"0\" fill=\"transparent\" height=\"61.5\"/></g><g class=\"rangeslider-grabber-max\" transform=\"translate(543.5,0.5)\"><rect class=\"rangeslider-handle-max\" x=\"0\" width=\"4\" rx=\"1\" fill=\"#fff\" stroke=\"#444\" stroke-width=\"1\" shape-rendering=\"crispEdges\" y=\"15\" height=\"31\"/><rect class=\"rangeslider-grabarea-max\" width=\"10\" x=\"0\" y=\"0\" fill=\"transparent\" height=\"61.5\"/></g></g><g class=\"g-ytitle\" transform=\"translate(7.3876953125,0)\"><text class=\"ytitle\" transform=\"rotate(-90,4.612499999999997,155.5)\" x=\"4.612499999999997\" y=\"155.5\" text-anchor=\"middle\" style=\"opacity: 1; font-family: 'Open Sans', verdana, arial, sans-serif; font-size: 12px; fill: rgb(42, 63, 95); fill-opacity: 1; white-space: pre;\">y</text></g><g class=\"g-xtitle\"><text class=\"xtitle\" x=\"324.5\" y=\"420.5\" text-anchor=\"middle\" style=\"opacity: 1; font-family: 'Open Sans', verdana, arial, sans-serif; font-size: 12px; fill: rgb(42, 63, 95); fill-opacity: 1; white-space: pre;\">ds</text></g></g></svg>"
      ]
     },
     "metadata": {},
     "output_type": "display_data"
    }
   ],
   "source": [
    "future = m.make_future_dataframe(df, periods=5, n_historic_predictions=False)\n",
    "forecast = m.predict(future, auto_extend=False, raw=False)\n",
    "\n",
    "print(forecast)\n",
    "modify(forecast)\n",
    "# Visualize the forecast\n",
    "m.highlight_nth_step_ahead_of_each_forecast(step_number=1)\n",
    "m.plot(forecast)"
   ]
  },
  {
   "cell_type": "code",
   "execution_count": 15,
   "id": "c2caf241",
   "metadata": {},
   "outputs": [
    {
     "data": {
      "text/html": [
       "<div>\n",
       "<style scoped>\n",
       "    .dataframe tbody tr th:only-of-type {\n",
       "        vertical-align: middle;\n",
       "    }\n",
       "\n",
       "    .dataframe tbody tr th {\n",
       "        vertical-align: top;\n",
       "    }\n",
       "\n",
       "    .dataframe thead th {\n",
       "        text-align: right;\n",
       "    }\n",
       "</style>\n",
       "<table border=\"1\" class=\"dataframe\">\n",
       "  <thead>\n",
       "    <tr style=\"text-align: right;\">\n",
       "      <th></th>\n",
       "      <th>ds</th>\n",
       "      <th>y</th>\n",
       "      <th>yhat1</th>\n",
       "      <th>yhat2</th>\n",
       "      <th>yhat3</th>\n",
       "      <th>yhat4</th>\n",
       "      <th>yhat5</th>\n",
       "      <th>ar1</th>\n",
       "      <th>ar2</th>\n",
       "      <th>ar3</th>\n",
       "      <th>ar4</th>\n",
       "      <th>ar5</th>\n",
       "      <th>trend</th>\n",
       "      <th>season_yearly</th>\n",
       "      <th>season_weekly</th>\n",
       "    </tr>\n",
       "  </thead>\n",
       "  <tbody>\n",
       "    <tr>\n",
       "      <th>48</th>\n",
       "      <td>2025-05-01</td>\n",
       "      <td>1233.1750</td>\n",
       "      <td>1235.697754</td>\n",
       "      <td>1224.602295</td>\n",
       "      <td>1216.932007</td>\n",
       "      <td>1218.506104</td>\n",
       "      <td>NaN</td>\n",
       "      <td>72.646873</td>\n",
       "      <td>61.551556</td>\n",
       "      <td>53.881165</td>\n",
       "      <td>55.455231</td>\n",
       "      <td>NaN</td>\n",
       "      <td>1189.812744</td>\n",
       "      <td>-12.410201</td>\n",
       "      <td>-14.351724</td>\n",
       "    </tr>\n",
       "    <tr>\n",
       "      <th>49</th>\n",
       "      <td>2025-05-02</td>\n",
       "      <td>1236.6125</td>\n",
       "      <td>1210.645020</td>\n",
       "      <td>1210.645020</td>\n",
       "      <td>1228.282715</td>\n",
       "      <td>1224.174072</td>\n",
       "      <td>1229.165649</td>\n",
       "      <td>13.589694</td>\n",
       "      <td>-10.800488</td>\n",
       "      <td>6.837266</td>\n",
       "      <td>2.728652</td>\n",
       "      <td>7.720213</td>\n",
       "      <td>1189.966064</td>\n",
       "      <td>-12.667153</td>\n",
       "      <td>44.146465</td>\n",
       "    </tr>\n",
       "    <tr>\n",
       "      <th>50</th>\n",
       "      <td>2025-05-05</td>\n",
       "      <td>1240.0500</td>\n",
       "      <td>1230.625977</td>\n",
       "      <td>1224.610107</td>\n",
       "      <td>1230.625977</td>\n",
       "      <td>1228.278198</td>\n",
       "      <td>1210.197754</td>\n",
       "      <td>-63.434246</td>\n",
       "      <td>-69.111458</td>\n",
       "      <td>-63.095654</td>\n",
       "      <td>-65.443466</td>\n",
       "      <td>-83.523827</td>\n",
       "      <td>1190.426147</td>\n",
       "      <td>-13.103772</td>\n",
       "      <td>116.399246</td>\n",
       "    </tr>\n",
       "    <tr>\n",
       "      <th>51</th>\n",
       "      <td>2025-05-06</td>\n",
       "      <td>1241.9500</td>\n",
       "      <td>1235.001953</td>\n",
       "      <td>1247.959717</td>\n",
       "      <td>1232.315674</td>\n",
       "      <td>1235.001953</td>\n",
       "      <td>1211.983276</td>\n",
       "      <td>-43.320728</td>\n",
       "      <td>-32.568508</td>\n",
       "      <td>-48.212528</td>\n",
       "      <td>-45.526226</td>\n",
       "      <td>-68.544922</td>\n",
       "      <td>1190.579468</td>\n",
       "      <td>-13.133309</td>\n",
       "      <td>103.082008</td>\n",
       "    </tr>\n",
       "    <tr>\n",
       "      <th>52</th>\n",
       "      <td>2025-05-07</td>\n",
       "      <td>1250.3700</td>\n",
       "      <td>1241.141479</td>\n",
       "      <td>1241.026611</td>\n",
       "      <td>1237.556641</td>\n",
       "      <td>1227.361938</td>\n",
       "      <td>1241.141479</td>\n",
       "      <td>41.698299</td>\n",
       "      <td>40.811687</td>\n",
       "      <td>37.341606</td>\n",
       "      <td>27.146936</td>\n",
       "      <td>40.926487</td>\n",
       "      <td>1190.732910</td>\n",
       "      <td>-13.106215</td>\n",
       "      <td>22.588354</td>\n",
       "    </tr>\n",
       "    <tr>\n",
       "      <th>53</th>\n",
       "      <td>2025-05-08</td>\n",
       "      <td>1269.8000</td>\n",
       "      <td>1233.781128</td>\n",
       "      <td>1237.511230</td>\n",
       "      <td>1238.479492</td>\n",
       "      <td>1224.290527</td>\n",
       "      <td>1233.781128</td>\n",
       "      <td>82.009964</td>\n",
       "      <td>73.914070</td>\n",
       "      <td>74.882317</td>\n",
       "      <td>60.693439</td>\n",
       "      <td>70.184013</td>\n",
       "      <td>1190.886108</td>\n",
       "      <td>-13.020273</td>\n",
       "      <td>-14.268738</td>\n",
       "    </tr>\n",
       "    <tr>\n",
       "      <th>54</th>\n",
       "      <td>2025-05-09</td>\n",
       "      <td>NaN</td>\n",
       "      <td>1267.770264</td>\n",
       "      <td>1236.289429</td>\n",
       "      <td>1247.468506</td>\n",
       "      <td>1251.687988</td>\n",
       "      <td>1223.478638</td>\n",
       "      <td>45.437683</td>\n",
       "      <td>13.956837</td>\n",
       "      <td>25.135921</td>\n",
       "      <td>29.355398</td>\n",
       "      <td>1.146053</td>\n",
       "      <td>1191.039551</td>\n",
       "      <td>-12.876964</td>\n",
       "      <td>44.170025</td>\n",
       "    </tr>\n",
       "    <tr>\n",
       "      <th>55</th>\n",
       "      <td>2025-05-12</td>\n",
       "      <td>NaN</td>\n",
       "      <td>1255.456543</td>\n",
       "      <td>1255.456543</td>\n",
       "      <td>1249.276733</td>\n",
       "      <td>1253.760132</td>\n",
       "      <td>1244.364868</td>\n",
       "      <td>NaN</td>\n",
       "      <td>-40.210266</td>\n",
       "      <td>-46.390091</td>\n",
       "      <td>-41.906715</td>\n",
       "      <td>-51.301987</td>\n",
       "      <td>1191.499512</td>\n",
       "      <td>-12.113375</td>\n",
       "      <td>116.280685</td>\n",
       "    </tr>\n",
       "    <tr>\n",
       "      <th>56</th>\n",
       "      <td>2025-05-13</td>\n",
       "      <td>NaN</td>\n",
       "      <td>1256.926270</td>\n",
       "      <td>NaN</td>\n",
       "      <td>1256.926270</td>\n",
       "      <td>1239.073730</td>\n",
       "      <td>1249.481445</td>\n",
       "      <td>NaN</td>\n",
       "      <td>NaN</td>\n",
       "      <td>-25.926641</td>\n",
       "      <td>-43.779202</td>\n",
       "      <td>-33.371513</td>\n",
       "      <td>1191.652954</td>\n",
       "      <td>-11.752819</td>\n",
       "      <td>102.952820</td>\n",
       "    </tr>\n",
       "    <tr>\n",
       "      <th>57</th>\n",
       "      <td>2025-05-14</td>\n",
       "      <td>NaN</td>\n",
       "      <td>1251.542969</td>\n",
       "      <td>NaN</td>\n",
       "      <td>NaN</td>\n",
       "      <td>1251.542969</td>\n",
       "      <td>1245.553955</td>\n",
       "      <td>NaN</td>\n",
       "      <td>NaN</td>\n",
       "      <td>NaN</td>\n",
       "      <td>48.611244</td>\n",
       "      <td>42.622280</td>\n",
       "      <td>1191.806152</td>\n",
       "      <td>-11.342951</td>\n",
       "      <td>22.468437</td>\n",
       "    </tr>\n",
       "    <tr>\n",
       "      <th>58</th>\n",
       "      <td>2025-05-15</td>\n",
       "      <td>NaN</td>\n",
       "      <td>1260.576172</td>\n",
       "      <td>NaN</td>\n",
       "      <td>NaN</td>\n",
       "      <td>NaN</td>\n",
       "      <td>1260.576172</td>\n",
       "      <td>NaN</td>\n",
       "      <td>NaN</td>\n",
       "      <td>NaN</td>\n",
       "      <td>NaN</td>\n",
       "      <td>93.849739</td>\n",
       "      <td>1191.959595</td>\n",
       "      <td>-10.887767</td>\n",
       "      <td>-14.345491</td>\n",
       "    </tr>\n",
       "  </tbody>\n",
       "</table>\n",
       "</div>"
      ],
      "text/plain": [
       "           ds          y        yhat1        yhat2        yhat3        yhat4  \\\n",
       "48 2025-05-01  1233.1750  1235.697754  1224.602295  1216.932007  1218.506104   \n",
       "49 2025-05-02  1236.6125  1210.645020  1210.645020  1228.282715  1224.174072   \n",
       "50 2025-05-05  1240.0500  1230.625977  1224.610107  1230.625977  1228.278198   \n",
       "51 2025-05-06  1241.9500  1235.001953  1247.959717  1232.315674  1235.001953   \n",
       "52 2025-05-07  1250.3700  1241.141479  1241.026611  1237.556641  1227.361938   \n",
       "53 2025-05-08  1269.8000  1233.781128  1237.511230  1238.479492  1224.290527   \n",
       "54 2025-05-09        NaN  1267.770264  1236.289429  1247.468506  1251.687988   \n",
       "55 2025-05-12        NaN  1255.456543  1255.456543  1249.276733  1253.760132   \n",
       "56 2025-05-13        NaN  1256.926270          NaN  1256.926270  1239.073730   \n",
       "57 2025-05-14        NaN  1251.542969          NaN          NaN  1251.542969   \n",
       "58 2025-05-15        NaN  1260.576172          NaN          NaN          NaN   \n",
       "\n",
       "          yhat5        ar1        ar2        ar3        ar4        ar5  \\\n",
       "48          NaN  72.646873  61.551556  53.881165  55.455231        NaN   \n",
       "49  1229.165649  13.589694 -10.800488   6.837266   2.728652   7.720213   \n",
       "50  1210.197754 -63.434246 -69.111458 -63.095654 -65.443466 -83.523827   \n",
       "51  1211.983276 -43.320728 -32.568508 -48.212528 -45.526226 -68.544922   \n",
       "52  1241.141479  41.698299  40.811687  37.341606  27.146936  40.926487   \n",
       "53  1233.781128  82.009964  73.914070  74.882317  60.693439  70.184013   \n",
       "54  1223.478638  45.437683  13.956837  25.135921  29.355398   1.146053   \n",
       "55  1244.364868        NaN -40.210266 -46.390091 -41.906715 -51.301987   \n",
       "56  1249.481445        NaN        NaN -25.926641 -43.779202 -33.371513   \n",
       "57  1245.553955        NaN        NaN        NaN  48.611244  42.622280   \n",
       "58  1260.576172        NaN        NaN        NaN        NaN  93.849739   \n",
       "\n",
       "          trend  season_yearly  season_weekly  \n",
       "48  1189.812744     -12.410201     -14.351724  \n",
       "49  1189.966064     -12.667153      44.146465  \n",
       "50  1190.426147     -13.103772     116.399246  \n",
       "51  1190.579468     -13.133309     103.082008  \n",
       "52  1190.732910     -13.106215      22.588354  \n",
       "53  1190.886108     -13.020273     -14.268738  \n",
       "54  1191.039551     -12.876964      44.170025  \n",
       "55  1191.499512     -12.113375     116.280685  \n",
       "56  1191.652954     -11.752819     102.952820  \n",
       "57  1191.806152     -11.342951      22.468437  \n",
       "58  1191.959595     -10.887767     -14.345491  "
      ]
     },
     "execution_count": 15,
     "metadata": {},
     "output_type": "execute_result"
    }
   ],
   "source": [
    "forecast.tail(11)"
   ]
  },
  {
   "cell_type": "code",
   "execution_count": 16,
   "id": "aebff579",
   "metadata": {},
   "outputs": [
    {
     "name": "stderr",
     "output_type": "stream",
     "text": [
      "WARNING - (py.warnings._showwarnmsg) - /opt/anaconda3/lib/python3.11/site-packages/neuralprophet/plot_forecast_plotly.py:410: FutureWarning:\n",
      "\n",
      "The behavior of DatetimeProperties.to_pydatetime is deprecated, in a future version this will return a Series containing python datetime objects instead of an ndarray. To retain the old behavior, call `np.array` on the result\n",
      "\n",
      "\n"
     ]
    },
    {
     "data": {
      "image/svg+xml": [
       "<svg class=\"main-svg\" xmlns=\"http://www.w3.org/2000/svg\" xmlns:xlink=\"http://www.w3.org/1999/xlink\" width=\"700\" height=\"840\" style=\"\" viewBox=\"0 0 700 840\"><rect x=\"0\" y=\"0\" width=\"700\" height=\"840\" style=\"fill: rgb(255, 255, 255); fill-opacity: 1;\"/><defs id=\"defs-ad6174\"><g class=\"clips\"><clipPath id=\"clipad6174xyplot\" class=\"plotclip\"><rect width=\"638\" height=\"150.73749999999998\"/></clipPath><clipPath id=\"clipad6174x2y2plot\" class=\"plotclip\"><rect width=\"638\" height=\"150.73749999999998\"/></clipPath><clipPath id=\"clipad6174x3y3plot\" class=\"plotclip\"><rect width=\"638\" height=\"150.73750000000004\"/></clipPath><clipPath id=\"clipad6174x4y4plot\" class=\"plotclip\"><rect width=\"638\" height=\"150.7375\"/></clipPath><clipPath class=\"axesclip\" id=\"clipad6174x\"><rect x=\"52\" y=\"0\" width=\"638\" height=\"840\"/></clipPath><clipPath class=\"axesclip\" id=\"clipad6174y\"><rect x=\"0\" y=\"10\" width=\"700\" height=\"150.73749999999998\"/></clipPath><clipPath class=\"axesclip\" id=\"clipad6174xy\"><rect x=\"52\" y=\"10\" width=\"638\" height=\"150.73749999999998\"/></clipPath><clipPath class=\"axesclip\" id=\"clipad6174y2\"><rect x=\"0\" y=\"219.08750000000003\" width=\"700\" height=\"150.73749999999998\"/></clipPath><clipPath class=\"axesclip\" id=\"clipad6174xy2\"><rect x=\"52\" y=\"219.08750000000003\" width=\"638\" height=\"150.73749999999998\"/></clipPath><clipPath class=\"axesclip\" id=\"clipad6174y3\"><rect x=\"0\" y=\"428.17499999999995\" width=\"700\" height=\"150.73750000000004\"/></clipPath><clipPath class=\"axesclip\" id=\"clipad6174xy3\"><rect x=\"52\" y=\"428.17499999999995\" width=\"638\" height=\"150.73750000000004\"/></clipPath><clipPath class=\"axesclip\" id=\"clipad6174y4\"><rect x=\"0\" y=\"637.2625\" width=\"700\" height=\"150.7375\"/></clipPath><clipPath class=\"axesclip\" id=\"clipad6174xy4\"><rect x=\"52\" y=\"637.2625\" width=\"638\" height=\"150.7375\"/></clipPath><clipPath class=\"axesclip\" id=\"clipad6174x2\"><rect x=\"52\" y=\"0\" width=\"638\" height=\"840\"/></clipPath><clipPath class=\"axesclip\" id=\"clipad6174x2y\"><rect x=\"52\" y=\"10\" width=\"638\" height=\"150.73749999999998\"/></clipPath><clipPath class=\"axesclip\" id=\"clipad6174x2y2\"><rect x=\"52\" y=\"219.08750000000003\" width=\"638\" height=\"150.73749999999998\"/></clipPath><clipPath class=\"axesclip\" id=\"clipad6174x2y3\"><rect x=\"52\" y=\"428.17499999999995\" width=\"638\" height=\"150.73750000000004\"/></clipPath><clipPath class=\"axesclip\" id=\"clipad6174x2y4\"><rect x=\"52\" y=\"637.2625\" width=\"638\" height=\"150.7375\"/></clipPath><clipPath class=\"axesclip\" id=\"clipad6174x3\"><rect x=\"52\" y=\"0\" width=\"638\" height=\"840\"/></clipPath><clipPath class=\"axesclip\" id=\"clipad6174x3y\"><rect x=\"52\" y=\"10\" width=\"638\" height=\"150.73749999999998\"/></clipPath><clipPath class=\"axesclip\" id=\"clipad6174x3y2\"><rect x=\"52\" y=\"219.08750000000003\" width=\"638\" height=\"150.73749999999998\"/></clipPath><clipPath class=\"axesclip\" id=\"clipad6174x3y3\"><rect x=\"52\" y=\"428.17499999999995\" width=\"638\" height=\"150.73750000000004\"/></clipPath><clipPath class=\"axesclip\" id=\"clipad6174x3y4\"><rect x=\"52\" y=\"637.2625\" width=\"638\" height=\"150.7375\"/></clipPath><clipPath class=\"axesclip\" id=\"clipad6174x4\"><rect x=\"52\" y=\"0\" width=\"638\" height=\"840\"/></clipPath><clipPath class=\"axesclip\" id=\"clipad6174x4y\"><rect x=\"52\" y=\"10\" width=\"638\" height=\"150.73749999999998\"/></clipPath><clipPath class=\"axesclip\" id=\"clipad6174x4y2\"><rect x=\"52\" y=\"219.08750000000003\" width=\"638\" height=\"150.73749999999998\"/></clipPath><clipPath class=\"axesclip\" id=\"clipad6174x4y3\"><rect x=\"52\" y=\"428.17499999999995\" width=\"638\" height=\"150.73750000000004\"/></clipPath><clipPath class=\"axesclip\" id=\"clipad6174x4y4\"><rect x=\"52\" y=\"637.2625\" width=\"638\" height=\"150.7375\"/></clipPath></g><g class=\"gradients\"/><g class=\"patterns\"/></defs><g class=\"bglayer\"/><g class=\"layer-below\"><g class=\"imagelayer\"/><g class=\"shapelayer\"/></g><g class=\"cartesianlayer\"><g class=\"subplot xy\"><g class=\"layer-subplot\"><g class=\"shapelayer\"/><g class=\"imagelayer\"/></g><g class=\"minor-gridlayer\"><g class=\"x\"/><g class=\"y\"/></g><g class=\"gridlayer\"><g class=\"x\"><path class=\"xgrid crisp\" transform=\"translate(119.16,0)\" d=\"M0,10v150.73749999999998\" style=\"stroke: rgb(235, 240, 248); stroke-opacity: 1; stroke-width: 1px;\"/><path class=\"xgrid crisp\" transform=\"translate(219.89,0)\" d=\"M0,10v150.73749999999998\" style=\"stroke: rgb(235, 240, 248); stroke-opacity: 1; stroke-width: 1px;\"/><path class=\"xgrid crisp\" transform=\"translate(320.63,0)\" d=\"M0,10v150.73749999999998\" style=\"stroke: rgb(235, 240, 248); stroke-opacity: 1; stroke-width: 1px;\"/><path class=\"xgrid crisp\" transform=\"translate(421.37,0)\" d=\"M0,10v150.73749999999998\" style=\"stroke: rgb(235, 240, 248); stroke-opacity: 1; stroke-width: 1px;\"/><path class=\"xgrid crisp\" transform=\"translate(522.11,0)\" d=\"M0,10v150.73749999999998\" style=\"stroke: rgb(235, 240, 248); stroke-opacity: 1; stroke-width: 1px;\"/><path class=\"xgrid crisp\" transform=\"translate(622.84,0)\" d=\"M0,10v150.73749999999998\" style=\"stroke: rgb(235, 240, 248); stroke-opacity: 1; stroke-width: 1px;\"/></g><g class=\"y\"><path class=\"ygrid crisp\" transform=\"translate(0,119.52)\" d=\"M52,0h638\" style=\"stroke: rgb(235, 240, 248); stroke-opacity: 1; stroke-width: 1px;\"/><path class=\"ygrid crisp\" transform=\"translate(0,67.47999999999999)\" d=\"M52,0h638\" style=\"stroke: rgb(235, 240, 248); stroke-opacity: 1; stroke-width: 1px;\"/><path class=\"ygrid crisp\" transform=\"translate(0,15.43)\" d=\"M52,0h638\" style=\"stroke: rgb(235, 240, 248); stroke-opacity: 1; stroke-width: 1px;\"/></g></g><g class=\"zerolinelayer\"/><g class=\"layer-between\"><g class=\"shapelayer\"/><g class=\"imagelayer\"/></g><path class=\"xlines-below\"/><path class=\"ylines-below\"/><g class=\"overlines-below\"/><g class=\"xaxislayer-below\"/><g class=\"yaxislayer-below\"/><g class=\"overaxes-below\"/><g class=\"overplot\"><g class=\"xy\" transform=\"translate(52,10)\" clip-path=\"url(#clipad6174xyplot)\"><g class=\"scatterlayer mlayer\"><g class=\"trace scatter trace04f0ce\" style=\"stroke-miterlimit: 2; opacity: 1;\"><g class=\"fills\"/><g class=\"errorbars\"/><g class=\"lines\"><path class=\"js-line\" d=\"M33.58,143.2L604.42,7.54\" style=\"vector-effect: none; fill: none; stroke: rgb(45, 146, 255); stroke-opacity: 1; stroke-width: 2px; opacity: 1;\"/></g><g class=\"points\"/><g class=\"text\"/></g></g></g></g><path class=\"xlines-above crisp\" d=\"M50.5,161.48749999999998H691.5M50.5,9.25H691.5\" style=\"fill: none; stroke-width: 1.5px; stroke: rgb(235, 240, 248); stroke-opacity: 1;\"/><path class=\"ylines-above crisp\" d=\"M51.25,10V160.73749999999998M690.75,10V160.73749999999998\" style=\"fill: none; stroke-width: 1.5px; stroke: rgb(235, 240, 248); stroke-opacity: 1;\"/><g class=\"overlines-above\"/><g class=\"xaxislayer-above\"><g class=\"xtick\"><text text-anchor=\"middle\" x=\"0\" y=\"174.23749999999998\" transform=\"translate(119.16,0)\" style=\"font-family: 'Open Sans', verdana, arial, sans-serif; font-size: 10px; fill: rgb(42, 63, 95); fill-opacity: 1; white-space: pre; opacity: 1;\"><tspan class=\"line\" dy=\"0em\" x=\"0\" y=\"174.23749999999998\">Apr 29</tspan><tspan class=\"line\" dy=\"1.3em\" x=\"0\" y=\"174.23749999999998\">2025</tspan></text></g><g class=\"xtick\"><text text-anchor=\"middle\" x=\"0\" y=\"174.23749999999998\" style=\"font-family: 'Open Sans', verdana, arial, sans-serif; font-size: 10px; fill: rgb(42, 63, 95); fill-opacity: 1; white-space: pre; opacity: 1;\" transform=\"translate(219.89,0)\">May 2</text></g><g class=\"xtick\"><text text-anchor=\"middle\" x=\"0\" y=\"174.23749999999998\" style=\"font-family: 'Open Sans', verdana, arial, sans-serif; font-size: 10px; fill: rgb(42, 63, 95); fill-opacity: 1; white-space: pre; opacity: 1;\" transform=\"translate(320.63,0)\">May 5</text></g><g class=\"xtick\"><text text-anchor=\"middle\" x=\"0\" y=\"174.23749999999998\" style=\"font-family: 'Open Sans', verdana, arial, sans-serif; font-size: 10px; fill: rgb(42, 63, 95); fill-opacity: 1; white-space: pre; opacity: 1;\" transform=\"translate(421.37,0)\">May 8</text></g><g class=\"xtick\"><text text-anchor=\"middle\" x=\"0\" y=\"174.23749999999998\" style=\"font-family: 'Open Sans', verdana, arial, sans-serif; font-size: 10px; fill: rgb(42, 63, 95); fill-opacity: 1; white-space: pre; opacity: 1;\" transform=\"translate(522.11,0)\">May 11</text></g><g class=\"xtick\"><text text-anchor=\"middle\" x=\"0\" y=\"174.23749999999998\" style=\"font-family: 'Open Sans', verdana, arial, sans-serif; font-size: 10px; fill: rgb(42, 63, 95); fill-opacity: 1; white-space: pre; opacity: 1;\" transform=\"translate(622.84,0)\">May 14</text></g></g><g class=\"yaxislayer-above\"><g class=\"ytick\"><text text-anchor=\"end\" x=\"48.5\" y=\"3.5\" transform=\"translate(0,119.52)\" style=\"font-family: 'Open Sans', verdana, arial, sans-serif; font-size: 10px; fill: rgb(42, 63, 95); fill-opacity: 1; white-space: pre; opacity: 1;\">1190</text></g><g class=\"ytick\"><text text-anchor=\"end\" x=\"48.5\" y=\"3.5\" style=\"font-family: 'Open Sans', verdana, arial, sans-serif; font-size: 10px; fill: rgb(42, 63, 95); fill-opacity: 1; white-space: pre; opacity: 1;\" transform=\"translate(0,67.47999999999999)\">1191</text></g><g class=\"ytick\"><text text-anchor=\"end\" x=\"48.5\" y=\"3.5\" style=\"font-family: 'Open Sans', verdana, arial, sans-serif; font-size: 10px; fill: rgb(42, 63, 95); fill-opacity: 1; white-space: pre; opacity: 1;\" transform=\"translate(0,15.43)\">1192</text></g></g><g class=\"overaxes-above\"/></g><g class=\"subplot x2y2\"><g class=\"layer-subplot\"><g class=\"shapelayer\"/><g class=\"imagelayer\"/></g><g class=\"minor-gridlayer\"><g class=\"x2\"/><g class=\"y2\"/></g><g class=\"gridlayer\"><g class=\"x2\"><path class=\"x2grid crisp\" transform=\"translate(119.16,0)\" d=\"M0,219.08750000000003v150.73749999999998\" style=\"stroke: rgb(235, 240, 248); stroke-opacity: 1; stroke-width: 1px;\"/><path class=\"x2grid crisp\" transform=\"translate(219.89,0)\" d=\"M0,219.08750000000003v150.73749999999998\" style=\"stroke: rgb(235, 240, 248); stroke-opacity: 1; stroke-width: 1px;\"/><path class=\"x2grid crisp\" transform=\"translate(320.63,0)\" d=\"M0,219.08750000000003v150.73749999999998\" style=\"stroke: rgb(235, 240, 248); stroke-opacity: 1; stroke-width: 1px;\"/><path class=\"x2grid crisp\" transform=\"translate(421.37,0)\" d=\"M0,219.08750000000003v150.73749999999998\" style=\"stroke: rgb(235, 240, 248); stroke-opacity: 1; stroke-width: 1px;\"/><path class=\"x2grid crisp\" transform=\"translate(522.11,0)\" d=\"M0,219.08750000000003v150.73749999999998\" style=\"stroke: rgb(235, 240, 248); stroke-opacity: 1; stroke-width: 1px;\"/><path class=\"x2grid crisp\" transform=\"translate(622.84,0)\" d=\"M0,219.08750000000003v150.73749999999998\" style=\"stroke: rgb(235, 240, 248); stroke-opacity: 1; stroke-width: 1px;\"/></g><g class=\"y2\"><path class=\"y2grid crisp\" transform=\"translate(0,328.12750000000005)\" d=\"M52,0h638\" style=\"stroke: rgb(235, 240, 248); stroke-opacity: 1; stroke-width: 1px;\"/><path class=\"y2grid crisp\" transform=\"translate(0,273.6075)\" d=\"M52,0h638\" style=\"stroke: rgb(235, 240, 248); stroke-opacity: 1; stroke-width: 1px;\"/></g></g><g class=\"zerolinelayer\"/><g class=\"layer-between\"><g class=\"shapelayer\"/><g class=\"imagelayer\"/></g><path class=\"xlines-below\"/><path class=\"ylines-below\"/><g class=\"overlines-below\"/><g class=\"xaxislayer-below\"/><g class=\"yaxislayer-below\"/><g class=\"overaxes-below\"/><g class=\"overplot\"><g class=\"x2y2\" transform=\"translate(52,219.08750000000003)\" clip-path=\"url(#clipad6174x2y2plot)\"><g class=\"scatterlayer mlayer\"><g class=\"trace scatter trace752d84\" style=\"stroke-miterlimit: 2; opacity: 1;\"><g class=\"fills\"/><g class=\"errorbars\"/><g class=\"lines\"><path class=\"js-line\" d=\"M33.58,123.53L100.74,131.94L134.32,135.32L167.89,138.12L268.63,142.88L335.79,142.91L369.37,141.97L402.95,140.41L503.68,132.08L570.84,123.68L604.42,118.72\" style=\"vector-effect: none; fill: none; stroke: rgb(45, 146, 255); stroke-opacity: 1; stroke-width: 2px; opacity: 1;\"/></g><g class=\"points\"/><g class=\"text\"/></g></g></g></g><path class=\"xlines-above crisp\" d=\"M50.5,370.57500000000005H691.5M50.5,218.33750000000003H691.5\" style=\"fill: none; stroke-width: 1.5px; stroke: rgb(235, 240, 248); stroke-opacity: 1;\"/><path class=\"ylines-above crisp\" d=\"M51.25,219.08750000000003V369.82500000000005M690.75,219.08750000000003V369.82500000000005\" style=\"fill: none; stroke-width: 1.5px; stroke: rgb(235, 240, 248); stroke-opacity: 1;\"/><g class=\"overlines-above\"/><g class=\"xaxislayer-above\"><g class=\"x2tick\"><text text-anchor=\"middle\" x=\"0\" y=\"383.32500000000005\" transform=\"translate(119.16,0)\" style=\"font-family: 'Open Sans', verdana, arial, sans-serif; font-size: 10px; fill: rgb(42, 63, 95); fill-opacity: 1; white-space: pre; opacity: 1;\"><tspan class=\"line\" dy=\"0em\" x=\"0\" y=\"383.32500000000005\">Apr 29</tspan><tspan class=\"line\" dy=\"1.3em\" x=\"0\" y=\"383.32500000000005\">2025</tspan></text></g><g class=\"x2tick\"><text text-anchor=\"middle\" x=\"0\" y=\"383.32500000000005\" style=\"font-family: 'Open Sans', verdana, arial, sans-serif; font-size: 10px; fill: rgb(42, 63, 95); fill-opacity: 1; white-space: pre; opacity: 1;\" transform=\"translate(219.89,0)\">May 2</text></g><g class=\"x2tick\"><text text-anchor=\"middle\" x=\"0\" y=\"383.32500000000005\" style=\"font-family: 'Open Sans', verdana, arial, sans-serif; font-size: 10px; fill: rgb(42, 63, 95); fill-opacity: 1; white-space: pre; opacity: 1;\" transform=\"translate(320.63,0)\">May 5</text></g><g class=\"x2tick\"><text text-anchor=\"middle\" x=\"0\" y=\"383.32500000000005\" style=\"font-family: 'Open Sans', verdana, arial, sans-serif; font-size: 10px; fill: rgb(42, 63, 95); fill-opacity: 1; white-space: pre; opacity: 1;\" transform=\"translate(421.37,0)\">May 8</text></g><g class=\"x2tick\"><text text-anchor=\"middle\" x=\"0\" y=\"383.32500000000005\" style=\"font-family: 'Open Sans', verdana, arial, sans-serif; font-size: 10px; fill: rgb(42, 63, 95); fill-opacity: 1; white-space: pre; opacity: 1;\" transform=\"translate(522.11,0)\">May 11</text></g><g class=\"x2tick\"><text text-anchor=\"middle\" x=\"0\" y=\"383.32500000000005\" style=\"font-family: 'Open Sans', verdana, arial, sans-serif; font-size: 10px; fill: rgb(42, 63, 95); fill-opacity: 1; white-space: pre; opacity: 1;\" transform=\"translate(622.84,0)\">May 14</text></g></g><g class=\"yaxislayer-above\"><g class=\"y2tick\"><text text-anchor=\"end\" x=\"48.5\" y=\"3.5\" transform=\"translate(0,328.12750000000005)\" style=\"font-family: 'Open Sans', verdana, arial, sans-serif; font-size: 10px; fill: rgb(42, 63, 95); fill-opacity: 1; white-space: pre; opacity: 1;\">−10</text></g><g class=\"y2tick\"><text text-anchor=\"end\" x=\"48.5\" y=\"3.5\" style=\"font-family: 'Open Sans', verdana, arial, sans-serif; font-size: 10px; fill: rgb(42, 63, 95); fill-opacity: 1; white-space: pre; opacity: 1;\" transform=\"translate(0,273.6075)\">−5</text></g><g class=\"y2tick\"><text text-anchor=\"end\" x=\"48.5\" y=\"3.5\" style=\"font-family: 'Open Sans', verdana, arial, sans-serif; font-size: 10px; fill: rgb(42, 63, 95); fill-opacity: 1; white-space: pre; opacity: 1;\" transform=\"translate(0,219.08750000000003)\">0</text></g></g><g class=\"overaxes-above\"/></g><g class=\"subplot x3y3\"><g class=\"layer-subplot\"><g class=\"shapelayer\"/><g class=\"imagelayer\"/></g><g class=\"minor-gridlayer\"><g class=\"x3\"/><g class=\"y3\"/></g><g class=\"gridlayer\"><g class=\"x3\"><path class=\"x3grid crisp\" transform=\"translate(119.16,0)\" d=\"M0,428.17499999999995v150.73750000000004\" style=\"stroke: rgb(235, 240, 248); stroke-opacity: 1; stroke-width: 1px;\"/><path class=\"x3grid crisp\" transform=\"translate(219.89,0)\" d=\"M0,428.17499999999995v150.73750000000004\" style=\"stroke: rgb(235, 240, 248); stroke-opacity: 1; stroke-width: 1px;\"/><path class=\"x3grid crisp\" transform=\"translate(320.63,0)\" d=\"M0,428.17499999999995v150.73750000000004\" style=\"stroke: rgb(235, 240, 248); stroke-opacity: 1; stroke-width: 1px;\"/><path class=\"x3grid crisp\" transform=\"translate(421.37,0)\" d=\"M0,428.17499999999995v150.73750000000004\" style=\"stroke: rgb(235, 240, 248); stroke-opacity: 1; stroke-width: 1px;\"/><path class=\"x3grid crisp\" transform=\"translate(522.11,0)\" d=\"M0,428.17499999999995v150.73750000000004\" style=\"stroke: rgb(235, 240, 248); stroke-opacity: 1; stroke-width: 1px;\"/><path class=\"x3grid crisp\" transform=\"translate(622.84,0)\" d=\"M0,428.17499999999995v150.73750000000004\" style=\"stroke: rgb(235, 240, 248); stroke-opacity: 1; stroke-width: 1px;\"/></g><g class=\"y3\"><path class=\"y3grid crisp\" transform=\"translate(0,504.60499999999996)\" d=\"M52,0h638\" style=\"stroke: rgb(235, 240, 248); stroke-opacity: 1; stroke-width: 1px;\"/><path class=\"y3grid crisp\" transform=\"translate(0,452.72499999999997)\" d=\"M52,0h638\" style=\"stroke: rgb(235, 240, 248); stroke-opacity: 1; stroke-width: 1px;\"/></g></g><g class=\"zerolinelayer\"><path class=\"y3zl zl crisp\" transform=\"translate(0,556.4849999999999)\" d=\"M52,0h638\" style=\"stroke: rgb(235, 240, 248); stroke-opacity: 1; stroke-width: 2px;\"/></g><g class=\"layer-between\"><g class=\"shapelayer\"/><g class=\"imagelayer\"/></g><path class=\"xlines-below\"/><path class=\"ylines-below\"/><g class=\"overlines-below\"/><g class=\"xaxislayer-below\"/><g class=\"yaxislayer-below\"/><g class=\"overaxes-below\"/><g class=\"overplot\"><g class=\"x3y3\" transform=\"translate(52,428.17499999999995)\" clip-path=\"url(#clipad6174x3y3plot)\"><g class=\"scatterlayer mlayer\"><g class=\"trace scatter trace6a0e60\" style=\"stroke-miterlimit: 2; opacity: 1;\"><g class=\"fills\"/><g class=\"errorbars\"/><g class=\"lines\"><path class=\"js-line\" d=\"M33.58,7.66L67.16,21.49L100.74,104.75L134.32,143.2L167.89,82.5L268.63,7.54L302.21,21.35L335.79,104.87L369.37,143.11L402.95,82.48L503.68,7.66L537.26,21.49L570.84,105L604.42,143.19\" style=\"vector-effect: none; fill: none; stroke: rgb(45, 146, 255); stroke-opacity: 1; stroke-width: 2px; opacity: 1;\"/></g><g class=\"points\"/><g class=\"text\"/></g></g></g></g><path class=\"xlines-above crisp\" d=\"M50.5,579.6625H691.5M50.5,427.42499999999995H691.5\" style=\"fill: none; stroke-width: 1.5px; stroke: rgb(235, 240, 248); stroke-opacity: 1;\"/><path class=\"ylines-above crisp\" d=\"M51.25,428.17499999999995V578.9125M690.75,428.17499999999995V578.9125\" style=\"fill: none; stroke-width: 1.5px; stroke: rgb(235, 240, 248); stroke-opacity: 1;\"/><g class=\"overlines-above\"/><g class=\"xaxislayer-above\"><g class=\"x3tick\"><text text-anchor=\"middle\" x=\"0\" y=\"592.4125\" transform=\"translate(119.16,0)\" style=\"font-family: 'Open Sans', verdana, arial, sans-serif; font-size: 10px; fill: rgb(42, 63, 95); fill-opacity: 1; white-space: pre; opacity: 1;\"><tspan class=\"line\" dy=\"0em\" x=\"0\" y=\"592.4125\">Apr 29</tspan><tspan class=\"line\" dy=\"1.3em\" x=\"0\" y=\"592.4125\">2025</tspan></text></g><g class=\"x3tick\"><text text-anchor=\"middle\" x=\"0\" y=\"592.4125\" style=\"font-family: 'Open Sans', verdana, arial, sans-serif; font-size: 10px; fill: rgb(42, 63, 95); fill-opacity: 1; white-space: pre; opacity: 1;\" transform=\"translate(219.89,0)\">May 2</text></g><g class=\"x3tick\"><text text-anchor=\"middle\" x=\"0\" y=\"592.4125\" style=\"font-family: 'Open Sans', verdana, arial, sans-serif; font-size: 10px; fill: rgb(42, 63, 95); fill-opacity: 1; white-space: pre; opacity: 1;\" transform=\"translate(320.63,0)\">May 5</text></g><g class=\"x3tick\"><text text-anchor=\"middle\" x=\"0\" y=\"592.4125\" style=\"font-family: 'Open Sans', verdana, arial, sans-serif; font-size: 10px; fill: rgb(42, 63, 95); fill-opacity: 1; white-space: pre; opacity: 1;\" transform=\"translate(421.37,0)\">May 8</text></g><g class=\"x3tick\"><text text-anchor=\"middle\" x=\"0\" y=\"592.4125\" style=\"font-family: 'Open Sans', verdana, arial, sans-serif; font-size: 10px; fill: rgb(42, 63, 95); fill-opacity: 1; white-space: pre; opacity: 1;\" transform=\"translate(522.11,0)\">May 11</text></g><g class=\"x3tick\"><text text-anchor=\"middle\" x=\"0\" y=\"592.4125\" style=\"font-family: 'Open Sans', verdana, arial, sans-serif; font-size: 10px; fill: rgb(42, 63, 95); fill-opacity: 1; white-space: pre; opacity: 1;\" transform=\"translate(622.84,0)\">May 14</text></g></g><g class=\"yaxislayer-above\"><g class=\"y3tick\"><text text-anchor=\"end\" x=\"48.5\" y=\"3.5\" transform=\"translate(0,556.4849999999999)\" style=\"font-family: 'Open Sans', verdana, arial, sans-serif; font-size: 10px; fill: rgb(42, 63, 95); fill-opacity: 1; white-space: pre; opacity: 1;\">0</text></g><g class=\"y3tick\"><text text-anchor=\"end\" x=\"48.5\" y=\"3.5\" style=\"font-family: 'Open Sans', verdana, arial, sans-serif; font-size: 10px; fill: rgb(42, 63, 95); fill-opacity: 1; white-space: pre; opacity: 1;\" transform=\"translate(0,504.60499999999996)\">50</text></g><g class=\"y3tick\"><text text-anchor=\"end\" x=\"48.5\" y=\"3.5\" style=\"font-family: 'Open Sans', verdana, arial, sans-serif; font-size: 10px; fill: rgb(42, 63, 95); fill-opacity: 1; white-space: pre; opacity: 1;\" transform=\"translate(0,452.72499999999997)\">100</text></g></g><g class=\"overaxes-above\"/></g><g class=\"subplot x4y4\"><g class=\"layer-subplot\"><g class=\"shapelayer\"/><g class=\"imagelayer\"/></g><g class=\"minor-gridlayer\"><g class=\"x4\"/><g class=\"y4\"/></g><g class=\"gridlayer\"><g class=\"x4\"><path class=\"x4grid crisp\" transform=\"translate(168,0)\" d=\"M0,637.2625v150.7375\" style=\"stroke: rgb(235, 240, 248); stroke-opacity: 1; stroke-width: 1px;\"/><path class=\"x4grid crisp\" transform=\"translate(284,0)\" d=\"M0,637.2625v150.7375\" style=\"stroke: rgb(235, 240, 248); stroke-opacity: 1; stroke-width: 1px;\"/><path class=\"x4grid crisp\" transform=\"translate(400,0)\" d=\"M0,637.2625v150.7375\" style=\"stroke: rgb(235, 240, 248); stroke-opacity: 1; stroke-width: 1px;\"/><path class=\"x4grid crisp\" transform=\"translate(516,0)\" d=\"M0,637.2625v150.7375\" style=\"stroke: rgb(235, 240, 248); stroke-opacity: 1; stroke-width: 1px;\"/><path class=\"x4grid crisp\" transform=\"translate(632,0)\" d=\"M0,637.2625v150.7375\" style=\"stroke: rgb(235, 240, 248); stroke-opacity: 1; stroke-width: 1px;\"/></g><g class=\"y4\"><path class=\"y4grid crisp\" transform=\"translate(0,763.9125)\" d=\"M52,0h638\" style=\"stroke: rgb(235, 240, 248); stroke-opacity: 1; stroke-width: 1px;\"/><path class=\"y4grid crisp\" transform=\"translate(0,673.6825)\" d=\"M52,0h638\" style=\"stroke: rgb(235, 240, 248); stroke-opacity: 1; stroke-width: 1px;\"/></g></g><g class=\"zerolinelayer\"><path class=\"y4zl zl crisp\" transform=\"translate(0,718.7925)\" d=\"M52,0h638\" style=\"stroke: rgb(235, 240, 248); stroke-opacity: 1; stroke-width: 2px;\"/></g><g class=\"layer-between\"><g class=\"shapelayer\"/><g class=\"imagelayer\"/></g><path class=\"xlines-below\"/><path class=\"ylines-below\"/><g class=\"overlines-below\"/><g class=\"xaxislayer-below\"/><g class=\"yaxislayer-below\"/><g class=\"overaxes-below\"/><g class=\"overplot\"><g class=\"x4y4\" transform=\"translate(52,637.2625)\" clip-path=\"url(#clipad6174x4y4plot)\"><g class=\"scatterlayer mlayer\"><g class=\"trace scatter trace00def5\" style=\"stroke-miterlimit: 2; opacity: 1;\"><g class=\"fills\"/><g class=\"errorbars\"/><g class=\"lines\"><path class=\"js-line\" d=\"M0,143.2L58,131.29L116,56.93L174,15.98L232,69.27L406,138.77L464,120.62L522,43.91L580,7.54L638,40.53\" style=\"vector-effect: none; fill: none; stroke: rgb(45, 146, 255); stroke-opacity: 1; stroke-width: 2px; opacity: 1;\"/></g><g class=\"points\"/><g class=\"text\"/></g></g></g></g><path class=\"xlines-above crisp\" d=\"M50.5,788.75H691.5M50.5,636.5125H691.5\" style=\"fill: none; stroke-width: 1.5px; stroke: rgb(235, 240, 248); stroke-opacity: 1;\"/><path class=\"ylines-above crisp\" d=\"M51.25,637.2625V788M690.75,637.2625V788\" style=\"fill: none; stroke-width: 1.5px; stroke: rgb(235, 240, 248); stroke-opacity: 1;\"/><g class=\"overlines-above\"/><g class=\"xaxislayer-above\"><g class=\"x4tick\"><text text-anchor=\"middle\" x=\"0\" y=\"801.5\" transform=\"translate(52,0)\" style=\"font-family: 'Open Sans', verdana, arial, sans-serif; font-size: 10px; fill: rgb(42, 63, 95); fill-opacity: 1; white-space: pre; opacity: 1;\"><tspan class=\"line\" dy=\"0em\" x=\"0\" y=\"801.5\">Apr 28</tspan><tspan class=\"line\" dy=\"1.3em\" x=\"0\" y=\"801.5\">2025</tspan></text></g><g class=\"x4tick\"><text text-anchor=\"middle\" x=\"0\" y=\"801.5\" style=\"font-family: 'Open Sans', verdana, arial, sans-serif; font-size: 10px; fill: rgb(42, 63, 95); fill-opacity: 1; white-space: pre; opacity: 1;\" transform=\"translate(168,0)\">Apr 30</text></g><g class=\"x4tick\"><text text-anchor=\"middle\" x=\"0\" y=\"801.5\" style=\"font-family: 'Open Sans', verdana, arial, sans-serif; font-size: 10px; fill: rgb(42, 63, 95); fill-opacity: 1; white-space: pre; opacity: 1;\" transform=\"translate(284,0)\">May 2</text></g><g class=\"x4tick\"><text text-anchor=\"middle\" x=\"0\" y=\"801.5\" style=\"font-family: 'Open Sans', verdana, arial, sans-serif; font-size: 10px; fill: rgb(42, 63, 95); fill-opacity: 1; white-space: pre; opacity: 1;\" transform=\"translate(400,0)\">May 4</text></g><g class=\"x4tick\"><text text-anchor=\"middle\" x=\"0\" y=\"801.5\" style=\"font-family: 'Open Sans', verdana, arial, sans-serif; font-size: 10px; fill: rgb(42, 63, 95); fill-opacity: 1; white-space: pre; opacity: 1;\" transform=\"translate(516,0)\">May 6</text></g><g class=\"x4tick\"><text text-anchor=\"middle\" x=\"0\" y=\"801.5\" style=\"font-family: 'Open Sans', verdana, arial, sans-serif; font-size: 10px; fill: rgb(42, 63, 95); fill-opacity: 1; white-space: pre; opacity: 1;\" transform=\"translate(632,0)\">May 8</text></g></g><g class=\"yaxislayer-above\"><g class=\"y4tick\"><text text-anchor=\"end\" x=\"48.5\" y=\"3.5\" transform=\"translate(0,763.9125)\" style=\"font-family: 'Open Sans', verdana, arial, sans-serif; font-size: 10px; fill: rgb(42, 63, 95); fill-opacity: 1; white-space: pre; opacity: 1;\">−50</text></g><g class=\"y4tick\"><text text-anchor=\"end\" x=\"48.5\" y=\"3.5\" style=\"font-family: 'Open Sans', verdana, arial, sans-serif; font-size: 10px; fill: rgb(42, 63, 95); fill-opacity: 1; white-space: pre; opacity: 1;\" transform=\"translate(0,718.7925)\">0</text></g><g class=\"y4tick\"><text text-anchor=\"end\" x=\"48.5\" y=\"3.5\" style=\"font-family: 'Open Sans', verdana, arial, sans-serif; font-size: 10px; fill: rgb(42, 63, 95); fill-opacity: 1; white-space: pre; opacity: 1;\" transform=\"translate(0,673.6825)\">50</text></g></g><g class=\"overaxes-above\"/></g></g><g class=\"polarlayer\"/><g class=\"smithlayer\"/><g class=\"ternarylayer\"/><g class=\"geolayer\"/><g class=\"funnelarealayer\"/><g class=\"pielayer\"/><g class=\"iciclelayer\"/><g class=\"treemaplayer\"/><g class=\"sunburstlayer\"/><g class=\"glimages\"/><defs id=\"topdefs-ad6174\"><g class=\"clips\"/></defs><g class=\"layer-above\"><g class=\"imagelayer\"/><g class=\"shapelayer\"/></g><g class=\"infolayer\"><g class=\"g-gtitle\"/><g class=\"g-xtitle\"><text class=\"xtitle\" x=\"371\" y=\"211.9\" text-anchor=\"middle\" style=\"opacity: 1; font-family: 'Open Sans', verdana, arial, sans-serif; font-size: 12px; fill: rgb(42, 63, 95); fill-opacity: 1; white-space: pre;\">ds</text></g><g class=\"g-x2title\"><text class=\"x2title\" x=\"371\" y=\"420.978125\" text-anchor=\"middle\" style=\"opacity: 1; font-family: 'Open Sans', verdana, arial, sans-serif; font-size: 12px; fill: rgb(42, 63, 95); fill-opacity: 1; white-space: pre;\">ds</text></g><g class=\"g-x3title\"><text class=\"x3title\" x=\"371\" y=\"630.071875\" text-anchor=\"middle\" style=\"opacity: 1; font-family: 'Open Sans', verdana, arial, sans-serif; font-size: 12px; fill: rgb(42, 63, 95); fill-opacity: 1; white-space: pre;\">ds</text></g><g class=\"g-x4title\" transform=\"translate(0,-1.6499999999999773)\"><text class=\"x4title\" x=\"371\" y=\"839.15\" text-anchor=\"middle\" style=\"opacity: 1; font-family: 'Open Sans', verdana, arial, sans-serif; font-size: 12px; fill: rgb(42, 63, 95); fill-opacity: 1; white-space: pre;\">ds</text></g><g class=\"g-ytitle\" transform=\"translate(7.396484375,0)\"><text class=\"ytitle\" transform=\"rotate(-90,4.612499999999997,85.36874999999999)\" x=\"4.612499999999997\" y=\"85.36874999999999\" text-anchor=\"middle\" style=\"opacity: 1; font-family: 'Open Sans', verdana, arial, sans-serif; font-size: 12px; fill: rgb(42, 63, 95); fill-opacity: 1; white-space: pre;\">Trend</text></g><g class=\"g-y2title\" transform=\"translate(2.859375,0)\"><text class=\"y2title\" transform=\"rotate(-90,9.143749999999997,294.45625)\" x=\"9.143749999999997\" y=\"294.45625\" text-anchor=\"middle\" style=\"opacity: 1; font-family: 'Open Sans', verdana, arial, sans-serif; font-size: 12px; fill: rgb(42, 63, 95); fill-opacity: 1; white-space: pre;\">yearly seasonality</text></g><g class=\"g-y3title\" transform=\"translate(1.041015625,0)\"><text class=\"y3title\" transform=\"rotate(-90,10.971874999999997,503.54375)\" x=\"10.971874999999997\" y=\"503.54375\" text-anchor=\"middle\" style=\"opacity: 1; font-family: 'Open Sans', verdana, arial, sans-serif; font-size: 12px; fill: rgb(42, 63, 95); fill-opacity: 1; white-space: pre;\">weekly seasonality</text></g><g class=\"g-y4title\" transform=\"translate(2.8623046875,0)\"><text class=\"y4title\" transform=\"rotate(-90,9.143749999999997,712.63125)\" x=\"9.143749999999997\" y=\"712.63125\" text-anchor=\"middle\" style=\"opacity: 1; font-family: 'Open Sans', verdana, arial, sans-serif; font-size: 12px; fill: rgb(42, 63, 95); fill-opacity: 1; white-space: pre;\">AR (1)-ahead</text></g></g></svg>"
      ]
     },
     "metadata": {},
     "output_type": "display_data"
    }
   ],
   "source": [
    "m.plot_components(forecast)"
   ]
  },
  {
   "cell_type": "code",
   "execution_count": 17,
   "id": "f4078fc9",
   "metadata": {},
   "outputs": [
    {
     "data": {
      "text/html": [
       "<div>\n",
       "<style scoped>\n",
       "    .dataframe tbody tr th:only-of-type {\n",
       "        vertical-align: middle;\n",
       "    }\n",
       "\n",
       "    .dataframe tbody tr th {\n",
       "        vertical-align: top;\n",
       "    }\n",
       "\n",
       "    .dataframe thead th {\n",
       "        text-align: right;\n",
       "    }\n",
       "</style>\n",
       "<table border=\"1\" class=\"dataframe\">\n",
       "  <thead>\n",
       "    <tr style=\"text-align: right;\">\n",
       "      <th></th>\n",
       "      <th>ds</th>\n",
       "      <th>y</th>\n",
       "      <th>yhat1</th>\n",
       "      <th>yhat2</th>\n",
       "      <th>yhat3</th>\n",
       "      <th>yhat4</th>\n",
       "      <th>yhat5</th>\n",
       "      <th>ar1</th>\n",
       "      <th>ar2</th>\n",
       "      <th>ar3</th>\n",
       "      <th>ar4</th>\n",
       "      <th>ar5</th>\n",
       "      <th>trend</th>\n",
       "      <th>season_yearly</th>\n",
       "      <th>season_weekly</th>\n",
       "    </tr>\n",
       "  </thead>\n",
       "  <tbody>\n",
       "    <tr>\n",
       "      <th>47</th>\n",
       "      <td>2025-04-30</td>\n",
       "      <td>1229.7375</td>\n",
       "      <td>1227.539062</td>\n",
       "      <td>1248.128052</td>\n",
       "      <td>1218.590088</td>\n",
       "      <td>NaN</td>\n",
       "      <td>NaN</td>\n",
       "      <td>27.271690</td>\n",
       "      <td>47.860786</td>\n",
       "      <td>18.322798</td>\n",
       "      <td>NaN</td>\n",
       "      <td>NaN</td>\n",
       "      <td>1189.659424</td>\n",
       "      <td>-12.100281</td>\n",
       "      <td>22.708157</td>\n",
       "    </tr>\n",
       "    <tr>\n",
       "      <th>48</th>\n",
       "      <td>2025-05-01</td>\n",
       "      <td>1233.1750</td>\n",
       "      <td>1235.697754</td>\n",
       "      <td>1224.602295</td>\n",
       "      <td>1216.932007</td>\n",
       "      <td>1218.506104</td>\n",
       "      <td>NaN</td>\n",
       "      <td>72.646873</td>\n",
       "      <td>61.551556</td>\n",
       "      <td>53.881165</td>\n",
       "      <td>55.455231</td>\n",
       "      <td>NaN</td>\n",
       "      <td>1189.812744</td>\n",
       "      <td>-12.410201</td>\n",
       "      <td>-14.351724</td>\n",
       "    </tr>\n",
       "    <tr>\n",
       "      <th>49</th>\n",
       "      <td>2025-05-02</td>\n",
       "      <td>1236.6125</td>\n",
       "      <td>1210.645020</td>\n",
       "      <td>1210.645020</td>\n",
       "      <td>1228.282715</td>\n",
       "      <td>1224.174072</td>\n",
       "      <td>1229.165649</td>\n",
       "      <td>13.589694</td>\n",
       "      <td>-10.800488</td>\n",
       "      <td>6.837266</td>\n",
       "      <td>2.728652</td>\n",
       "      <td>7.720213</td>\n",
       "      <td>1189.966064</td>\n",
       "      <td>-12.667153</td>\n",
       "      <td>44.146465</td>\n",
       "    </tr>\n",
       "    <tr>\n",
       "      <th>50</th>\n",
       "      <td>2025-05-05</td>\n",
       "      <td>1240.0500</td>\n",
       "      <td>1230.625977</td>\n",
       "      <td>1224.610107</td>\n",
       "      <td>1230.625977</td>\n",
       "      <td>1228.278198</td>\n",
       "      <td>1210.197754</td>\n",
       "      <td>-63.434246</td>\n",
       "      <td>-69.111458</td>\n",
       "      <td>-63.095654</td>\n",
       "      <td>-65.443466</td>\n",
       "      <td>-83.523827</td>\n",
       "      <td>1190.426147</td>\n",
       "      <td>-13.103772</td>\n",
       "      <td>116.399246</td>\n",
       "    </tr>\n",
       "    <tr>\n",
       "      <th>51</th>\n",
       "      <td>2025-05-06</td>\n",
       "      <td>1241.9500</td>\n",
       "      <td>1235.001953</td>\n",
       "      <td>1247.959717</td>\n",
       "      <td>1232.315674</td>\n",
       "      <td>1235.001953</td>\n",
       "      <td>1211.983276</td>\n",
       "      <td>-43.320728</td>\n",
       "      <td>-32.568508</td>\n",
       "      <td>-48.212528</td>\n",
       "      <td>-45.526226</td>\n",
       "      <td>-68.544922</td>\n",
       "      <td>1190.579468</td>\n",
       "      <td>-13.133309</td>\n",
       "      <td>103.082008</td>\n",
       "    </tr>\n",
       "    <tr>\n",
       "      <th>52</th>\n",
       "      <td>2025-05-07</td>\n",
       "      <td>1250.3700</td>\n",
       "      <td>1241.141479</td>\n",
       "      <td>1241.026611</td>\n",
       "      <td>1237.556641</td>\n",
       "      <td>1227.361938</td>\n",
       "      <td>1241.141479</td>\n",
       "      <td>41.698299</td>\n",
       "      <td>40.811687</td>\n",
       "      <td>37.341606</td>\n",
       "      <td>27.146936</td>\n",
       "      <td>40.926487</td>\n",
       "      <td>1190.732910</td>\n",
       "      <td>-13.106215</td>\n",
       "      <td>22.588354</td>\n",
       "    </tr>\n",
       "    <tr>\n",
       "      <th>53</th>\n",
       "      <td>2025-05-08</td>\n",
       "      <td>1269.8000</td>\n",
       "      <td>1233.781128</td>\n",
       "      <td>1237.511230</td>\n",
       "      <td>1238.479492</td>\n",
       "      <td>1224.290527</td>\n",
       "      <td>1233.781128</td>\n",
       "      <td>82.009964</td>\n",
       "      <td>73.914070</td>\n",
       "      <td>74.882317</td>\n",
       "      <td>60.693439</td>\n",
       "      <td>70.184013</td>\n",
       "      <td>1190.886108</td>\n",
       "      <td>-13.020273</td>\n",
       "      <td>-14.268738</td>\n",
       "    </tr>\n",
       "    <tr>\n",
       "      <th>54</th>\n",
       "      <td>2025-05-09</td>\n",
       "      <td>NaN</td>\n",
       "      <td>1267.770264</td>\n",
       "      <td>1236.289429</td>\n",
       "      <td>1247.468506</td>\n",
       "      <td>1251.687988</td>\n",
       "      <td>1223.478638</td>\n",
       "      <td>45.437683</td>\n",
       "      <td>13.956837</td>\n",
       "      <td>25.135921</td>\n",
       "      <td>29.355398</td>\n",
       "      <td>1.146053</td>\n",
       "      <td>1191.039551</td>\n",
       "      <td>-12.876964</td>\n",
       "      <td>44.170025</td>\n",
       "    </tr>\n",
       "    <tr>\n",
       "      <th>55</th>\n",
       "      <td>2025-05-12</td>\n",
       "      <td>NaN</td>\n",
       "      <td>1255.456543</td>\n",
       "      <td>1255.456543</td>\n",
       "      <td>1249.276733</td>\n",
       "      <td>1253.760132</td>\n",
       "      <td>1244.364868</td>\n",
       "      <td>NaN</td>\n",
       "      <td>-40.210266</td>\n",
       "      <td>-46.390091</td>\n",
       "      <td>-41.906715</td>\n",
       "      <td>-51.301987</td>\n",
       "      <td>1191.499512</td>\n",
       "      <td>-12.113375</td>\n",
       "      <td>116.280685</td>\n",
       "    </tr>\n",
       "    <tr>\n",
       "      <th>56</th>\n",
       "      <td>2025-05-13</td>\n",
       "      <td>NaN</td>\n",
       "      <td>1256.926270</td>\n",
       "      <td>NaN</td>\n",
       "      <td>1256.926270</td>\n",
       "      <td>1239.073730</td>\n",
       "      <td>1249.481445</td>\n",
       "      <td>NaN</td>\n",
       "      <td>NaN</td>\n",
       "      <td>-25.926641</td>\n",
       "      <td>-43.779202</td>\n",
       "      <td>-33.371513</td>\n",
       "      <td>1191.652954</td>\n",
       "      <td>-11.752819</td>\n",
       "      <td>102.952820</td>\n",
       "    </tr>\n",
       "    <tr>\n",
       "      <th>57</th>\n",
       "      <td>2025-05-14</td>\n",
       "      <td>NaN</td>\n",
       "      <td>1251.542969</td>\n",
       "      <td>NaN</td>\n",
       "      <td>NaN</td>\n",
       "      <td>1251.542969</td>\n",
       "      <td>1245.553955</td>\n",
       "      <td>NaN</td>\n",
       "      <td>NaN</td>\n",
       "      <td>NaN</td>\n",
       "      <td>48.611244</td>\n",
       "      <td>42.622280</td>\n",
       "      <td>1191.806152</td>\n",
       "      <td>-11.342951</td>\n",
       "      <td>22.468437</td>\n",
       "    </tr>\n",
       "    <tr>\n",
       "      <th>58</th>\n",
       "      <td>2025-05-15</td>\n",
       "      <td>NaN</td>\n",
       "      <td>1260.576172</td>\n",
       "      <td>NaN</td>\n",
       "      <td>NaN</td>\n",
       "      <td>NaN</td>\n",
       "      <td>1260.576172</td>\n",
       "      <td>NaN</td>\n",
       "      <td>NaN</td>\n",
       "      <td>NaN</td>\n",
       "      <td>NaN</td>\n",
       "      <td>93.849739</td>\n",
       "      <td>1191.959595</td>\n",
       "      <td>-10.887767</td>\n",
       "      <td>-14.345491</td>\n",
       "    </tr>\n",
       "  </tbody>\n",
       "</table>\n",
       "</div>"
      ],
      "text/plain": [
       "           ds          y        yhat1        yhat2        yhat3        yhat4  \\\n",
       "47 2025-04-30  1229.7375  1227.539062  1248.128052  1218.590088          NaN   \n",
       "48 2025-05-01  1233.1750  1235.697754  1224.602295  1216.932007  1218.506104   \n",
       "49 2025-05-02  1236.6125  1210.645020  1210.645020  1228.282715  1224.174072   \n",
       "50 2025-05-05  1240.0500  1230.625977  1224.610107  1230.625977  1228.278198   \n",
       "51 2025-05-06  1241.9500  1235.001953  1247.959717  1232.315674  1235.001953   \n",
       "52 2025-05-07  1250.3700  1241.141479  1241.026611  1237.556641  1227.361938   \n",
       "53 2025-05-08  1269.8000  1233.781128  1237.511230  1238.479492  1224.290527   \n",
       "54 2025-05-09        NaN  1267.770264  1236.289429  1247.468506  1251.687988   \n",
       "55 2025-05-12        NaN  1255.456543  1255.456543  1249.276733  1253.760132   \n",
       "56 2025-05-13        NaN  1256.926270          NaN  1256.926270  1239.073730   \n",
       "57 2025-05-14        NaN  1251.542969          NaN          NaN  1251.542969   \n",
       "58 2025-05-15        NaN  1260.576172          NaN          NaN          NaN   \n",
       "\n",
       "          yhat5        ar1        ar2        ar3        ar4        ar5  \\\n",
       "47          NaN  27.271690  47.860786  18.322798        NaN        NaN   \n",
       "48          NaN  72.646873  61.551556  53.881165  55.455231        NaN   \n",
       "49  1229.165649  13.589694 -10.800488   6.837266   2.728652   7.720213   \n",
       "50  1210.197754 -63.434246 -69.111458 -63.095654 -65.443466 -83.523827   \n",
       "51  1211.983276 -43.320728 -32.568508 -48.212528 -45.526226 -68.544922   \n",
       "52  1241.141479  41.698299  40.811687  37.341606  27.146936  40.926487   \n",
       "53  1233.781128  82.009964  73.914070  74.882317  60.693439  70.184013   \n",
       "54  1223.478638  45.437683  13.956837  25.135921  29.355398   1.146053   \n",
       "55  1244.364868        NaN -40.210266 -46.390091 -41.906715 -51.301987   \n",
       "56  1249.481445        NaN        NaN -25.926641 -43.779202 -33.371513   \n",
       "57  1245.553955        NaN        NaN        NaN  48.611244  42.622280   \n",
       "58  1260.576172        NaN        NaN        NaN        NaN  93.849739   \n",
       "\n",
       "          trend  season_yearly  season_weekly  \n",
       "47  1189.659424     -12.100281      22.708157  \n",
       "48  1189.812744     -12.410201     -14.351724  \n",
       "49  1189.966064     -12.667153      44.146465  \n",
       "50  1190.426147     -13.103772     116.399246  \n",
       "51  1190.579468     -13.133309     103.082008  \n",
       "52  1190.732910     -13.106215      22.588354  \n",
       "53  1190.886108     -13.020273     -14.268738  \n",
       "54  1191.039551     -12.876964      44.170025  \n",
       "55  1191.499512     -12.113375     116.280685  \n",
       "56  1191.652954     -11.752819     102.952820  \n",
       "57  1191.806152     -11.342951      22.468437  \n",
       "58  1191.959595     -10.887767     -14.345491  "
      ]
     },
     "execution_count": 17,
     "metadata": {},
     "output_type": "execute_result"
    }
   ],
   "source": [
    "forecast.tail(12)"
   ]
  },
  {
   "cell_type": "code",
   "execution_count": 18,
   "id": "bcc77d30",
   "metadata": {},
   "outputs": [],
   "source": [
    "result = forecast[['ds', 'yhat1']].tail(5).rename(columns={\n",
    "          'ds': 'Date',\n",
    "          'yhat1': 'VN_Index_Close'\n",
    "      })\n",
    "result.to_csv(f'../result_{m.n_lags}.xlsx')"
   ]
  }
 ],
 "metadata": {
  "kernelspec": {
   "display_name": "base",
   "language": "python",
   "name": "python3"
  },
  "language_info": {
   "codemirror_mode": {
    "name": "ipython",
    "version": 3
   },
   "file_extension": ".py",
   "mimetype": "text/x-python",
   "name": "python",
   "nbconvert_exporter": "python",
   "pygments_lexer": "ipython3",
   "version": "3.11.8"
  }
 },
 "nbformat": 4,
 "nbformat_minor": 5
}
