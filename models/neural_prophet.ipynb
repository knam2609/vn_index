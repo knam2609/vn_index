{
 "cells": [
  {
   "cell_type": "code",
   "execution_count": 16,
   "id": "88eeb36a",
   "metadata": {},
   "outputs": [],
   "source": [
    "import sys, os\n",
    "\n",
    "# Add project_root to sys.path so Python can find `scripts/`\n",
    "project_root = os.path.abspath(os.path.join(os.getcwd(), \"..\"))\n",
    "if project_root not in sys.path:\n",
    "    sys.path.insert(0, project_root)"
   ]
  },
  {
   "cell_type": "code",
   "execution_count": 17,
   "id": "d7c200c6",
   "metadata": {},
   "outputs": [],
   "source": [
    "from neuralprophet import NeuralProphet, set_random_seed, set_log_level\n",
    "from scripts.features_engineering import quicky_data, lag_features_indicators\n",
    "from scripts.helper import CustomizedLoss\n",
    "import pandas as pd\n",
    "import numpy as np \n",
    "from sklearn.preprocessing import MinMaxScaler, StandardScaler\n",
    "\n",
    "set_random_seed(0)\n",
    "# Disable logging messages unless there is an error\n",
    "set_log_level(\"ERROR\")\n"
   ]
  },
  {
   "cell_type": "code",
   "execution_count": null,
   "id": "d2992d63",
   "metadata": {},
   "outputs": [],
   "source": [
    "def modify(df, forecast=5):\n",
    "    # figure out where 'yhat1' lives\n",
    "    col_idx = df.columns.get_loc('yhat1')\n",
    "\n",
    "    # loop 1…9\n",
    "    for i in range(1, forecast):\n",
    "        # compute which yhatN we need\n",
    "        which = forecast - i + 1          # 10→1, 9→2, …, 2→9\n",
    "        val   = df.iloc[-i][f'yhat{which}'] \n",
    "        # row number = -i (so i=1 → last row, i=9 → 9th-from-last)\n",
    "        df.iat[-i, col_idx] = val\n",
    "\n",
    "    j = 0\n",
    "    for i in range(forecast+1, forecast+6):\n",
    "        which = min(5, forecast - j +1)\n",
    "        print(which)\n",
    "        print(df.iloc[-i]['ds'])\n",
    "\n",
    "        val = df.iloc[-i][f'yhat{which}']\n",
    "        df.iat[-i, col_idx] = val\n",
    "        j += 1"
   ]
  },
  {
   "cell_type": "code",
   "execution_count": 19,
   "id": "17166fdc",
   "metadata": {},
   "outputs": [],
   "source": [
    "\n",
    "# 1) Instantiate a NeuralProphet model that learns from the past 60 days (n_lags)\n",
    "#    to forecast the next 10 days (n_forecasts), with trend + all seasonalities on.\n",
    "m = NeuralProphet(\n",
    "    n_lags=45,                 # look back this many days as inputs\n",
    "    n_forecasts=5,            # predict this many days ahead\n",
    "    yearly_seasonality=True,   # model an annual cycle\n",
    "    weekly_seasonality=True,   # model day-of-week cycle\n",
    "    daily_seasonality=False,    # if intra-day data; set False for daily only\n",
    "    seasonality_mode='additive',\n",
    "    n_changepoints=10,\n",
    "    # you can also tweak trend flexibility:\n",
    "    trend_reg=0.5,                  \n",
    "    trend_reg_threshold=True,\n",
    "    normalize='standardize',\n",
    "    drop_missing=True,\n",
    ")\n",
    "m.set_plotting_backend(\"plotly-static\")\n",
    "# m.add_country_holidays('VN')"
   ]
  },
  {
   "cell_type": "code",
   "execution_count": 20,
   "id": "2b552aee",
   "metadata": {},
   "outputs": [],
   "source": [
    "# 📂 Load dataset\n",
    "file_path_1 = \"../ready_data/cleaned_vn_index_data.csv\"\n",
    "df_1 = pd.read_csv(file_path_1)\n",
    "\n",
    "df_1.drop(columns=['Index'], inplace=True)\n",
    "\n",
    "df = (\n",
    "    df_1[['Date', 'VN_Index_Close']].rename(columns={\n",
    "          'Date': 'ds',\n",
    "          'VN_Index_Close': 'y'\n",
    "      })\n",
    ")\n",
    "\n",
    "# convert the 'ds' column to datetime\n",
    "df['ds'] = pd.to_datetime(df['ds'])\n"
   ]
  },
  {
   "cell_type": "code",
   "execution_count": 21,
   "id": "26cfd3e2",
   "metadata": {},
   "outputs": [
    {
     "data": {
      "text/plain": [
       "Index(['ds', 'y'], dtype='object')"
      ]
     },
     "execution_count": 21,
     "metadata": {},
     "output_type": "execute_result"
    }
   ],
   "source": [
    "df.columns"
   ]
  },
  {
   "cell_type": "code",
   "execution_count": 22,
   "id": "a4242efd",
   "metadata": {},
   "outputs": [],
   "source": [
    "# m.add_lagged_regressor('Total Volume', normalize='standardize')"
   ]
  },
  {
   "cell_type": "code",
   "execution_count": 23,
   "id": "af5ce736",
   "metadata": {},
   "outputs": [
    {
     "data": {
      "application/vnd.jupyter.widget-view+json": {
       "model_id": "34fe8e3c0d7f42c0bfd32bef834e7fb4",
       "version_major": 2,
       "version_minor": 0
      },
      "text/plain": [
       "Training: |          | 0/? [00:00<?, ?it/s]"
      ]
     },
     "metadata": {},
     "output_type": "display_data"
    },
    {
     "data": {
      "application/vnd.jupyter.widget-view+json": {
       "model_id": "447b2cbb3be141bdb4a086dbc2df61df",
       "version_major": 2,
       "version_minor": 0
      },
      "text/plain": [
       "Finding best initial lr:   0%|          | 0/242 [00:00<?, ?it/s]"
      ]
     },
     "metadata": {},
     "output_type": "display_data"
    },
    {
     "data": {
      "application/vnd.jupyter.widget-view+json": {
       "model_id": "bd5f5aeb0ac449b6ad13c6d2095fb234",
       "version_major": 2,
       "version_minor": 0
      },
      "text/plain": [
       "Training: |          | 0/? [00:00<?, ?it/s]"
      ]
     },
     "metadata": {},
     "output_type": "display_data"
    },
    {
     "data": {
      "application/vnd.jupyter.widget-view+json": {
       "model_id": "759db767dcf94407bc4735cce12f8fe2",
       "version_major": 2,
       "version_minor": 0
      },
      "text/plain": [
       "Validation: |          | 0/? [00:00<?, ?it/s]"
      ]
     },
     "metadata": {},
     "output_type": "display_data"
    },
    {
     "data": {
      "application/vnd.jupyter.widget-view+json": {
       "model_id": "8c309c6dcf2d458899c09babab056306",
       "version_major": 2,
       "version_minor": 0
      },
      "text/plain": [
       "Validation: |          | 0/? [00:00<?, ?it/s]"
      ]
     },
     "metadata": {},
     "output_type": "display_data"
    },
    {
     "data": {
      "application/vnd.jupyter.widget-view+json": {
       "model_id": "85c69d955cfe4a389099d8f0502fec5d",
       "version_major": 2,
       "version_minor": 0
      },
      "text/plain": [
       "Validation: |          | 0/? [00:00<?, ?it/s]"
      ]
     },
     "metadata": {},
     "output_type": "display_data"
    },
    {
     "data": {
      "application/vnd.jupyter.widget-view+json": {
       "model_id": "0e239c0d835a4eedb44459feb09ff396",
       "version_major": 2,
       "version_minor": 0
      },
      "text/plain": [
       "Validation: |          | 0/? [00:00<?, ?it/s]"
      ]
     },
     "metadata": {},
     "output_type": "display_data"
    },
    {
     "data": {
      "application/vnd.jupyter.widget-view+json": {
       "model_id": "4729dc4c9d7e4e268c130f5909a96ac8",
       "version_major": 2,
       "version_minor": 0
      },
      "text/plain": [
       "Validation: |          | 0/? [00:00<?, ?it/s]"
      ]
     },
     "metadata": {},
     "output_type": "display_data"
    },
    {
     "data": {
      "application/vnd.jupyter.widget-view+json": {
       "model_id": "49e7b171a22f4fd3ba0a359c8a4dad31",
       "version_major": 2,
       "version_minor": 0
      },
      "text/plain": [
       "Validation: |          | 0/? [00:00<?, ?it/s]"
      ]
     },
     "metadata": {},
     "output_type": "display_data"
    },
    {
     "data": {
      "application/vnd.jupyter.widget-view+json": {
       "model_id": "d2b5c3dc8d67462abc8a9fc170ab923f",
       "version_major": 2,
       "version_minor": 0
      },
      "text/plain": [
       "Validation: |          | 0/? [00:00<?, ?it/s]"
      ]
     },
     "metadata": {},
     "output_type": "display_data"
    },
    {
     "data": {
      "application/vnd.jupyter.widget-view+json": {
       "model_id": "40299e42930c414db35de52b2822359d",
       "version_major": 2,
       "version_minor": 0
      },
      "text/plain": [
       "Validation: |          | 0/? [00:00<?, ?it/s]"
      ]
     },
     "metadata": {},
     "output_type": "display_data"
    },
    {
     "data": {
      "application/vnd.jupyter.widget-view+json": {
       "model_id": "776c2709823a442b9dffdd883842a31a",
       "version_major": 2,
       "version_minor": 0
      },
      "text/plain": [
       "Validation: |          | 0/? [00:00<?, ?it/s]"
      ]
     },
     "metadata": {},
     "output_type": "display_data"
    },
    {
     "data": {
      "application/vnd.jupyter.widget-view+json": {
       "model_id": "f5352e4af3304be0a2831597259ae205",
       "version_major": 2,
       "version_minor": 0
      },
      "text/plain": [
       "Validation: |          | 0/? [00:00<?, ?it/s]"
      ]
     },
     "metadata": {},
     "output_type": "display_data"
    },
    {
     "data": {
      "application/vnd.jupyter.widget-view+json": {
       "model_id": "9b0a2b82127d408bbccbb227c87317ae",
       "version_major": 2,
       "version_minor": 0
      },
      "text/plain": [
       "Validation: |          | 0/? [00:00<?, ?it/s]"
      ]
     },
     "metadata": {},
     "output_type": "display_data"
    },
    {
     "data": {
      "application/vnd.jupyter.widget-view+json": {
       "model_id": "e14f3687ae5d4cd380b6b1adde34342b",
       "version_major": 2,
       "version_minor": 0
      },
      "text/plain": [
       "Validation: |          | 0/? [00:00<?, ?it/s]"
      ]
     },
     "metadata": {},
     "output_type": "display_data"
    },
    {
     "data": {
      "application/vnd.jupyter.widget-view+json": {
       "model_id": "8e6a677cbac7499fa100b72ea40ee918",
       "version_major": 2,
       "version_minor": 0
      },
      "text/plain": [
       "Validation: |          | 0/? [00:00<?, ?it/s]"
      ]
     },
     "metadata": {},
     "output_type": "display_data"
    },
    {
     "data": {
      "application/vnd.jupyter.widget-view+json": {
       "model_id": "0a2d6dc9ef6940cd8e4a7c5051845587",
       "version_major": 2,
       "version_minor": 0
      },
      "text/plain": [
       "Validation: |          | 0/? [00:00<?, ?it/s]"
      ]
     },
     "metadata": {},
     "output_type": "display_data"
    },
    {
     "data": {
      "application/vnd.jupyter.widget-view+json": {
       "model_id": "a6274f80e6754796a2bb81cdcf49dd19",
       "version_major": 2,
       "version_minor": 0
      },
      "text/plain": [
       "Validation: |          | 0/? [00:00<?, ?it/s]"
      ]
     },
     "metadata": {},
     "output_type": "display_data"
    },
    {
     "data": {
      "application/vnd.jupyter.widget-view+json": {
       "model_id": "89e5f242d11d46ada34433576518fd4e",
       "version_major": 2,
       "version_minor": 0
      },
      "text/plain": [
       "Validation: |          | 0/? [00:00<?, ?it/s]"
      ]
     },
     "metadata": {},
     "output_type": "display_data"
    },
    {
     "data": {
      "application/vnd.jupyter.widget-view+json": {
       "model_id": "978f6a69065a4cbd93db1c29008960e5",
       "version_major": 2,
       "version_minor": 0
      },
      "text/plain": [
       "Validation: |          | 0/? [00:00<?, ?it/s]"
      ]
     },
     "metadata": {},
     "output_type": "display_data"
    },
    {
     "data": {
      "application/vnd.jupyter.widget-view+json": {
       "model_id": "87c3163a708b4462a9cdec023ecf8cc2",
       "version_major": 2,
       "version_minor": 0
      },
      "text/plain": [
       "Validation: |          | 0/? [00:00<?, ?it/s]"
      ]
     },
     "metadata": {},
     "output_type": "display_data"
    },
    {
     "data": {
      "application/vnd.jupyter.widget-view+json": {
       "model_id": "dd1d67da5c4d4e8f92b2545d986a983c",
       "version_major": 2,
       "version_minor": 0
      },
      "text/plain": [
       "Validation: |          | 0/? [00:00<?, ?it/s]"
      ]
     },
     "metadata": {},
     "output_type": "display_data"
    },
    {
     "data": {
      "application/vnd.jupyter.widget-view+json": {
       "model_id": "b9807cbe399247e7b0ff40e0d0ae4cdf",
       "version_major": 2,
       "version_minor": 0
      },
      "text/plain": [
       "Validation: |          | 0/? [00:00<?, ?it/s]"
      ]
     },
     "metadata": {},
     "output_type": "display_data"
    },
    {
     "data": {
      "application/vnd.jupyter.widget-view+json": {
       "model_id": "ed21436779354e5eac9d5b3b9b867904",
       "version_major": 2,
       "version_minor": 0
      },
      "text/plain": [
       "Validation: |          | 0/? [00:00<?, ?it/s]"
      ]
     },
     "metadata": {},
     "output_type": "display_data"
    },
    {
     "data": {
      "application/vnd.jupyter.widget-view+json": {
       "model_id": "5edc4e48649f418baf46d27f41494662",
       "version_major": 2,
       "version_minor": 0
      },
      "text/plain": [
       "Validation: |          | 0/? [00:00<?, ?it/s]"
      ]
     },
     "metadata": {},
     "output_type": "display_data"
    },
    {
     "data": {
      "application/vnd.jupyter.widget-view+json": {
       "model_id": "f0cdd488caca4cceae62349ef2dac0e4",
       "version_major": 2,
       "version_minor": 0
      },
      "text/plain": [
       "Validation: |          | 0/? [00:00<?, ?it/s]"
      ]
     },
     "metadata": {},
     "output_type": "display_data"
    },
    {
     "data": {
      "application/vnd.jupyter.widget-view+json": {
       "model_id": "2d13e4513db84d1a9ebac700952f4107",
       "version_major": 2,
       "version_minor": 0
      },
      "text/plain": [
       "Validation: |          | 0/? [00:00<?, ?it/s]"
      ]
     },
     "metadata": {},
     "output_type": "display_data"
    },
    {
     "data": {
      "application/vnd.jupyter.widget-view+json": {
       "model_id": "f8ee1e579d04440d8236992ffd4eb492",
       "version_major": 2,
       "version_minor": 0
      },
      "text/plain": [
       "Validation: |          | 0/? [00:00<?, ?it/s]"
      ]
     },
     "metadata": {},
     "output_type": "display_data"
    },
    {
     "data": {
      "application/vnd.jupyter.widget-view+json": {
       "model_id": "2e1208adb60f4966bc759d2baf4ff22a",
       "version_major": 2,
       "version_minor": 0
      },
      "text/plain": [
       "Validation: |          | 0/? [00:00<?, ?it/s]"
      ]
     },
     "metadata": {},
     "output_type": "display_data"
    },
    {
     "data": {
      "application/vnd.jupyter.widget-view+json": {
       "model_id": "82ef8a46c2d24d679aaf2de67a1e00fb",
       "version_major": 2,
       "version_minor": 0
      },
      "text/plain": [
       "Validation: |          | 0/? [00:00<?, ?it/s]"
      ]
     },
     "metadata": {},
     "output_type": "display_data"
    },
    {
     "data": {
      "application/vnd.jupyter.widget-view+json": {
       "model_id": "a959a7bbfc174f5abb0124a13c595991",
       "version_major": 2,
       "version_minor": 0
      },
      "text/plain": [
       "Validation: |          | 0/? [00:00<?, ?it/s]"
      ]
     },
     "metadata": {},
     "output_type": "display_data"
    },
    {
     "data": {
      "application/vnd.jupyter.widget-view+json": {
       "model_id": "4bfda5771b3246abb21931abbaf5d9de",
       "version_major": 2,
       "version_minor": 0
      },
      "text/plain": [
       "Validation: |          | 0/? [00:00<?, ?it/s]"
      ]
     },
     "metadata": {},
     "output_type": "display_data"
    },
    {
     "data": {
      "application/vnd.jupyter.widget-view+json": {
       "model_id": "25bc79b5d4e84fb98b2157d096f1b158",
       "version_major": 2,
       "version_minor": 0
      },
      "text/plain": [
       "Validation: |          | 0/? [00:00<?, ?it/s]"
      ]
     },
     "metadata": {},
     "output_type": "display_data"
    },
    {
     "data": {
      "application/vnd.jupyter.widget-view+json": {
       "model_id": "767cf22c3bf04c7e8600f26ad614bb93",
       "version_major": 2,
       "version_minor": 0
      },
      "text/plain": [
       "Validation: |          | 0/? [00:00<?, ?it/s]"
      ]
     },
     "metadata": {},
     "output_type": "display_data"
    },
    {
     "data": {
      "application/vnd.jupyter.widget-view+json": {
       "model_id": "4158f3cbd5624db7bccecbc450c7938b",
       "version_major": 2,
       "version_minor": 0
      },
      "text/plain": [
       "Validation: |          | 0/? [00:00<?, ?it/s]"
      ]
     },
     "metadata": {},
     "output_type": "display_data"
    },
    {
     "data": {
      "application/vnd.jupyter.widget-view+json": {
       "model_id": "8079454a23f145a8b8a5e27f7d802e3f",
       "version_major": 2,
       "version_minor": 0
      },
      "text/plain": [
       "Validation: |          | 0/? [00:00<?, ?it/s]"
      ]
     },
     "metadata": {},
     "output_type": "display_data"
    },
    {
     "data": {
      "application/vnd.jupyter.widget-view+json": {
       "model_id": "02f428167cfb4735b684f17b09f9aa4c",
       "version_major": 2,
       "version_minor": 0
      },
      "text/plain": [
       "Validation: |          | 0/? [00:00<?, ?it/s]"
      ]
     },
     "metadata": {},
     "output_type": "display_data"
    },
    {
     "data": {
      "application/vnd.jupyter.widget-view+json": {
       "model_id": "6131f8fa95324f3faa6cf9a527ba8599",
       "version_major": 2,
       "version_minor": 0
      },
      "text/plain": [
       "Validation: |          | 0/? [00:00<?, ?it/s]"
      ]
     },
     "metadata": {},
     "output_type": "display_data"
    },
    {
     "data": {
      "application/vnd.jupyter.widget-view+json": {
       "model_id": "82a50f2d251b41a8948e42b8070cb354",
       "version_major": 2,
       "version_minor": 0
      },
      "text/plain": [
       "Validation: |          | 0/? [00:00<?, ?it/s]"
      ]
     },
     "metadata": {},
     "output_type": "display_data"
    },
    {
     "data": {
      "application/vnd.jupyter.widget-view+json": {
       "model_id": "14586fc4422a42f3b5ff5290a100116e",
       "version_major": 2,
       "version_minor": 0
      },
      "text/plain": [
       "Validation: |          | 0/? [00:00<?, ?it/s]"
      ]
     },
     "metadata": {},
     "output_type": "display_data"
    },
    {
     "data": {
      "application/vnd.jupyter.widget-view+json": {
       "model_id": "41ead06be1834f1185f1ec1495e93cd0",
       "version_major": 2,
       "version_minor": 0
      },
      "text/plain": [
       "Validation: |          | 0/? [00:00<?, ?it/s]"
      ]
     },
     "metadata": {},
     "output_type": "display_data"
    },
    {
     "data": {
      "application/vnd.jupyter.widget-view+json": {
       "model_id": "580e93f519b7447c8329c6bb2b1f0446",
       "version_major": 2,
       "version_minor": 0
      },
      "text/plain": [
       "Validation: |          | 0/? [00:00<?, ?it/s]"
      ]
     },
     "metadata": {},
     "output_type": "display_data"
    },
    {
     "data": {
      "application/vnd.jupyter.widget-view+json": {
       "model_id": "e84d5c0ebead4475859552a090fb9c7f",
       "version_major": 2,
       "version_minor": 0
      },
      "text/plain": [
       "Validation: |          | 0/? [00:00<?, ?it/s]"
      ]
     },
     "metadata": {},
     "output_type": "display_data"
    },
    {
     "data": {
      "application/vnd.jupyter.widget-view+json": {
       "model_id": "be55d4dd8e2344ccb9c7b31818bc2202",
       "version_major": 2,
       "version_minor": 0
      },
      "text/plain": [
       "Validation: |          | 0/? [00:00<?, ?it/s]"
      ]
     },
     "metadata": {},
     "output_type": "display_data"
    },
    {
     "data": {
      "application/vnd.jupyter.widget-view+json": {
       "model_id": "b93d7088b4534e25976de92cdbab91b8",
       "version_major": 2,
       "version_minor": 0
      },
      "text/plain": [
       "Validation: |          | 0/? [00:00<?, ?it/s]"
      ]
     },
     "metadata": {},
     "output_type": "display_data"
    },
    {
     "data": {
      "application/vnd.jupyter.widget-view+json": {
       "model_id": "2ebbd4cfa671401f8fb3a2df428f06a5",
       "version_major": 2,
       "version_minor": 0
      },
      "text/plain": [
       "Validation: |          | 0/? [00:00<?, ?it/s]"
      ]
     },
     "metadata": {},
     "output_type": "display_data"
    },
    {
     "data": {
      "application/vnd.jupyter.widget-view+json": {
       "model_id": "19a7d15071ce4e1eaffb34747793c9a7",
       "version_major": 2,
       "version_minor": 0
      },
      "text/plain": [
       "Validation: |          | 0/? [00:00<?, ?it/s]"
      ]
     },
     "metadata": {},
     "output_type": "display_data"
    },
    {
     "data": {
      "application/vnd.jupyter.widget-view+json": {
       "model_id": "70620405bd4c4c429c4a2d4d16d0fa3d",
       "version_major": 2,
       "version_minor": 0
      },
      "text/plain": [
       "Validation: |          | 0/? [00:00<?, ?it/s]"
      ]
     },
     "metadata": {},
     "output_type": "display_data"
    },
    {
     "data": {
      "application/vnd.jupyter.widget-view+json": {
       "model_id": "686aaa1320a346a2b3c6ce7a7fd8d42c",
       "version_major": 2,
       "version_minor": 0
      },
      "text/plain": [
       "Validation: |          | 0/? [00:00<?, ?it/s]"
      ]
     },
     "metadata": {},
     "output_type": "display_data"
    },
    {
     "data": {
      "application/vnd.jupyter.widget-view+json": {
       "model_id": "ca50d4f7f9414a45841f2f10cff9f7cd",
       "version_major": 2,
       "version_minor": 0
      },
      "text/plain": [
       "Validation: |          | 0/? [00:00<?, ?it/s]"
      ]
     },
     "metadata": {},
     "output_type": "display_data"
    },
    {
     "data": {
      "application/vnd.jupyter.widget-view+json": {
       "model_id": "3a8cc1050bc84da5b1209d36cb380e04",
       "version_major": 2,
       "version_minor": 0
      },
      "text/plain": [
       "Validation: |          | 0/? [00:00<?, ?it/s]"
      ]
     },
     "metadata": {},
     "output_type": "display_data"
    },
    {
     "data": {
      "application/vnd.jupyter.widget-view+json": {
       "model_id": "172e8762bda24466a7c0761ce3b7fb39",
       "version_major": 2,
       "version_minor": 0
      },
      "text/plain": [
       "Validation: |          | 0/? [00:00<?, ?it/s]"
      ]
     },
     "metadata": {},
     "output_type": "display_data"
    },
    {
     "data": {
      "application/vnd.jupyter.widget-view+json": {
       "model_id": "d3ee866e89b94311970f81003b3ca240",
       "version_major": 2,
       "version_minor": 0
      },
      "text/plain": [
       "Validation: |          | 0/? [00:00<?, ?it/s]"
      ]
     },
     "metadata": {},
     "output_type": "display_data"
    },
    {
     "data": {
      "application/vnd.jupyter.widget-view+json": {
       "model_id": "bf972baa989b493ca7ad3a83f7d491a0",
       "version_major": 2,
       "version_minor": 0
      },
      "text/plain": [
       "Validation: |          | 0/? [00:00<?, ?it/s]"
      ]
     },
     "metadata": {},
     "output_type": "display_data"
    },
    {
     "data": {
      "application/vnd.jupyter.widget-view+json": {
       "model_id": "ab88cb69d8eb4fad80f4597ba09648a1",
       "version_major": 2,
       "version_minor": 0
      },
      "text/plain": [
       "Validation: |          | 0/? [00:00<?, ?it/s]"
      ]
     },
     "metadata": {},
     "output_type": "display_data"
    },
    {
     "data": {
      "application/vnd.jupyter.widget-view+json": {
       "model_id": "13709178accb4cd08b87be3b42cebcb7",
       "version_major": 2,
       "version_minor": 0
      },
      "text/plain": [
       "Validation: |          | 0/? [00:00<?, ?it/s]"
      ]
     },
     "metadata": {},
     "output_type": "display_data"
    },
    {
     "data": {
      "application/vnd.jupyter.widget-view+json": {
       "model_id": "5f53f57669e74f3284aec7c753c5a864",
       "version_major": 2,
       "version_minor": 0
      },
      "text/plain": [
       "Validation: |          | 0/? [00:00<?, ?it/s]"
      ]
     },
     "metadata": {},
     "output_type": "display_data"
    },
    {
     "data": {
      "application/vnd.jupyter.widget-view+json": {
       "model_id": "810696c43b7146e3be734fb5b3fb45c6",
       "version_major": 2,
       "version_minor": 0
      },
      "text/plain": [
       "Validation: |          | 0/? [00:00<?, ?it/s]"
      ]
     },
     "metadata": {},
     "output_type": "display_data"
    },
    {
     "data": {
      "application/vnd.jupyter.widget-view+json": {
       "model_id": "d339b7f1644949a996cd0fd955566311",
       "version_major": 2,
       "version_minor": 0
      },
      "text/plain": [
       "Validation: |          | 0/? [00:00<?, ?it/s]"
      ]
     },
     "metadata": {},
     "output_type": "display_data"
    },
    {
     "data": {
      "application/vnd.jupyter.widget-view+json": {
       "model_id": "9470e7e48cc3445fa5ed76108ebdbe37",
       "version_major": 2,
       "version_minor": 0
      },
      "text/plain": [
       "Validation: |          | 0/? [00:00<?, ?it/s]"
      ]
     },
     "metadata": {},
     "output_type": "display_data"
    },
    {
     "data": {
      "application/vnd.jupyter.widget-view+json": {
       "model_id": "5ea65a2d44ce4582ae2a0b39792807e0",
       "version_major": 2,
       "version_minor": 0
      },
      "text/plain": [
       "Validation: |          | 0/? [00:00<?, ?it/s]"
      ]
     },
     "metadata": {},
     "output_type": "display_data"
    },
    {
     "data": {
      "application/vnd.jupyter.widget-view+json": {
       "model_id": "26ea7980926746af8e38377a4e8045f2",
       "version_major": 2,
       "version_minor": 0
      },
      "text/plain": [
       "Validation: |          | 0/? [00:00<?, ?it/s]"
      ]
     },
     "metadata": {},
     "output_type": "display_data"
    },
    {
     "data": {
      "application/vnd.jupyter.widget-view+json": {
       "model_id": "642c751a3f9a4738b27f6257dc4745f4",
       "version_major": 2,
       "version_minor": 0
      },
      "text/plain": [
       "Validation: |          | 0/? [00:00<?, ?it/s]"
      ]
     },
     "metadata": {},
     "output_type": "display_data"
    },
    {
     "data": {
      "application/vnd.jupyter.widget-view+json": {
       "model_id": "c1df214744cf45a8ae31ee93534921dc",
       "version_major": 2,
       "version_minor": 0
      },
      "text/plain": [
       "Validation: |          | 0/? [00:00<?, ?it/s]"
      ]
     },
     "metadata": {},
     "output_type": "display_data"
    },
    {
     "data": {
      "application/vnd.jupyter.widget-view+json": {
       "model_id": "b21b35eee09a4bdd942331257ada3c64",
       "version_major": 2,
       "version_minor": 0
      },
      "text/plain": [
       "Validation: |          | 0/? [00:00<?, ?it/s]"
      ]
     },
     "metadata": {},
     "output_type": "display_data"
    },
    {
     "data": {
      "application/vnd.jupyter.widget-view+json": {
       "model_id": "279022b4d8e840f59a60068a2320b7fc",
       "version_major": 2,
       "version_minor": 0
      },
      "text/plain": [
       "Validation: |          | 0/? [00:00<?, ?it/s]"
      ]
     },
     "metadata": {},
     "output_type": "display_data"
    },
    {
     "data": {
      "application/vnd.jupyter.widget-view+json": {
       "model_id": "790b168b009b43faaee922840b47422d",
       "version_major": 2,
       "version_minor": 0
      },
      "text/plain": [
       "Validation: |          | 0/? [00:00<?, ?it/s]"
      ]
     },
     "metadata": {},
     "output_type": "display_data"
    },
    {
     "data": {
      "application/vnd.jupyter.widget-view+json": {
       "model_id": "57e8667c598a4ab787a020e6bd23cdac",
       "version_major": 2,
       "version_minor": 0
      },
      "text/plain": [
       "Validation: |          | 0/? [00:00<?, ?it/s]"
      ]
     },
     "metadata": {},
     "output_type": "display_data"
    },
    {
     "data": {
      "application/vnd.jupyter.widget-view+json": {
       "model_id": "32ae5e65842d4477a7fe8830ac3fc290",
       "version_major": 2,
       "version_minor": 0
      },
      "text/plain": [
       "Validation: |          | 0/? [00:00<?, ?it/s]"
      ]
     },
     "metadata": {},
     "output_type": "display_data"
    },
    {
     "data": {
      "application/vnd.jupyter.widget-view+json": {
       "model_id": "9f4c7d113bfa42f38fb9977898735213",
       "version_major": 2,
       "version_minor": 0
      },
      "text/plain": [
       "Validation: |          | 0/? [00:00<?, ?it/s]"
      ]
     },
     "metadata": {},
     "output_type": "display_data"
    },
    {
     "data": {
      "application/vnd.jupyter.widget-view+json": {
       "model_id": "f68e8f155c544e958345b9239366eb4a",
       "version_major": 2,
       "version_minor": 0
      },
      "text/plain": [
       "Validation: |          | 0/? [00:00<?, ?it/s]"
      ]
     },
     "metadata": {},
     "output_type": "display_data"
    },
    {
     "data": {
      "application/vnd.jupyter.widget-view+json": {
       "model_id": "7a5fd705c3604cca9f745f0f60e2ab0b",
       "version_major": 2,
       "version_minor": 0
      },
      "text/plain": [
       "Validation: |          | 0/? [00:00<?, ?it/s]"
      ]
     },
     "metadata": {},
     "output_type": "display_data"
    },
    {
     "data": {
      "application/vnd.jupyter.widget-view+json": {
       "model_id": "6fb3a72530da435a98bfe3f343b4893c",
       "version_major": 2,
       "version_minor": 0
      },
      "text/plain": [
       "Validation: |          | 0/? [00:00<?, ?it/s]"
      ]
     },
     "metadata": {},
     "output_type": "display_data"
    },
    {
     "data": {
      "image/png": "[encoded data removed]",
      "text/plain": [
       "<Figure size 640x480 with 1 Axes>"
      ]
     },
     "metadata": {},
     "output_type": "display_data"
    }
   ],
   "source": [
    "# 2) compute how many rows you need for validation\n",
    "n_val = m.n_lags + m.n_forecasts  # must equal 60 + 10 = 70\n",
    "\n",
    "# 3) split your DataFrame by row‐count\n",
    "train_df = df.iloc[:-n_val]\n",
    "val_df   = df.iloc[-n_val:]\n",
    "\n",
    "# 4) fit using the fixed‐size validation set\n",
    "metrics = m.fit(\n",
    "    train_df,\n",
    "    freq=\"B\",\n",
    "    validation_df=val_df,\n",
    "    progress=\"plot\",\n",
    ")\n"
   ]
  },
  {
   "cell_type": "code",
   "execution_count": 40,
   "id": "e861f865",
   "metadata": {},
   "outputs": [
    {
     "name": "stderr",
     "output_type": "stream",
     "text": [
      "WARNING - (py.warnings._showwarnmsg) - /opt/anaconda3/lib/python3.11/site-packages/neuralprophet/data/split.py:273: FutureWarning:\n",
      "\n",
      "The behavior of DataFrame concatenation with empty or all-NA entries is deprecated. In a future version, this will no longer exclude empty or all-NA columns when determining the result dtypes. To retain the old behavior, exclude the relevant entries before the concat operation.\n",
      "\n",
      "\n"
     ]
    },
    {
     "data": {
      "application/vnd.jupyter.widget-view+json": {
       "model_id": "56bae24c9512433d83b20523e30e1b61",
       "version_major": 2,
       "version_minor": 0
      },
      "text/plain": [
       "Predicting: |          | 0/? [00:00<?, ?it/s]"
      ]
     },
     "metadata": {},
     "output_type": "display_data"
    },
    {
     "name": "stderr",
     "output_type": "stream",
     "text": [
      "WARNING - (py.warnings._showwarnmsg) - /opt/anaconda3/lib/python3.11/site-packages/neuralprophet/plot_forecast_plotly.py:100: FutureWarning:\n",
      "\n",
      "The behavior of DatetimeProperties.to_pydatetime is deprecated, in a future version this will return a Series containing python datetime objects instead of an ndarray. To retain the old behavior, call `np.array` on the result\n",
      "\n",
      "\n"
     ]
    },
    {
     "name": "stdout",
     "output_type": "stream",
     "text": [
      "           ds            y        yhat1        yhat2        yhat3  \\\n",
      "0  2025-02-14  1276.080000          NaN          NaN          NaN   \n",
      "1  2025-02-17  1272.720000          NaN          NaN          NaN   \n",
      "2  2025-02-18  1278.140000          NaN          NaN          NaN   \n",
      "3  2025-02-19  1288.560000          NaN          NaN          NaN   \n",
      "4  2025-02-20  1292.980000          NaN          NaN          NaN   \n",
      "5  2025-02-21  1296.750000          NaN          NaN          NaN   \n",
      "6  2025-02-24  1304.560000          NaN          NaN          NaN   \n",
      "7  2025-02-25  1303.160000          NaN          NaN          NaN   \n",
      "8  2025-02-26  1302.960000          NaN          NaN          NaN   \n",
      "9  2025-02-27  1307.800000          NaN          NaN          NaN   \n",
      "10 2025-02-28  1305.360000          NaN          NaN          NaN   \n",
      "11 2025-03-03  1309.370000          NaN          NaN          NaN   \n",
      "12 2025-03-04  1311.910000          NaN          NaN          NaN   \n",
      "13 2025-03-05  1304.710000          NaN          NaN          NaN   \n",
      "14 2025-03-06  1318.220000          NaN          NaN          NaN   \n",
      "15 2025-03-07  1326.050000          NaN          NaN          NaN   \n",
      "16 2025-03-10  1330.280000          NaN          NaN          NaN   \n",
      "17 2025-03-11  1332.540000          NaN          NaN          NaN   \n",
      "18 2025-03-12  1334.410000          NaN          NaN          NaN   \n",
      "19 2025-03-13  1326.270000          NaN          NaN          NaN   \n",
      "20 2025-03-14  1326.150000          NaN          NaN          NaN   \n",
      "21 2025-03-17  1336.260000          NaN          NaN          NaN   \n",
      "22 2025-03-18  1330.970000          NaN          NaN          NaN   \n",
      "23 2025-03-19  1324.630000          NaN          NaN          NaN   \n",
      "24 2025-03-20  1323.930000          NaN          NaN          NaN   \n",
      "25 2025-03-21  1321.880000          NaN          NaN          NaN   \n",
      "26 2025-03-24  1330.320000          NaN          NaN          NaN   \n",
      "27 2025-03-25  1331.920000          NaN          NaN          NaN   \n",
      "28 2025-03-26  1326.090000          NaN          NaN          NaN   \n",
      "29 2025-03-27  1323.810000          NaN          NaN          NaN   \n",
      "30 2025-03-28  1317.460000          NaN          NaN          NaN   \n",
      "31 2025-03-31  1306.860000          NaN          NaN          NaN   \n",
      "32 2025-04-01  1317.330000          NaN          NaN          NaN   \n",
      "33 2025-04-02  1317.830000          NaN          NaN          NaN   \n",
      "34 2025-04-03  1264.250000          NaN          NaN          NaN   \n",
      "35 2025-04-04  1210.670000          NaN          NaN          NaN   \n",
      "36 2025-04-07  1215.798333          NaN          NaN          NaN   \n",
      "37 2025-04-08  1220.926667          NaN          NaN          NaN   \n",
      "38 2025-04-09  1226.055000          NaN          NaN          NaN   \n",
      "39 2025-04-10  1231.183333          NaN          NaN          NaN   \n",
      "40 2025-04-11  1236.311667          NaN          NaN          NaN   \n",
      "41 2025-04-14  1241.440000          NaN          NaN          NaN   \n",
      "42 2025-04-15  1227.790000          NaN          NaN          NaN   \n",
      "43 2025-04-16  1210.300000          NaN          NaN          NaN   \n",
      "44 2025-04-17  1217.250000          NaN          NaN          NaN   \n",
      "45 2025-04-18  1219.120000  1206.327759          NaN          NaN   \n",
      "46 2025-04-21  1207.070000  1224.760864  1226.038574          NaN   \n",
      "47 2025-04-22  1197.130000  1220.161865  1226.060547  1213.989014   \n",
      "48 2025-04-23  1211.000000  1197.998535  1207.829468  1226.996460   \n",
      "49 2025-04-24  1223.350000  1200.769409  1188.183838  1214.818726   \n",
      "50 2025-04-25  1229.230000  1221.611206  1197.420044  1199.390747   \n",
      "51 2025-04-28          NaN  1227.169800  1210.141846  1208.368652   \n",
      "52 2025-04-29          NaN          NaN  1233.451660  1217.302246   \n",
      "53 2025-04-30          NaN          NaN          NaN  1219.666992   \n",
      "54 2025-05-01          NaN          NaN          NaN          NaN   \n",
      "55 2025-05-02          NaN          NaN          NaN          NaN   \n",
      "\n",
      "          yhat4        yhat5         ar1         ar2         ar3         ar4  \\\n",
      "0           NaN          NaN         NaN         NaN         NaN         NaN   \n",
      "1           NaN          NaN         NaN         NaN         NaN         NaN   \n",
      "2           NaN          NaN         NaN         NaN         NaN         NaN   \n",
      "3           NaN          NaN         NaN         NaN         NaN         NaN   \n",
      "4           NaN          NaN         NaN         NaN         NaN         NaN   \n",
      "5           NaN          NaN         NaN         NaN         NaN         NaN   \n",
      "6           NaN          NaN         NaN         NaN         NaN         NaN   \n",
      "7           NaN          NaN         NaN         NaN         NaN         NaN   \n",
      "8           NaN          NaN         NaN         NaN         NaN         NaN   \n",
      "9           NaN          NaN         NaN         NaN         NaN         NaN   \n",
      "10          NaN          NaN         NaN         NaN         NaN         NaN   \n",
      "11          NaN          NaN         NaN         NaN         NaN         NaN   \n",
      "12          NaN          NaN         NaN         NaN         NaN         NaN   \n",
      "13          NaN          NaN         NaN         NaN         NaN         NaN   \n",
      "14          NaN          NaN         NaN         NaN         NaN         NaN   \n",
      "15          NaN          NaN         NaN         NaN         NaN         NaN   \n",
      "16          NaN          NaN         NaN         NaN         NaN         NaN   \n",
      "17          NaN          NaN         NaN         NaN         NaN         NaN   \n",
      "18          NaN          NaN         NaN         NaN         NaN         NaN   \n",
      "19          NaN          NaN         NaN         NaN         NaN         NaN   \n",
      "20          NaN          NaN         NaN         NaN         NaN         NaN   \n",
      "21          NaN          NaN         NaN         NaN         NaN         NaN   \n",
      "22          NaN          NaN         NaN         NaN         NaN         NaN   \n",
      "23          NaN          NaN         NaN         NaN         NaN         NaN   \n",
      "24          NaN          NaN         NaN         NaN         NaN         NaN   \n",
      "25          NaN          NaN         NaN         NaN         NaN         NaN   \n",
      "26          NaN          NaN         NaN         NaN         NaN         NaN   \n",
      "27          NaN          NaN         NaN         NaN         NaN         NaN   \n",
      "28          NaN          NaN         NaN         NaN         NaN         NaN   \n",
      "29          NaN          NaN         NaN         NaN         NaN         NaN   \n",
      "30          NaN          NaN         NaN         NaN         NaN         NaN   \n",
      "31          NaN          NaN         NaN         NaN         NaN         NaN   \n",
      "32          NaN          NaN         NaN         NaN         NaN         NaN   \n",
      "33          NaN          NaN         NaN         NaN         NaN         NaN   \n",
      "34          NaN          NaN         NaN         NaN         NaN         NaN   \n",
      "35          NaN          NaN         NaN         NaN         NaN         NaN   \n",
      "36          NaN          NaN         NaN         NaN         NaN         NaN   \n",
      "37          NaN          NaN         NaN         NaN         NaN         NaN   \n",
      "38          NaN          NaN         NaN         NaN         NaN         NaN   \n",
      "39          NaN          NaN         NaN         NaN         NaN         NaN   \n",
      "40          NaN          NaN         NaN         NaN         NaN         NaN   \n",
      "41          NaN          NaN         NaN         NaN         NaN         NaN   \n",
      "42          NaN          NaN         NaN         NaN         NaN         NaN   \n",
      "43          NaN          NaN         NaN         NaN         NaN         NaN   \n",
      "44          NaN          NaN         NaN         NaN         NaN         NaN   \n",
      "45          NaN          NaN  -64.254242         NaN         NaN         NaN   \n",
      "46          NaN          NaN -111.805092 -110.527351         NaN         NaN   \n",
      "47          NaN          NaN -103.089920  -97.191147 -109.262711         NaN   \n",
      "48  1229.043823          NaN  -49.001492  -39.170601  -20.003592  -17.956282   \n",
      "49  1226.468750  1217.114868  -11.401608  -23.987230    2.647772   14.297664   \n",
      "50  1216.808105  1230.772217  -45.717892  -69.909058  -67.938339  -50.521004   \n",
      "51  1192.642578  1210.033691 -106.887733 -123.915733 -125.688950 -141.414948   \n",
      "52  1195.680054  1185.455078         NaN  -87.309532 -103.459076 -125.081169   \n",
      "53  1215.004761  1201.814331         NaN         NaN  -25.385431  -30.047710   \n",
      "54  1219.979248  1237.135254         NaN         NaN         NaN    9.534608   \n",
      "55          NaN  1230.146118         NaN         NaN         NaN         NaN   \n",
      "\n",
      "           ar5        trend  season_yearly  season_weekly  \n",
      "0          NaN          NaN            NaN            NaN  \n",
      "1          NaN          NaN            NaN            NaN  \n",
      "2          NaN          NaN            NaN            NaN  \n",
      "3          NaN          NaN            NaN            NaN  \n",
      "4          NaN          NaN            NaN            NaN  \n",
      "5          NaN          NaN            NaN            NaN  \n",
      "6          NaN          NaN            NaN            NaN  \n",
      "7          NaN          NaN            NaN            NaN  \n",
      "8          NaN          NaN            NaN            NaN  \n",
      "9          NaN          NaN            NaN            NaN  \n",
      "10         NaN          NaN            NaN            NaN  \n",
      "11         NaN          NaN            NaN            NaN  \n",
      "12         NaN          NaN            NaN            NaN  \n",
      "13         NaN          NaN            NaN            NaN  \n",
      "14         NaN          NaN            NaN            NaN  \n",
      "15         NaN          NaN            NaN            NaN  \n",
      "16         NaN          NaN            NaN            NaN  \n",
      "17         NaN          NaN            NaN            NaN  \n",
      "18         NaN          NaN            NaN            NaN  \n",
      "19         NaN          NaN            NaN            NaN  \n",
      "20         NaN          NaN            NaN            NaN  \n",
      "21         NaN          NaN            NaN            NaN  \n",
      "22         NaN          NaN            NaN            NaN  \n",
      "23         NaN          NaN            NaN            NaN  \n",
      "24         NaN          NaN            NaN            NaN  \n",
      "25         NaN          NaN            NaN            NaN  \n",
      "26         NaN          NaN            NaN            NaN  \n",
      "27         NaN          NaN            NaN            NaN  \n",
      "28         NaN          NaN            NaN            NaN  \n",
      "29         NaN          NaN            NaN            NaN  \n",
      "30         NaN          NaN            NaN            NaN  \n",
      "31         NaN          NaN            NaN            NaN  \n",
      "32         NaN          NaN            NaN            NaN  \n",
      "33         NaN          NaN            NaN            NaN  \n",
      "34         NaN          NaN            NaN            NaN  \n",
      "35         NaN          NaN            NaN            NaN  \n",
      "36         NaN          NaN            NaN            NaN  \n",
      "37         NaN          NaN            NaN            NaN  \n",
      "38         NaN          NaN            NaN            NaN  \n",
      "39         NaN          NaN            NaN            NaN  \n",
      "40         NaN          NaN            NaN            NaN  \n",
      "41         NaN          NaN            NaN            NaN  \n",
      "42         NaN          NaN            NaN            NaN  \n",
      "43         NaN          NaN            NaN            NaN  \n",
      "44         NaN          NaN            NaN            NaN  \n",
      "45         NaN  1231.692139      -5.063950      43.953800  \n",
      "46         NaN  1232.230469      -7.122310     111.457825  \n",
      "47         NaN  1232.409912      -7.768871      98.610802  \n",
      "48         NaN  1232.589233      -8.392397      22.803209  \n",
      "49    4.943810  1232.768677      -8.984972     -11.612659  \n",
      "50  -36.556847  1232.948120      -9.545313      43.926254  \n",
      "51 -124.023949  1233.486450     -10.997077     111.568192  \n",
      "52 -135.306122  1233.665771     -11.394095      98.489517  \n",
      "53  -43.238163  1233.845459     -11.743961      22.951027  \n",
      "54   26.690582  1234.024780     -12.043543     -11.536594  \n",
      "55  -35.313484  1234.204224     -12.291383      43.546753  \n",
      "5\n",
      "2025-04-25 00:00:00\n",
      "5\n",
      "2025-04-24 00:00:00\n",
      "4\n",
      "2025-04-23 00:00:00\n",
      "3\n",
      "2025-04-22 00:00:00\n",
      "2\n",
      "2025-04-21 00:00:00\n"
     ]
    },
    {
     "data": {
      "image/svg+xml": [
       "<svg class=\"main-svg\" xmlns=\"http://www.w3.org/2000/svg\" xmlns:xlink=\"http://www.w3.org/1999/xlink\" width=\"700\" height=\"420\" style=\"\" viewBox=\"0 0 700 420\"><rect x=\"0\" y=\"0\" width=\"700\" height=\"420\" style=\"fill: rgb(255, 255, 255); fill-opacity: 1;\"/><defs id=\"defs-5930ea\"><g class=\"clips\"><clipPath id=\"clip5930eaxyplot\" class=\"plotclip\"><rect width=\"545\" height=\"263\"/></clipPath><clipPath class=\"axesclip\" id=\"clip5930eax\"><rect x=\"52\" y=\"0\" width=\"545\" height=\"420\"/></clipPath><clipPath class=\"axesclip\" id=\"clip5930eay\"><rect x=\"0\" y=\"24\" width=\"700\" height=\"263\"/></clipPath><clipPath class=\"axesclip\" id=\"clip5930eaxy\"><rect x=\"52\" y=\"24\" width=\"545\" height=\"263\"/></clipPath></g><g class=\"gradients\"/><g class=\"patterns\"/></defs><g class=\"bglayer\"/><g class=\"layer-below\"><g class=\"imagelayer\"/><g class=\"shapelayer\"/></g><g class=\"cartesianlayer\"><g class=\"subplot xy\"><g class=\"layer-subplot\"><g class=\"shapelayer\"/><g class=\"imagelayer\"/></g><g class=\"minor-gridlayer\"><g class=\"x\"/><g class=\"y\"/></g><g class=\"gridlayer\"><g class=\"x\"><path class=\"xgrid crisp\" transform=\"translate(138.88,0)\" d=\"M0,24v263\" style=\"stroke: rgb(235, 240, 248); stroke-opacity: 1; stroke-width: 1px;\"/><path class=\"xgrid crisp\" transform=\"translate(226.97,0)\" d=\"M0,24v263\" style=\"stroke: rgb(235, 240, 248); stroke-opacity: 1; stroke-width: 1px;\"/><path class=\"xgrid crisp\" transform=\"translate(315.06,0)\" d=\"M0,24v263\" style=\"stroke: rgb(235, 240, 248); stroke-opacity: 1; stroke-width: 1px;\"/><path class=\"xgrid crisp\" transform=\"translate(403.15,0)\" d=\"M0,24v263\" style=\"stroke: rgb(235, 240, 248); stroke-opacity: 1; stroke-width: 1px;\"/><path class=\"xgrid crisp\" transform=\"translate(491.24,0)\" d=\"M0,24v263\" style=\"stroke: rgb(235, 240, 248); stroke-opacity: 1; stroke-width: 1px;\"/><path class=\"xgrid crisp\" transform=\"translate(579.33,0)\" d=\"M0,24v263\" style=\"stroke: rgb(235, 240, 248); stroke-opacity: 1; stroke-width: 1px;\"/></g><g class=\"y\"><path class=\"ygrid crisp\" transform=\"translate(0,266.09000000000003)\" d=\"M52,0h545\" style=\"stroke: rgb(235, 240, 248); stroke-opacity: 1; stroke-width: 1px;\"/><path class=\"ygrid crisp\" transform=\"translate(0,183.18)\" d=\"M52,0h545\" style=\"stroke: rgb(235, 240, 248); stroke-opacity: 1; stroke-width: 1px;\"/><path class=\"ygrid crisp\" transform=\"translate(0,100.27)\" d=\"M52,0h545\" style=\"stroke: rgb(235, 240, 248); stroke-opacity: 1; stroke-width: 1px;\"/></g></g><g class=\"zerolinelayer\"/><g class=\"layer-between\"><g class=\"shapelayer\"/><g class=\"imagelayer\"/></g><path class=\"xlines-below\"/><path class=\"ylines-below\"/><g class=\"overlines-below\"/><g class=\"xaxislayer-below\"/><g class=\"yaxislayer-below\"/><g class=\"overaxes-below\"/><g class=\"overplot\"><g class=\"xy\" transform=\"translate(52,24)\" clip-path=\"url(#clip5930eaxyplot)\"><g class=\"scatterlayer mlayer\"><g class=\"trace scatter trace4b1906\" style=\"stroke-miterlimit: 2; opacity: 1;\"><g class=\"fills\"/><g class=\"errorbars\"/><g class=\"lines\"><path class=\"js-line\" d=\"M426.66,231.6L445.54,198.91L451.83,218.9L458.12,193.93L464.41,213.71L470.7,191.07L489.58,197.04L495.87,186.62L502.17,209.48L508.46,208.96L514.75,192.1\" style=\"vector-effect: none; fill: none; stroke: rgb(45, 146, 255); stroke-opacity: 1; stroke-width: 2px; opacity: 1;\"/></g><g class=\"points\"/><g class=\"text\"/></g><g class=\"trace scatter traceb07794\" style=\"stroke-miterlimit: 2; opacity: 1;\"><g class=\"fills\"/><g class=\"errorbars\"/><g class=\"lines\"/><g class=\"points\"><path class=\"point\" transform=\"translate(426.66,231.6)\" d=\"M0,1.13l1.13,1.13l1.13,-1.13l-1.13,-1.13l1.13,-1.13l-1.13,-1.13l-1.13,1.13l-1.13,-1.13l-1.13,1.13l1.13,1.13l-1.13,1.13l1.13,1.13Z\" style=\"opacity: 1; stroke-width: 0px; fill: rgb(0, 0, 255); fill-opacity: 1;\"/><path class=\"point\" transform=\"translate(445.54,198.91)\" d=\"M0,1.13l1.13,1.13l1.13,-1.13l-1.13,-1.13l1.13,-1.13l-1.13,-1.13l-1.13,1.13l-1.13,-1.13l-1.13,1.13l1.13,1.13l-1.13,1.13l1.13,1.13Z\" style=\"opacity: 1; stroke-width: 0px; fill: rgb(0, 0, 255); fill-opacity: 1;\"/><path class=\"point\" transform=\"translate(451.83,218.9)\" d=\"M0,1.13l1.13,1.13l1.13,-1.13l-1.13,-1.13l1.13,-1.13l-1.13,-1.13l-1.13,1.13l-1.13,-1.13l-1.13,1.13l1.13,1.13l-1.13,1.13l1.13,1.13Z\" style=\"opacity: 1; stroke-width: 0px; fill: rgb(0, 0, 255); fill-opacity: 1;\"/><path class=\"point\" transform=\"translate(458.12,193.93)\" d=\"M0,1.13l1.13,1.13l1.13,-1.13l-1.13,-1.13l1.13,-1.13l-1.13,-1.13l-1.13,1.13l-1.13,-1.13l-1.13,1.13l1.13,1.13l-1.13,1.13l1.13,1.13Z\" style=\"opacity: 1; stroke-width: 0px; fill: rgb(0, 0, 255); fill-opacity: 1;\"/><path class=\"point\" transform=\"translate(464.41,213.71)\" d=\"M0,1.13l1.13,1.13l1.13,-1.13l-1.13,-1.13l1.13,-1.13l-1.13,-1.13l-1.13,1.13l-1.13,-1.13l-1.13,1.13l1.13,1.13l-1.13,1.13l1.13,1.13Z\" style=\"opacity: 1; stroke-width: 0px; fill: rgb(0, 0, 255); fill-opacity: 1;\"/><path class=\"point\" transform=\"translate(470.7,191.07)\" d=\"M0,1.13l1.13,1.13l1.13,-1.13l-1.13,-1.13l1.13,-1.13l-1.13,-1.13l-1.13,1.13l-1.13,-1.13l-1.13,1.13l1.13,1.13l-1.13,1.13l1.13,1.13Z\" style=\"opacity: 1; stroke-width: 0px; fill: rgb(0, 0, 255); fill-opacity: 1;\"/><path class=\"point\" transform=\"translate(489.58,197.04)\" d=\"M0,1.13l1.13,1.13l1.13,-1.13l-1.13,-1.13l1.13,-1.13l-1.13,-1.13l-1.13,1.13l-1.13,-1.13l-1.13,1.13l1.13,1.13l-1.13,1.13l1.13,1.13Z\" style=\"opacity: 1; stroke-width: 0px; fill: rgb(0, 0, 255); fill-opacity: 1;\"/><path class=\"point\" transform=\"translate(495.87,186.62)\" d=\"M0,1.13l1.13,1.13l1.13,-1.13l-1.13,-1.13l1.13,-1.13l-1.13,-1.13l-1.13,1.13l-1.13,-1.13l-1.13,1.13l1.13,1.13l-1.13,1.13l1.13,1.13Z\" style=\"opacity: 1; stroke-width: 0px; fill: rgb(0, 0, 255); fill-opacity: 1;\"/><path class=\"point\" transform=\"translate(502.17,209.48)\" d=\"M0,1.13l1.13,1.13l1.13,-1.13l-1.13,-1.13l1.13,-1.13l-1.13,-1.13l-1.13,1.13l-1.13,-1.13l-1.13,1.13l1.13,1.13l-1.13,1.13l1.13,1.13Z\" style=\"opacity: 1; stroke-width: 0px; fill: rgb(0, 0, 255); fill-opacity: 1;\"/><path class=\"point\" transform=\"translate(508.46,208.96)\" d=\"M0,1.13l1.13,1.13l1.13,-1.13l-1.13,-1.13l1.13,-1.13l-1.13,-1.13l-1.13,1.13l-1.13,-1.13l-1.13,1.13l1.13,1.13l-1.13,1.13l1.13,1.13Z\" style=\"opacity: 1; stroke-width: 0px; fill: rgb(0, 0, 255); fill-opacity: 1;\"/><path class=\"point\" transform=\"translate(514.75,192.1)\" d=\"M0,1.13l1.13,1.13l1.13,-1.13l-1.13,-1.13l1.13,-1.13l-1.13,-1.13l-1.13,1.13l-1.13,-1.13l-1.13,1.13l1.13,1.13l-1.13,1.13l1.13,1.13Z\" style=\"opacity: 1; stroke-width: 0px; fill: rgb(0, 0, 255); fill-opacity: 1;\"/></g><g class=\"text\"/></g><g class=\"trace scatter trace6cafc9\" style=\"stroke-miterlimit: 2; opacity: 1;\"><g class=\"fills\"/><g class=\"errorbars\"/><g class=\"lines\"/><g class=\"points\"><path class=\"point\" transform=\"translate(30.25,115.94)\" d=\"M2,0A2,2 0 1,1 0,-2A2,2 0 0,1 2,0Z\" style=\"opacity: 1; stroke-width: 0px; fill: rgb(0, 0, 0); fill-opacity: 1;\"/><path class=\"point\" transform=\"translate(49.13,121.51)\" d=\"M2,0A2,2 0 1,1 0,-2A2,2 0 0,1 2,0Z\" style=\"opacity: 1; stroke-width: 0px; fill: rgb(0, 0, 0); fill-opacity: 1;\"/><path class=\"point\" transform=\"translate(55.42,112.52)\" d=\"M2,0A2,2 0 1,1 0,-2A2,2 0 0,1 2,0Z\" style=\"opacity: 1; stroke-width: 0px; fill: rgb(0, 0, 0); fill-opacity: 1;\"/><path class=\"point\" transform=\"translate(61.71,95.24)\" d=\"M2,0A2,2 0 1,1 0,-2A2,2 0 0,1 2,0Z\" style=\"opacity: 1; stroke-width: 0px; fill: rgb(0, 0, 0); fill-opacity: 1;\"/><path class=\"point\" transform=\"translate(68,87.92)\" d=\"M2,0A2,2 0 1,1 0,-2A2,2 0 0,1 2,0Z\" style=\"opacity: 1; stroke-width: 0px; fill: rgb(0, 0, 0); fill-opacity: 1;\"/><path class=\"point\" transform=\"translate(74.3,81.66)\" d=\"M2,0A2,2 0 1,1 0,-2A2,2 0 0,1 2,0Z\" style=\"opacity: 1; stroke-width: 0px; fill: rgb(0, 0, 0); fill-opacity: 1;\"/><path class=\"point\" transform=\"translate(93.17,68.71)\" d=\"M2,0A2,2 0 1,1 0,-2A2,2 0 0,1 2,0Z\" style=\"opacity: 1; stroke-width: 0px; fill: rgb(0, 0, 0); fill-opacity: 1;\"/><path class=\"point\" transform=\"translate(99.46,71.04)\" d=\"M2,0A2,2 0 1,1 0,-2A2,2 0 0,1 2,0Z\" style=\"opacity: 1; stroke-width: 0px; fill: rgb(0, 0, 0); fill-opacity: 1;\"/><path class=\"point\" transform=\"translate(105.76,71.37)\" d=\"M2,0A2,2 0 1,1 0,-2A2,2 0 0,1 2,0Z\" style=\"opacity: 1; stroke-width: 0px; fill: rgb(0, 0, 0); fill-opacity: 1;\"/><path class=\"point\" transform=\"translate(112.05,63.34)\" d=\"M2,0A2,2 0 1,1 0,-2A2,2 0 0,1 2,0Z\" style=\"opacity: 1; stroke-width: 0px; fill: rgb(0, 0, 0); fill-opacity: 1;\"/><path class=\"point\" transform=\"translate(118.34,67.39)\" d=\"M2,0A2,2 0 1,1 0,-2A2,2 0 0,1 2,0Z\" style=\"opacity: 1; stroke-width: 0px; fill: rgb(0, 0, 0); fill-opacity: 1;\"/><path class=\"point\" transform=\"translate(137.22,60.74)\" d=\"M2,0A2,2 0 1,1 0,-2A2,2 0 0,1 2,0Z\" style=\"opacity: 1; stroke-width: 0px; fill: rgb(0, 0, 0); fill-opacity: 1;\"/><path class=\"point\" transform=\"translate(143.51,56.53)\" d=\"M2,0A2,2 0 1,1 0,-2A2,2 0 0,1 2,0Z\" style=\"opacity: 1; stroke-width: 0px; fill: rgb(0, 0, 0); fill-opacity: 1;\"/><path class=\"point\" transform=\"translate(149.8,68.46)\" d=\"M2,0A2,2 0 1,1 0,-2A2,2 0 0,1 2,0Z\" style=\"opacity: 1; stroke-width: 0px; fill: rgb(0, 0, 0); fill-opacity: 1;\"/><path class=\"point\" transform=\"translate(156.09,46.06)\" d=\"M2,0A2,2 0 1,1 0,-2A2,2 0 0,1 2,0Z\" style=\"opacity: 1; stroke-width: 0px; fill: rgb(0, 0, 0); fill-opacity: 1;\"/><path class=\"point\" transform=\"translate(162.39,33.08)\" d=\"M2,0A2,2 0 1,1 0,-2A2,2 0 0,1 2,0Z\" style=\"opacity: 1; stroke-width: 0px; fill: rgb(0, 0, 0); fill-opacity: 1;\"/><path class=\"point\" transform=\"translate(181.26,26.07)\" d=\"M2,0A2,2 0 1,1 0,-2A2,2 0 0,1 2,0Z\" style=\"opacity: 1; stroke-width: 0px; fill: rgb(0, 0, 0); fill-opacity: 1;\"/><path class=\"point\" transform=\"translate(187.56,22.32)\" d=\"M2,0A2,2 0 1,1 0,-2A2,2 0 0,1 2,0Z\" style=\"opacity: 1; stroke-width: 0px; fill: rgb(0, 0, 0); fill-opacity: 1;\"/><path class=\"point\" transform=\"translate(193.85,19.22)\" d=\"M2,0A2,2 0 1,1 0,-2A2,2 0 0,1 2,0Z\" style=\"opacity: 1; stroke-width: 0px; fill: rgb(0, 0, 0); fill-opacity: 1;\"/><path class=\"point\" transform=\"translate(200.14,32.72)\" d=\"M2,0A2,2 0 1,1 0,-2A2,2 0 0,1 2,0Z\" style=\"opacity: 1; stroke-width: 0px; fill: rgb(0, 0, 0); fill-opacity: 1;\"/><path class=\"point\" transform=\"translate(206.43,32.91)\" d=\"M2,0A2,2 0 1,1 0,-2A2,2 0 0,1 2,0Z\" style=\"opacity: 1; stroke-width: 0px; fill: rgb(0, 0, 0); fill-opacity: 1;\"/><path class=\"point\" transform=\"translate(225.31,16.15)\" d=\"M2,0A2,2 0 1,1 0,-2A2,2 0 0,1 2,0Z\" style=\"opacity: 1; stroke-width: 0px; fill: rgb(0, 0, 0); fill-opacity: 1;\"/><path class=\"point\" transform=\"translate(231.6,24.92)\" d=\"M2,0A2,2 0 1,1 0,-2A2,2 0 0,1 2,0Z\" style=\"opacity: 1; stroke-width: 0px; fill: rgb(0, 0, 0); fill-opacity: 1;\"/><path class=\"point\" transform=\"translate(237.89,35.43)\" d=\"M2,0A2,2 0 1,1 0,-2A2,2 0 0,1 2,0Z\" style=\"opacity: 1; stroke-width: 0px; fill: rgb(0, 0, 0); fill-opacity: 1;\"/><path class=\"point\" transform=\"translate(244.19,36.6)\" d=\"M2,0A2,2 0 1,1 0,-2A2,2 0 0,1 2,0Z\" style=\"opacity: 1; stroke-width: 0px; fill: rgb(0, 0, 0); fill-opacity: 1;\"/><path class=\"point\" transform=\"translate(250.48,39.99)\" d=\"M2,0A2,2 0 1,1 0,-2A2,2 0 0,1 2,0Z\" style=\"opacity: 1; stroke-width: 0px; fill: rgb(0, 0, 0); fill-opacity: 1;\"/><path class=\"point\" transform=\"translate(269.35,26)\" d=\"M2,0A2,2 0 1,1 0,-2A2,2 0 0,1 2,0Z\" style=\"opacity: 1; stroke-width: 0px; fill: rgb(0, 0, 0); fill-opacity: 1;\"/><path class=\"point\" transform=\"translate(275.65,23.35)\" d=\"M2,0A2,2 0 1,1 0,-2A2,2 0 0,1 2,0Z\" style=\"opacity: 1; stroke-width: 0px; fill: rgb(0, 0, 0); fill-opacity: 1;\"/><path class=\"point\" transform=\"translate(281.94,33.01)\" d=\"M2,0A2,2 0 1,1 0,-2A2,2 0 0,1 2,0Z\" style=\"opacity: 1; stroke-width: 0px; fill: rgb(0, 0, 0); fill-opacity: 1;\"/><path class=\"point\" transform=\"translate(288.23,36.79)\" d=\"M2,0A2,2 0 1,1 0,-2A2,2 0 0,1 2,0Z\" style=\"opacity: 1; stroke-width: 0px; fill: rgb(0, 0, 0); fill-opacity: 1;\"/><path class=\"point\" transform=\"translate(294.52,47.32)\" d=\"M2,0A2,2 0 1,1 0,-2A2,2 0 0,1 2,0Z\" style=\"opacity: 1; stroke-width: 0px; fill: rgb(0, 0, 0); fill-opacity: 1;\"/><path class=\"point\" transform=\"translate(313.4,64.9)\" d=\"M2,0A2,2 0 1,1 0,-2A2,2 0 0,1 2,0Z\" style=\"opacity: 1; stroke-width: 0px; fill: rgb(0, 0, 0); fill-opacity: 1;\"/><path class=\"point\" transform=\"translate(319.69,47.54)\" d=\"M2,0A2,2 0 1,1 0,-2A2,2 0 0,1 2,0Z\" style=\"opacity: 1; stroke-width: 0px; fill: rgb(0, 0, 0); fill-opacity: 1;\"/><path class=\"point\" transform=\"translate(325.98,46.71)\" d=\"M2,0A2,2 0 1,1 0,-2A2,2 0 0,1 2,0Z\" style=\"opacity: 1; stroke-width: 0px; fill: rgb(0, 0, 0); fill-opacity: 1;\"/><path class=\"point\" transform=\"translate(332.28,135.55)\" d=\"M2,0A2,2 0 1,1 0,-2A2,2 0 0,1 2,0Z\" style=\"opacity: 1; stroke-width: 0px; fill: rgb(0, 0, 0); fill-opacity: 1;\"/><path class=\"point\" transform=\"translate(338.57,224.4)\" d=\"M2,0A2,2 0 1,1 0,-2A2,2 0 0,1 2,0Z\" style=\"opacity: 1; stroke-width: 0px; fill: rgb(0, 0, 0); fill-opacity: 1;\"/><path class=\"point\" transform=\"translate(357.44,215.89)\" d=\"M2,0A2,2 0 1,1 0,-2A2,2 0 0,1 2,0Z\" style=\"opacity: 1; stroke-width: 0px; fill: rgb(0, 0, 0); fill-opacity: 1;\"/><path class=\"point\" transform=\"translate(363.74,207.39)\" d=\"M2,0A2,2 0 1,1 0,-2A2,2 0 0,1 2,0Z\" style=\"opacity: 1; stroke-width: 0px; fill: rgb(0, 0, 0); fill-opacity: 1;\"/><path class=\"point\" transform=\"translate(370.03,198.89)\" d=\"M2,0A2,2 0 1,1 0,-2A2,2 0 0,1 2,0Z\" style=\"opacity: 1; stroke-width: 0px; fill: rgb(0, 0, 0); fill-opacity: 1;\"/><path class=\"point\" transform=\"translate(376.32,190.38)\" d=\"M2,0A2,2 0 1,1 0,-2A2,2 0 0,1 2,0Z\" style=\"opacity: 1; stroke-width: 0px; fill: rgb(0, 0, 0); fill-opacity: 1;\"/><path class=\"point\" transform=\"translate(382.61,181.88)\" d=\"M2,0A2,2 0 1,1 0,-2A2,2 0 0,1 2,0Z\" style=\"opacity: 1; stroke-width: 0px; fill: rgb(0, 0, 0); fill-opacity: 1;\"/><path class=\"point\" transform=\"translate(401.49,173.38)\" d=\"M2,0A2,2 0 1,1 0,-2A2,2 0 0,1 2,0Z\" style=\"opacity: 1; stroke-width: 0px; fill: rgb(0, 0, 0); fill-opacity: 1;\"/><path class=\"point\" transform=\"translate(407.78,196.01)\" d=\"M2,0A2,2 0 1,1 0,-2A2,2 0 0,1 2,0Z\" style=\"opacity: 1; stroke-width: 0px; fill: rgb(0, 0, 0); fill-opacity: 1;\"/><path class=\"point\" transform=\"translate(414.07,225.01)\" d=\"M2,0A2,2 0 1,1 0,-2A2,2 0 0,1 2,0Z\" style=\"opacity: 1; stroke-width: 0px; fill: rgb(0, 0, 0); fill-opacity: 1;\"/><path class=\"point\" transform=\"translate(420.37,213.49)\" d=\"M2,0A2,2 0 1,1 0,-2A2,2 0 0,1 2,0Z\" style=\"opacity: 1; stroke-width: 0px; fill: rgb(0, 0, 0); fill-opacity: 1;\"/><path class=\"point\" transform=\"translate(426.66,210.39)\" d=\"M2,0A2,2 0 1,1 0,-2A2,2 0 0,1 2,0Z\" style=\"opacity: 1; stroke-width: 0px; fill: rgb(0, 0, 0); fill-opacity: 1;\"/><path class=\"point\" transform=\"translate(445.54,230.37)\" d=\"M2,0A2,2 0 1,1 0,-2A2,2 0 0,1 2,0Z\" style=\"opacity: 1; stroke-width: 0px; fill: rgb(0, 0, 0); fill-opacity: 1;\"/><path class=\"point\" transform=\"translate(451.83,246.85)\" d=\"M2,0A2,2 0 1,1 0,-2A2,2 0 0,1 2,0Z\" style=\"opacity: 1; stroke-width: 0px; fill: rgb(0, 0, 0); fill-opacity: 1;\"/><path class=\"point\" transform=\"translate(458.12,223.85)\" d=\"M2,0A2,2 0 1,1 0,-2A2,2 0 0,1 2,0Z\" style=\"opacity: 1; stroke-width: 0px; fill: rgb(0, 0, 0); fill-opacity: 1;\"/><path class=\"point\" transform=\"translate(464.41,203.37)\" d=\"M2,0A2,2 0 1,1 0,-2A2,2 0 0,1 2,0Z\" style=\"opacity: 1; stroke-width: 0px; fill: rgb(0, 0, 0); fill-opacity: 1;\"/><path class=\"point\" transform=\"translate(470.7,193.62)\" d=\"M2,0A2,2 0 1,1 0,-2A2,2 0 0,1 2,0Z\" style=\"opacity: 1; stroke-width: 0px; fill: rgb(0, 0, 0); fill-opacity: 1;\"/></g><g class=\"text\"/></g></g></g></g><path class=\"xlines-above crisp\" d=\"M50.5,287.75H598.5M50.5,23.25H598.5\" style=\"fill: none; stroke-width: 1.5px; stroke: rgb(235, 240, 248); stroke-opacity: 1;\"/><path class=\"ylines-above crisp\" d=\"M51.25,24V287M597.75,24V287\" style=\"fill: none; stroke-width: 1.5px; stroke: rgb(235, 240, 248); stroke-opacity: 1;\"/><g class=\"overlines-above\"/><g class=\"xaxislayer-above\"><g class=\"xtick\"><text text-anchor=\"middle\" x=\"0\" y=\"300.5\" transform=\"translate(138.88,0)\" style=\"font-family: 'Open Sans', verdana, arial, sans-serif; font-size: 10px; fill: rgb(42, 63, 95); fill-opacity: 1; white-space: pre; opacity: 1;\"><tspan class=\"line\" dy=\"0em\" x=\"0\" y=\"300.5\">Feb 23</tspan><tspan class=\"line\" dy=\"1.3em\" x=\"0\" y=\"300.5\">2025</tspan></text></g><g class=\"xtick\"><text text-anchor=\"middle\" x=\"0\" y=\"300.5\" style=\"font-family: 'Open Sans', verdana, arial, sans-serif; font-size: 10px; fill: rgb(42, 63, 95); fill-opacity: 1; white-space: pre; opacity: 1;\" transform=\"translate(226.97,0)\">Mar 9</text></g><g class=\"xtick\"><text text-anchor=\"middle\" x=\"0\" y=\"300.5\" style=\"font-family: 'Open Sans', verdana, arial, sans-serif; font-size: 10px; fill: rgb(42, 63, 95); fill-opacity: 1; white-space: pre; opacity: 1;\" transform=\"translate(315.06,0)\">Mar 23</text></g><g class=\"xtick\"><text text-anchor=\"middle\" x=\"0\" y=\"300.5\" style=\"font-family: 'Open Sans', verdana, arial, sans-serif; font-size: 10px; fill: rgb(42, 63, 95); fill-opacity: 1; white-space: pre; opacity: 1;\" transform=\"translate(403.15,0)\">Apr 6</text></g><g class=\"xtick\"><text text-anchor=\"middle\" x=\"0\" y=\"300.5\" style=\"font-family: 'Open Sans', verdana, arial, sans-serif; font-size: 10px; fill: rgb(42, 63, 95); fill-opacity: 1; white-space: pre; opacity: 1;\" transform=\"translate(491.24,0)\">Apr 20</text></g><g class=\"xtick\"><text text-anchor=\"middle\" x=\"0\" y=\"300.5\" style=\"font-family: 'Open Sans', verdana, arial, sans-serif; font-size: 10px; fill: rgb(42, 63, 95); fill-opacity: 1; white-space: pre; opacity: 1;\" transform=\"translate(579.33,0)\">May 4</text></g></g><g class=\"yaxislayer-above\"><g class=\"ytick\"><text text-anchor=\"end\" x=\"48.5\" y=\"3.5\" transform=\"translate(0,266.09000000000003)\" style=\"font-family: 'Open Sans', verdana, arial, sans-serif; font-size: 10px; fill: rgb(42, 63, 95); fill-opacity: 1; white-space: pre; opacity: 1;\">1200</text></g><g class=\"ytick\"><text text-anchor=\"end\" x=\"48.5\" y=\"3.5\" style=\"font-family: 'Open Sans', verdana, arial, sans-serif; font-size: 10px; fill: rgb(42, 63, 95); fill-opacity: 1; white-space: pre; opacity: 1;\" transform=\"translate(0,183.18)\">1250</text></g><g class=\"ytick\"><text text-anchor=\"end\" x=\"48.5\" y=\"3.5\" style=\"font-family: 'Open Sans', verdana, arial, sans-serif; font-size: 10px; fill: rgb(42, 63, 95); fill-opacity: 1; white-space: pre; opacity: 1;\" transform=\"translate(0,100.27)\">1300</text></g></g><g class=\"overaxes-above\"/></g></g><g class=\"polarlayer\"/><g class=\"smithlayer\"/><g class=\"ternarylayer\"/><g class=\"geolayer\"/><g class=\"funnelarealayer\"/><g class=\"pielayer\"/><g class=\"iciclelayer\"/><g class=\"treemaplayer\"/><g class=\"sunburstlayer\"/><g class=\"glimages\"/><defs id=\"topdefs-5930ea\"><g class=\"clips\"/><clipPath id=\"legend5930ea\"><rect width=\"92\" height=\"67\" x=\"0\" y=\"0\"/></clipPath><clipPath id=\"rangesliderx-5930ea\"><rect x=\"0\" y=\"0\" width=\"545\" height=\"61.5\"/></clipPath></defs><g class=\"layer-above\"><g class=\"imagelayer\"/><g class=\"shapelayer\"/></g><g class=\"infolayer\"><g class=\"legend\" pointer-events=\"all\" transform=\"translate(607.9,24)\"><rect class=\"bg\" shape-rendering=\"crispEdges\" width=\"92\" height=\"67\" x=\"0\" y=\"0\" style=\"stroke: rgb(68, 68, 68); stroke-opacity: 1; fill: rgb(255, 255, 255); fill-opacity: 1; stroke-width: 0px;\"/><g class=\"scrollbox\" transform=\"\" clip-path=\"url(#legend5930ea)\"><g class=\"groups\"><g class=\"traces\" transform=\"translate(0,14.5)\" style=\"opacity: 1;\"><text class=\"legendtext\" text-anchor=\"start\" x=\"40\" y=\"3.9\" style=\"font-family: 'Open Sans', verdana, arial, sans-serif; font-size: 10px; fill: rgb(42, 63, 95); fill-opacity: 1; white-space: pre;\">Predicted</text><g class=\"layers\" style=\"opacity: 1;\"><g class=\"legendfill\"/><g class=\"legendlines\"><path class=\"js-line\" d=\"M5,0h30\" style=\"fill: none; stroke: rgb(45, 146, 255); stroke-opacity: 1; stroke-width: 2px;\"/></g><g class=\"legendsymbols\"><g class=\"legendpoints\"/></g></g><rect class=\"legendtoggle\" x=\"0\" y=\"-9.5\" width=\"86.578125\" height=\"19\" style=\"fill: rgb(0, 0, 0); fill-opacity: 0;\"/></g><g class=\"traces\" transform=\"translate(0,33.5)\" style=\"opacity: 1;\"><text class=\"legendtext\" text-anchor=\"start\" x=\"40\" y=\"3.9\" style=\"font-family: 'Open Sans', verdana, arial, sans-serif; font-size: 10px; fill: rgb(42, 63, 95); fill-opacity: 1; white-space: pre;\">Predicted</text><g class=\"layers\" style=\"opacity: 1;\"><g class=\"legendfill\"/><g class=\"legendlines\"/><g class=\"legendsymbols\"><g class=\"legendpoints\"><path class=\"scatterpts\" transform=\"translate(20,0)\" d=\"M0,1.13l1.13,1.13l1.13,-1.13l-1.13,-1.13l1.13,-1.13l-1.13,-1.13l-1.13,1.13l-1.13,-1.13l-1.13,1.13l1.13,1.13l-1.13,1.13l1.13,1.13Z\" style=\"opacity: 1; stroke-width: 0px; fill: rgb(0, 0, 255); fill-opacity: 1;\"/></g></g></g><rect class=\"legendtoggle\" x=\"0\" y=\"-9.5\" width=\"86.578125\" height=\"19\" style=\"fill: rgb(0, 0, 0); fill-opacity: 0;\"/></g><g class=\"traces\" transform=\"translate(0,52.5)\" style=\"opacity: 1;\"><text class=\"legendtext\" text-anchor=\"start\" x=\"40\" y=\"3.9\" style=\"font-family: 'Open Sans', verdana, arial, sans-serif; font-size: 10px; fill: rgb(42, 63, 95); fill-opacity: 1; white-space: pre;\">Actual</text><g class=\"layers\" style=\"opacity: 1;\"><g class=\"legendfill\"/><g class=\"legendlines\"/><g class=\"legendsymbols\"><g class=\"legendpoints\"><path class=\"scatterpts\" transform=\"translate(20,0)\" d=\"M2,0A2,2 0 1,1 0,-2A2,2 0 0,1 2,0Z\" style=\"opacity: 1; stroke-width: 0px; fill: rgb(0, 0, 0); fill-opacity: 1;\"/></g></g></g><rect class=\"legendtoggle\" x=\"0\" y=\"-9.5\" width=\"86.578125\" height=\"19\" style=\"fill: rgb(0, 0, 0); fill-opacity: 0;\"/></g></g></g><rect class=\"scrollbar\" rx=\"20\" ry=\"3\" width=\"0\" height=\"0\" x=\"0\" y=\"0\" style=\"fill: rgb(128, 139, 164); fill-opacity: 1;\"/></g><g class=\"rangeselector\" transform=\"\" style=\"cursor: pointer; pointer-events: all;\"><g class=\"button\" transform=\"\"><rect class=\"selector-rect\" shape-rendering=\"crispEdges\" rx=\"3\" ry=\"3\" x=\"0\" y=\"0\" width=\"30\" height=\"19\" style=\"stroke: rgb(68, 68, 68); stroke-opacity: 1; fill: rgb(238, 238, 238); fill-opacity: 1; stroke-width: 0px;\"/><text class=\"selector-text\" text-anchor=\"middle\" x=\"15\" y=\"12.5\" style=\"font-family: 'Open Sans', verdana, arial, sans-serif; font-size: 10px; fill: rgb(42, 63, 95); fill-opacity: 1; white-space: pre;\">1w</text></g><g class=\"button\" transform=\"translate(35,0)\"><rect class=\"selector-rect\" shape-rendering=\"crispEdges\" rx=\"3\" ry=\"3\" x=\"0\" y=\"0\" width=\"30\" height=\"19\" style=\"stroke: rgb(68, 68, 68); stroke-opacity: 1; fill: rgb(238, 238, 238); fill-opacity: 1; stroke-width: 0px;\"/><text class=\"selector-text\" text-anchor=\"middle\" x=\"15\" y=\"12.5\" style=\"font-family: 'Open Sans', verdana, arial, sans-serif; font-size: 10px; fill: rgb(42, 63, 95); fill-opacity: 1; white-space: pre;\">1m</text></g><g class=\"button\" transform=\"translate(70,0)\"><rect class=\"selector-rect\" shape-rendering=\"crispEdges\" rx=\"3\" ry=\"3\" x=\"0\" y=\"0\" width=\"30\" height=\"19\" style=\"stroke: rgb(68, 68, 68); stroke-opacity: 1; fill: rgb(238, 238, 238); fill-opacity: 1; stroke-width: 0px;\"/><text class=\"selector-text\" text-anchor=\"middle\" x=\"15\" y=\"12.5\" style=\"font-family: 'Open Sans', verdana, arial, sans-serif; font-size: 10px; fill: rgb(42, 63, 95); fill-opacity: 1; white-space: pre;\">6m</text></g><g class=\"button\" transform=\"translate(105,0)\"><rect class=\"selector-rect\" shape-rendering=\"crispEdges\" rx=\"3\" ry=\"3\" x=\"0\" y=\"0\" width=\"30\" height=\"19\" style=\"stroke: rgb(68, 68, 68); stroke-opacity: 1; fill: rgb(238, 238, 238); fill-opacity: 1; stroke-width: 0px;\"/><text class=\"selector-text\" text-anchor=\"middle\" x=\"15\" y=\"12.5\" style=\"font-family: 'Open Sans', verdana, arial, sans-serif; font-size: 10px; fill: rgb(42, 63, 95); fill-opacity: 1; white-space: pre;\">1y</text></g><g class=\"button\" transform=\"translate(140,0)\"><rect class=\"selector-rect\" shape-rendering=\"crispEdges\" rx=\"3\" ry=\"3\" x=\"0\" y=\"0\" width=\"30\" height=\"19\" style=\"stroke: rgb(68, 68, 68); stroke-opacity: 1; fill: rgb(212, 212, 212); fill-opacity: 1; stroke-width: 0px;\"/><text class=\"selector-text\" text-anchor=\"middle\" x=\"15\" y=\"12.5\" style=\"font-family: 'Open Sans', verdana, arial, sans-serif; font-size: 10px; fill: rgb(42, 63, 95); fill-opacity: 1; white-space: pre;\">all</text></g></g><g class=\"g-gtitle\"/><g class=\"rangeslider-container\" pointer-events=\"all\" transform=\"translate(52,331)\"><rect class=\"rangeslider-bg\" x=\"0\" y=\"0\" shape-rendering=\"crispEdges\" width=\"545\" height=\"61.5\" transform=\"\" stroke-width=\"0\" style=\"stroke: rgb(68, 68, 68); stroke-opacity: 1; fill: rgb(255, 255, 255); fill-opacity: 1;\"/><g class=\"rangeslider-rangeplot xy\" clip-path=\"url(#rangesliderx-5930ea)\"><g class=\"layer-subplot\"><g class=\"shapelayer\"/><g class=\"imagelayer\"/></g><g class=\"minor-gridlayer\"><g class=\"x\"/><g class=\"y\"/></g><g class=\"gridlayer\"><g class=\"x\"/><g class=\"y\"/></g><g class=\"zerolinelayer\"/><g class=\"layer-between\"><g class=\"shapelayer\"/><g class=\"imagelayer\"/></g><path class=\"xlines-below\"/><path class=\"ylines-below\"/><g class=\"overlines-below\"/><g class=\"xaxislayer-below\"/><g class=\"yaxislayer-below\"/><g class=\"overaxes-below\"/><g class=\"overplot\"><g class=\"xy\"><g class=\"scatterlayer mlayer rangeplot\"><g class=\"trace scatter trace4b1906\" style=\"stroke-miterlimit: 2; opacity: 1;\"><g class=\"fills\"/><g class=\"errorbars\"/><g class=\"lines\"><path class=\"js-line\" d=\"M426.66,54.6L445.54,46.89L451.83,51.6L458.12,45.72L464.41,50.38L470.7,45.04L489.58,46.45L495.87,43.99L502.17,49.38L508.46,49.26L514.75,45.29\" style=\"vector-effect: none; fill: none; stroke: rgb(45, 146, 255); stroke-opacity: 1; stroke-width: 2px; opacity: 1;\"/></g><g class=\"points\"/><g class=\"text\"/></g><g class=\"trace scatter traceb07794\" style=\"stroke-miterlimit: 2; opacity: 1;\"><g class=\"fills\"/><g class=\"errorbars\"/><g class=\"lines\"/><g class=\"points\"><path class=\"point\" transform=\"translate(426.66,54.6)\" d=\"M0,1.13l1.13,1.13l1.13,-1.13l-1.13,-1.13l1.13,-1.13l-1.13,-1.13l-1.13,1.13l-1.13,-1.13l-1.13,1.13l1.13,1.13l-1.13,1.13l1.13,1.13Z\" style=\"opacity: 1; stroke-width: 0px; fill: rgb(0, 0, 255); fill-opacity: 1;\"/><path class=\"point\" transform=\"translate(445.54,46.89)\" d=\"M0,1.13l1.13,1.13l1.13,-1.13l-1.13,-1.13l1.13,-1.13l-1.13,-1.13l-1.13,1.13l-1.13,-1.13l-1.13,1.13l1.13,1.13l-1.13,1.13l1.13,1.13Z\" style=\"opacity: 1; stroke-width: 0px; fill: rgb(0, 0, 255); fill-opacity: 1;\"/><path class=\"point\" transform=\"translate(451.83,51.6)\" d=\"M0,1.13l1.13,1.13l1.13,-1.13l-1.13,-1.13l1.13,-1.13l-1.13,-1.13l-1.13,1.13l-1.13,-1.13l-1.13,1.13l1.13,1.13l-1.13,1.13l1.13,1.13Z\" style=\"opacity: 1; stroke-width: 0px; fill: rgb(0, 0, 255); fill-opacity: 1;\"/><path class=\"point\" transform=\"translate(458.12,45.72)\" d=\"M0,1.13l1.13,1.13l1.13,-1.13l-1.13,-1.13l1.13,-1.13l-1.13,-1.13l-1.13,1.13l-1.13,-1.13l-1.13,1.13l1.13,1.13l-1.13,1.13l1.13,1.13Z\" style=\"opacity: 1; stroke-width: 0px; fill: rgb(0, 0, 255); fill-opacity: 1;\"/><path class=\"point\" transform=\"translate(464.41,50.38)\" d=\"M0,1.13l1.13,1.13l1.13,-1.13l-1.13,-1.13l1.13,-1.13l-1.13,-1.13l-1.13,1.13l-1.13,-1.13l-1.13,1.13l1.13,1.13l-1.13,1.13l1.13,1.13Z\" style=\"opacity: 1; stroke-width: 0px; fill: rgb(0, 0, 255); fill-opacity: 1;\"/><path class=\"point\" transform=\"translate(470.7,45.04)\" d=\"M0,1.13l1.13,1.13l1.13,-1.13l-1.13,-1.13l1.13,-1.13l-1.13,-1.13l-1.13,1.13l-1.13,-1.13l-1.13,1.13l1.13,1.13l-1.13,1.13l1.13,1.13Z\" style=\"opacity: 1; stroke-width: 0px; fill: rgb(0, 0, 255); fill-opacity: 1;\"/><path class=\"point\" transform=\"translate(489.58,46.45)\" d=\"M0,1.13l1.13,1.13l1.13,-1.13l-1.13,-1.13l1.13,-1.13l-1.13,-1.13l-1.13,1.13l-1.13,-1.13l-1.13,1.13l1.13,1.13l-1.13,1.13l1.13,1.13Z\" style=\"opacity: 1; stroke-width: 0px; fill: rgb(0, 0, 255); fill-opacity: 1;\"/><path class=\"point\" transform=\"translate(495.87,43.99)\" d=\"M0,1.13l1.13,1.13l1.13,-1.13l-1.13,-1.13l1.13,-1.13l-1.13,-1.13l-1.13,1.13l-1.13,-1.13l-1.13,1.13l1.13,1.13l-1.13,1.13l1.13,1.13Z\" style=\"opacity: 1; stroke-width: 0px; fill: rgb(0, 0, 255); fill-opacity: 1;\"/><path class=\"point\" transform=\"translate(502.17,49.38)\" d=\"M0,1.13l1.13,1.13l1.13,-1.13l-1.13,-1.13l1.13,-1.13l-1.13,-1.13l-1.13,1.13l-1.13,-1.13l-1.13,1.13l1.13,1.13l-1.13,1.13l1.13,1.13Z\" style=\"opacity: 1; stroke-width: 0px; fill: rgb(0, 0, 255); fill-opacity: 1;\"/><path class=\"point\" transform=\"translate(508.46,49.26)\" d=\"M0,1.13l1.13,1.13l1.13,-1.13l-1.13,-1.13l1.13,-1.13l-1.13,-1.13l-1.13,1.13l-1.13,-1.13l-1.13,1.13l1.13,1.13l-1.13,1.13l1.13,1.13Z\" style=\"opacity: 1; stroke-width: 0px; fill: rgb(0, 0, 255); fill-opacity: 1;\"/><path class=\"point\" transform=\"translate(514.75,45.29)\" d=\"M0,1.13l1.13,1.13l1.13,-1.13l-1.13,-1.13l1.13,-1.13l-1.13,-1.13l-1.13,1.13l-1.13,-1.13l-1.13,1.13l1.13,1.13l-1.13,1.13l1.13,1.13Z\" style=\"opacity: 1; stroke-width: 0px; fill: rgb(0, 0, 255); fill-opacity: 1;\"/></g><g class=\"text\"/></g><g class=\"trace scatter trace6cafc9\" style=\"stroke-miterlimit: 2; opacity: 1;\"><g class=\"fills\"/><g class=\"errorbars\"/><g class=\"lines\"/><g class=\"points\"><path class=\"point\" transform=\"translate(30.25,27.33)\" d=\"M2,0A2,2 0 1,1 0,-2A2,2 0 0,1 2,0Z\" style=\"opacity: 1; stroke-width: 0px; fill: rgb(0, 0, 0); fill-opacity: 1;\"/><path class=\"point\" transform=\"translate(49.13,28.64)\" d=\"M2,0A2,2 0 1,1 0,-2A2,2 0 0,1 2,0Z\" style=\"opacity: 1; stroke-width: 0px; fill: rgb(0, 0, 0); fill-opacity: 1;\"/><path class=\"point\" transform=\"translate(55.42,26.53)\" d=\"M2,0A2,2 0 1,1 0,-2A2,2 0 0,1 2,0Z\" style=\"opacity: 1; stroke-width: 0px; fill: rgb(0, 0, 0); fill-opacity: 1;\"/><path class=\"point\" transform=\"translate(61.71,22.45)\" d=\"M2,0A2,2 0 1,1 0,-2A2,2 0 0,1 2,0Z\" style=\"opacity: 1; stroke-width: 0px; fill: rgb(0, 0, 0); fill-opacity: 1;\"/><path class=\"point\" transform=\"translate(68,20.73)\" d=\"M2,0A2,2 0 1,1 0,-2A2,2 0 0,1 2,0Z\" style=\"opacity: 1; stroke-width: 0px; fill: rgb(0, 0, 0); fill-opacity: 1;\"/><path class=\"point\" transform=\"translate(74.3,19.25)\" d=\"M2,0A2,2 0 1,1 0,-2A2,2 0 0,1 2,0Z\" style=\"opacity: 1; stroke-width: 0px; fill: rgb(0, 0, 0); fill-opacity: 1;\"/><path class=\"point\" transform=\"translate(93.17,16.2)\" d=\"M2,0A2,2 0 1,1 0,-2A2,2 0 0,1 2,0Z\" style=\"opacity: 1; stroke-width: 0px; fill: rgb(0, 0, 0); fill-opacity: 1;\"/><path class=\"point\" transform=\"translate(99.46,16.75)\" d=\"M2,0A2,2 0 1,1 0,-2A2,2 0 0,1 2,0Z\" style=\"opacity: 1; stroke-width: 0px; fill: rgb(0, 0, 0); fill-opacity: 1;\"/><path class=\"point\" transform=\"translate(105.76,16.82)\" d=\"M2,0A2,2 0 1,1 0,-2A2,2 0 0,1 2,0Z\" style=\"opacity: 1; stroke-width: 0px; fill: rgb(0, 0, 0); fill-opacity: 1;\"/><path class=\"point\" transform=\"translate(112.05,14.93)\" d=\"M2,0A2,2 0 1,1 0,-2A2,2 0 0,1 2,0Z\" style=\"opacity: 1; stroke-width: 0px; fill: rgb(0, 0, 0); fill-opacity: 1;\"/><path class=\"point\" transform=\"translate(118.34,15.89)\" d=\"M2,0A2,2 0 1,1 0,-2A2,2 0 0,1 2,0Z\" style=\"opacity: 1; stroke-width: 0px; fill: rgb(0, 0, 0); fill-opacity: 1;\"/><path class=\"point\" transform=\"translate(137.22,14.32)\" d=\"M2,0A2,2 0 1,1 0,-2A2,2 0 0,1 2,0Z\" style=\"opacity: 1; stroke-width: 0px; fill: rgb(0, 0, 0); fill-opacity: 1;\"/><path class=\"point\" transform=\"translate(143.51,13.33)\" d=\"M2,0A2,2 0 1,1 0,-2A2,2 0 0,1 2,0Z\" style=\"opacity: 1; stroke-width: 0px; fill: rgb(0, 0, 0); fill-opacity: 1;\"/><path class=\"point\" transform=\"translate(149.8,16.14)\" d=\"M2,0A2,2 0 1,1 0,-2A2,2 0 0,1 2,0Z\" style=\"opacity: 1; stroke-width: 0px; fill: rgb(0, 0, 0); fill-opacity: 1;\"/><path class=\"point\" transform=\"translate(156.09,10.86)\" d=\"M2,0A2,2 0 1,1 0,-2A2,2 0 0,1 2,0Z\" style=\"opacity: 1; stroke-width: 0px; fill: rgb(0, 0, 0); fill-opacity: 1;\"/><path class=\"point\" transform=\"translate(162.39,7.8)\" d=\"M2,0A2,2 0 1,1 0,-2A2,2 0 0,1 2,0Z\" style=\"opacity: 1; stroke-width: 0px; fill: rgb(0, 0, 0); fill-opacity: 1;\"/><path class=\"point\" transform=\"translate(181.26,6.14)\" d=\"M2,0A2,2 0 1,1 0,-2A2,2 0 0,1 2,0Z\" style=\"opacity: 1; stroke-width: 0px; fill: rgb(0, 0, 0); fill-opacity: 1;\"/><path class=\"point\" transform=\"translate(187.56,5.26)\" d=\"M2,0A2,2 0 1,1 0,-2A2,2 0 0,1 2,0Z\" style=\"opacity: 1; stroke-width: 0px; fill: rgb(0, 0, 0); fill-opacity: 1;\"/><path class=\"point\" transform=\"translate(193.85,4.53)\" d=\"M2,0A2,2 0 1,1 0,-2A2,2 0 0,1 2,0Z\" style=\"opacity: 1; stroke-width: 0px; fill: rgb(0, 0, 0); fill-opacity: 1;\"/><path class=\"point\" transform=\"translate(200.14,7.71)\" d=\"M2,0A2,2 0 1,1 0,-2A2,2 0 0,1 2,0Z\" style=\"opacity: 1; stroke-width: 0px; fill: rgb(0, 0, 0); fill-opacity: 1;\"/><path class=\"point\" transform=\"translate(206.43,7.76)\" d=\"M2,0A2,2 0 1,1 0,-2A2,2 0 0,1 2,0Z\" style=\"opacity: 1; stroke-width: 0px; fill: rgb(0, 0, 0); fill-opacity: 1;\"/><path class=\"point\" transform=\"translate(225.31,3.81)\" d=\"M2,0A2,2 0 1,1 0,-2A2,2 0 0,1 2,0Z\" style=\"opacity: 1; stroke-width: 0px; fill: rgb(0, 0, 0); fill-opacity: 1;\"/><path class=\"point\" transform=\"translate(231.6,5.88)\" d=\"M2,0A2,2 0 1,1 0,-2A2,2 0 0,1 2,0Z\" style=\"opacity: 1; stroke-width: 0px; fill: rgb(0, 0, 0); fill-opacity: 1;\"/><path class=\"point\" transform=\"translate(237.89,8.35)\" d=\"M2,0A2,2 0 1,1 0,-2A2,2 0 0,1 2,0Z\" style=\"opacity: 1; stroke-width: 0px; fill: rgb(0, 0, 0); fill-opacity: 1;\"/><path class=\"point\" transform=\"translate(244.19,8.63)\" d=\"M2,0A2,2 0 1,1 0,-2A2,2 0 0,1 2,0Z\" style=\"opacity: 1; stroke-width: 0px; fill: rgb(0, 0, 0); fill-opacity: 1;\"/><path class=\"point\" transform=\"translate(250.48,9.43)\" d=\"M2,0A2,2 0 1,1 0,-2A2,2 0 0,1 2,0Z\" style=\"opacity: 1; stroke-width: 0px; fill: rgb(0, 0, 0); fill-opacity: 1;\"/><path class=\"point\" transform=\"translate(269.35,6.13)\" d=\"M2,0A2,2 0 1,1 0,-2A2,2 0 0,1 2,0Z\" style=\"opacity: 1; stroke-width: 0px; fill: rgb(0, 0, 0); fill-opacity: 1;\"/><path class=\"point\" transform=\"translate(275.65,5.5)\" d=\"M2,0A2,2 0 1,1 0,-2A2,2 0 0,1 2,0Z\" style=\"opacity: 1; stroke-width: 0px; fill: rgb(0, 0, 0); fill-opacity: 1;\"/><path class=\"point\" transform=\"translate(281.94,7.78)\" d=\"M2,0A2,2 0 1,1 0,-2A2,2 0 0,1 2,0Z\" style=\"opacity: 1; stroke-width: 0px; fill: rgb(0, 0, 0); fill-opacity: 1;\"/><path class=\"point\" transform=\"translate(288.23,8.67)\" d=\"M2,0A2,2 0 1,1 0,-2A2,2 0 0,1 2,0Z\" style=\"opacity: 1; stroke-width: 0px; fill: rgb(0, 0, 0); fill-opacity: 1;\"/><path class=\"point\" transform=\"translate(294.52,11.16)\" d=\"M2,0A2,2 0 1,1 0,-2A2,2 0 0,1 2,0Z\" style=\"opacity: 1; stroke-width: 0px; fill: rgb(0, 0, 0); fill-opacity: 1;\"/><path class=\"point\" transform=\"translate(313.4,15.3)\" d=\"M2,0A2,2 0 1,1 0,-2A2,2 0 0,1 2,0Z\" style=\"opacity: 1; stroke-width: 0px; fill: rgb(0, 0, 0); fill-opacity: 1;\"/><path class=\"point\" transform=\"translate(319.69,11.21)\" d=\"M2,0A2,2 0 1,1 0,-2A2,2 0 0,1 2,0Z\" style=\"opacity: 1; stroke-width: 0px; fill: rgb(0, 0, 0); fill-opacity: 1;\"/><path class=\"point\" transform=\"translate(325.98,11.01)\" d=\"M2,0A2,2 0 1,1 0,-2A2,2 0 0,1 2,0Z\" style=\"opacity: 1; stroke-width: 0px; fill: rgb(0, 0, 0); fill-opacity: 1;\"/><path class=\"point\" transform=\"translate(332.28,31.96)\" d=\"M2,0A2,2 0 1,1 0,-2A2,2 0 0,1 2,0Z\" style=\"opacity: 1; stroke-width: 0px; fill: rgb(0, 0, 0); fill-opacity: 1;\"/><path class=\"point\" transform=\"translate(338.57,52.9)\" d=\"M2,0A2,2 0 1,1 0,-2A2,2 0 0,1 2,0Z\" style=\"opacity: 1; stroke-width: 0px; fill: rgb(0, 0, 0); fill-opacity: 1;\"/><path class=\"point\" transform=\"translate(357.44,50.9)\" d=\"M2,0A2,2 0 1,1 0,-2A2,2 0 0,1 2,0Z\" style=\"opacity: 1; stroke-width: 0px; fill: rgb(0, 0, 0); fill-opacity: 1;\"/><path class=\"point\" transform=\"translate(363.74,48.89)\" d=\"M2,0A2,2 0 1,1 0,-2A2,2 0 0,1 2,0Z\" style=\"opacity: 1; stroke-width: 0px; fill: rgb(0, 0, 0); fill-opacity: 1;\"/><path class=\"point\" transform=\"translate(370.03,46.89)\" d=\"M2,0A2,2 0 1,1 0,-2A2,2 0 0,1 2,0Z\" style=\"opacity: 1; stroke-width: 0px; fill: rgb(0, 0, 0); fill-opacity: 1;\"/><path class=\"point\" transform=\"translate(376.32,44.88)\" d=\"M2,0A2,2 0 1,1 0,-2A2,2 0 0,1 2,0Z\" style=\"opacity: 1; stroke-width: 0px; fill: rgb(0, 0, 0); fill-opacity: 1;\"/><path class=\"point\" transform=\"translate(382.61,42.88)\" d=\"M2,0A2,2 0 1,1 0,-2A2,2 0 0,1 2,0Z\" style=\"opacity: 1; stroke-width: 0px; fill: rgb(0, 0, 0); fill-opacity: 1;\"/><path class=\"point\" transform=\"translate(401.49,40.87)\" d=\"M2,0A2,2 0 1,1 0,-2A2,2 0 0,1 2,0Z\" style=\"opacity: 1; stroke-width: 0px; fill: rgb(0, 0, 0); fill-opacity: 1;\"/><path class=\"point\" transform=\"translate(407.78,46.21)\" d=\"M2,0A2,2 0 1,1 0,-2A2,2 0 0,1 2,0Z\" style=\"opacity: 1; stroke-width: 0px; fill: rgb(0, 0, 0); fill-opacity: 1;\"/><path class=\"point\" transform=\"translate(414.07,53.04)\" d=\"M2,0A2,2 0 1,1 0,-2A2,2 0 0,1 2,0Z\" style=\"opacity: 1; stroke-width: 0px; fill: rgb(0, 0, 0); fill-opacity: 1;\"/><path class=\"point\" transform=\"translate(420.37,50.33)\" d=\"M2,0A2,2 0 1,1 0,-2A2,2 0 0,1 2,0Z\" style=\"opacity: 1; stroke-width: 0px; fill: rgb(0, 0, 0); fill-opacity: 1;\"/><path class=\"point\" transform=\"translate(426.66,49.6)\" d=\"M2,0A2,2 0 1,1 0,-2A2,2 0 0,1 2,0Z\" style=\"opacity: 1; stroke-width: 0px; fill: rgb(0, 0, 0); fill-opacity: 1;\"/><path class=\"point\" transform=\"translate(445.54,54.31)\" d=\"M2,0A2,2 0 1,1 0,-2A2,2 0 0,1 2,0Z\" style=\"opacity: 1; stroke-width: 0px; fill: rgb(0, 0, 0); fill-opacity: 1;\"/><path class=\"point\" transform=\"translate(451.83,58.19)\" d=\"M2,0A2,2 0 1,1 0,-2A2,2 0 0,1 2,0Z\" style=\"opacity: 1; stroke-width: 0px; fill: rgb(0, 0, 0); fill-opacity: 1;\"/><path class=\"point\" transform=\"translate(458.12,52.77)\" d=\"M2,0A2,2 0 1,1 0,-2A2,2 0 0,1 2,0Z\" style=\"opacity: 1; stroke-width: 0px; fill: rgb(0, 0, 0); fill-opacity: 1;\"/><path class=\"point\" transform=\"translate(464.41,47.94)\" d=\"M2,0A2,2 0 1,1 0,-2A2,2 0 0,1 2,0Z\" style=\"opacity: 1; stroke-width: 0px; fill: rgb(0, 0, 0); fill-opacity: 1;\"/><path class=\"point\" transform=\"translate(470.7,45.64)\" d=\"M2,0A2,2 0 1,1 0,-2A2,2 0 0,1 2,0Z\" style=\"opacity: 1; stroke-width: 0px; fill: rgb(0, 0, 0); fill-opacity: 1;\"/></g><g class=\"text\"/></g></g></g></g><path class=\"xlines-above crisp\" style=\"fill: none;\"/><path class=\"ylines-above crisp\" style=\"fill: none;\"/><g class=\"overlines-above\"/><g class=\"xaxislayer-above\"/><g class=\"yaxislayer-above\"/><g class=\"overaxes-above\"/></g><rect class=\"rangeslider-mask-min\" x=\"0\" y=\"0\" shape-rendering=\"crispEdges\" height=\"61.5\" width=\"0\" style=\"fill: rgb(0, 0, 0); fill-opacity: 0.4;\"/><rect class=\"rangeslider-mask-max\" y=\"0\" shape-rendering=\"crispEdges\" height=\"61.5\" x=\"545\" width=\"0\" style=\"fill: rgb(0, 0, 0); fill-opacity: 0.4;\"/><g class=\"rangeslider-grabber-min\" transform=\"translate(-2.5,0.5)\"><rect class=\"rangeslider-handle-min\" x=\"0\" width=\"4\" rx=\"1\" fill=\"#fff\" stroke=\"#444\" stroke-width=\"1\" shape-rendering=\"crispEdges\" y=\"15\" height=\"31\"/><rect class=\"rangeslider-grabarea-min\" width=\"10\" x=\"0\" y=\"0\" fill=\"transparent\" height=\"61.5\"/></g><g class=\"rangeslider-grabber-max\" transform=\"translate(543.5,0.5)\"><rect class=\"rangeslider-handle-max\" x=\"0\" width=\"4\" rx=\"1\" fill=\"#fff\" stroke=\"#444\" stroke-width=\"1\" shape-rendering=\"crispEdges\" y=\"15\" height=\"31\"/><rect class=\"rangeslider-grabarea-max\" width=\"10\" x=\"0\" y=\"0\" fill=\"transparent\" height=\"61.5\"/></g></g><g class=\"g-ytitle\" transform=\"translate(7.3876953125,0)\"><text class=\"ytitle\" transform=\"rotate(-90,4.612499999999997,155.5)\" x=\"4.612499999999997\" y=\"155.5\" text-anchor=\"middle\" style=\"opacity: 1; font-family: 'Open Sans', verdana, arial, sans-serif; font-size: 12px; fill: rgb(42, 63, 95); fill-opacity: 1; white-space: pre;\">y</text></g><g class=\"g-xtitle\"><text class=\"xtitle\" x=\"324.5\" y=\"420.5\" text-anchor=\"middle\" style=\"opacity: 1; font-family: 'Open Sans', verdana, arial, sans-serif; font-size: 12px; fill: rgb(42, 63, 95); fill-opacity: 1; white-space: pre;\">ds</text></g></g></svg>"
      ]
     },
     "metadata": {},
     "output_type": "display_data"
    }
   ],
   "source": [
    "future = m.make_future_dataframe(df, periods=5, n_historic_predictions=False)\n",
    "forecast = m.predict(future, auto_extend=False, raw=False)\n",
    "\n",
    "print(forecast)\n",
    "modify(forecast)\n",
    "# Visualize the forecast\n",
    "m.highlight_nth_step_ahead_of_each_forecast(step_number=1)\n",
    "m.plot(forecast)"
   ]
  },
  {
   "cell_type": "code",
   "execution_count": 28,
   "id": "c2caf241",
   "metadata": {},
   "outputs": [
    {
     "data": {
      "text/html": [
       "<div>\n",
       "<style scoped>\n",
       "    .dataframe tbody tr th:only-of-type {\n",
       "        vertical-align: middle;\n",
       "    }\n",
       "\n",
       "    .dataframe tbody tr th {\n",
       "        vertical-align: top;\n",
       "    }\n",
       "\n",
       "    .dataframe thead th {\n",
       "        text-align: right;\n",
       "    }\n",
       "</style>\n",
       "<table border=\"1\" class=\"dataframe\">\n",
       "  <thead>\n",
       "    <tr style=\"text-align: right;\">\n",
       "      <th></th>\n",
       "      <th>ds</th>\n",
       "      <th>y</th>\n",
       "      <th>yhat1</th>\n",
       "      <th>yhat2</th>\n",
       "      <th>yhat3</th>\n",
       "      <th>yhat4</th>\n",
       "      <th>yhat5</th>\n",
       "      <th>ar1</th>\n",
       "      <th>ar2</th>\n",
       "      <th>ar3</th>\n",
       "      <th>ar4</th>\n",
       "      <th>ar5</th>\n",
       "      <th>trend</th>\n",
       "      <th>season_yearly</th>\n",
       "      <th>season_weekly</th>\n",
       "    </tr>\n",
       "  </thead>\n",
       "  <tbody>\n",
       "    <tr>\n",
       "      <th>45</th>\n",
       "      <td>2025-04-18</td>\n",
       "      <td>1219.12</td>\n",
       "      <td>1206.327759</td>\n",
       "      <td>NaN</td>\n",
       "      <td>NaN</td>\n",
       "      <td>NaN</td>\n",
       "      <td>NaN</td>\n",
       "      <td>-64.254242</td>\n",
       "      <td>NaN</td>\n",
       "      <td>NaN</td>\n",
       "      <td>NaN</td>\n",
       "      <td>NaN</td>\n",
       "      <td>1231.692139</td>\n",
       "      <td>-5.063950</td>\n",
       "      <td>43.953800</td>\n",
       "    </tr>\n",
       "    <tr>\n",
       "      <th>46</th>\n",
       "      <td>2025-04-21</td>\n",
       "      <td>1207.07</td>\n",
       "      <td>1224.760864</td>\n",
       "      <td>1226.038574</td>\n",
       "      <td>NaN</td>\n",
       "      <td>NaN</td>\n",
       "      <td>NaN</td>\n",
       "      <td>-111.805092</td>\n",
       "      <td>-110.527351</td>\n",
       "      <td>NaN</td>\n",
       "      <td>NaN</td>\n",
       "      <td>NaN</td>\n",
       "      <td>1232.230469</td>\n",
       "      <td>-7.122310</td>\n",
       "      <td>111.457825</td>\n",
       "    </tr>\n",
       "    <tr>\n",
       "      <th>47</th>\n",
       "      <td>2025-04-22</td>\n",
       "      <td>1197.13</td>\n",
       "      <td>1220.161865</td>\n",
       "      <td>1226.060547</td>\n",
       "      <td>1213.989014</td>\n",
       "      <td>NaN</td>\n",
       "      <td>NaN</td>\n",
       "      <td>-103.089920</td>\n",
       "      <td>-97.191147</td>\n",
       "      <td>-109.262711</td>\n",
       "      <td>NaN</td>\n",
       "      <td>NaN</td>\n",
       "      <td>1232.409912</td>\n",
       "      <td>-7.768871</td>\n",
       "      <td>98.610802</td>\n",
       "    </tr>\n",
       "    <tr>\n",
       "      <th>48</th>\n",
       "      <td>2025-04-23</td>\n",
       "      <td>1211.00</td>\n",
       "      <td>1197.998535</td>\n",
       "      <td>1207.829468</td>\n",
       "      <td>1226.996460</td>\n",
       "      <td>1229.043823</td>\n",
       "      <td>NaN</td>\n",
       "      <td>-49.001492</td>\n",
       "      <td>-39.170601</td>\n",
       "      <td>-20.003592</td>\n",
       "      <td>-17.956282</td>\n",
       "      <td>NaN</td>\n",
       "      <td>1232.589233</td>\n",
       "      <td>-8.392397</td>\n",
       "      <td>22.803209</td>\n",
       "    </tr>\n",
       "    <tr>\n",
       "      <th>49</th>\n",
       "      <td>2025-04-24</td>\n",
       "      <td>1223.35</td>\n",
       "      <td>1200.769409</td>\n",
       "      <td>1188.183838</td>\n",
       "      <td>1214.818726</td>\n",
       "      <td>1226.468750</td>\n",
       "      <td>1217.114868</td>\n",
       "      <td>-11.401608</td>\n",
       "      <td>-23.987230</td>\n",
       "      <td>2.647772</td>\n",
       "      <td>14.297664</td>\n",
       "      <td>4.943810</td>\n",
       "      <td>1232.768677</td>\n",
       "      <td>-8.984972</td>\n",
       "      <td>-11.612659</td>\n",
       "    </tr>\n",
       "    <tr>\n",
       "      <th>50</th>\n",
       "      <td>2025-04-25</td>\n",
       "      <td>1229.23</td>\n",
       "      <td>1221.611206</td>\n",
       "      <td>1197.420044</td>\n",
       "      <td>1199.390747</td>\n",
       "      <td>1216.808105</td>\n",
       "      <td>1230.772217</td>\n",
       "      <td>-45.717892</td>\n",
       "      <td>-69.909058</td>\n",
       "      <td>-67.938339</td>\n",
       "      <td>-50.521004</td>\n",
       "      <td>-36.556847</td>\n",
       "      <td>1232.948120</td>\n",
       "      <td>-9.545313</td>\n",
       "      <td>43.926254</td>\n",
       "    </tr>\n",
       "    <tr>\n",
       "      <th>51</th>\n",
       "      <td>2025-04-28</td>\n",
       "      <td>NaN</td>\n",
       "      <td>1227.169800</td>\n",
       "      <td>1210.141846</td>\n",
       "      <td>1208.368652</td>\n",
       "      <td>1192.642578</td>\n",
       "      <td>1210.033691</td>\n",
       "      <td>-106.887733</td>\n",
       "      <td>-123.915733</td>\n",
       "      <td>-125.688950</td>\n",
       "      <td>-141.414948</td>\n",
       "      <td>-124.023949</td>\n",
       "      <td>1233.486450</td>\n",
       "      <td>-10.997077</td>\n",
       "      <td>111.568192</td>\n",
       "    </tr>\n",
       "    <tr>\n",
       "      <th>52</th>\n",
       "      <td>2025-04-29</td>\n",
       "      <td>NaN</td>\n",
       "      <td>1233.451660</td>\n",
       "      <td>1233.451660</td>\n",
       "      <td>1217.302246</td>\n",
       "      <td>1195.680054</td>\n",
       "      <td>1185.455078</td>\n",
       "      <td>NaN</td>\n",
       "      <td>-87.309532</td>\n",
       "      <td>-103.459076</td>\n",
       "      <td>-125.081169</td>\n",
       "      <td>-135.306122</td>\n",
       "      <td>1233.665771</td>\n",
       "      <td>-11.394095</td>\n",
       "      <td>98.489517</td>\n",
       "    </tr>\n",
       "    <tr>\n",
       "      <th>53</th>\n",
       "      <td>2025-04-30</td>\n",
       "      <td>NaN</td>\n",
       "      <td>1219.666992</td>\n",
       "      <td>NaN</td>\n",
       "      <td>1219.666992</td>\n",
       "      <td>1215.004761</td>\n",
       "      <td>1201.814331</td>\n",
       "      <td>NaN</td>\n",
       "      <td>NaN</td>\n",
       "      <td>-25.385431</td>\n",
       "      <td>-30.047710</td>\n",
       "      <td>-43.238163</td>\n",
       "      <td>1233.845459</td>\n",
       "      <td>-11.743961</td>\n",
       "      <td>22.951027</td>\n",
       "    </tr>\n",
       "    <tr>\n",
       "      <th>54</th>\n",
       "      <td>2025-05-01</td>\n",
       "      <td>NaN</td>\n",
       "      <td>1219.979248</td>\n",
       "      <td>NaN</td>\n",
       "      <td>NaN</td>\n",
       "      <td>1219.979248</td>\n",
       "      <td>1237.135254</td>\n",
       "      <td>NaN</td>\n",
       "      <td>NaN</td>\n",
       "      <td>NaN</td>\n",
       "      <td>9.534608</td>\n",
       "      <td>26.690582</td>\n",
       "      <td>1234.024780</td>\n",
       "      <td>-12.043543</td>\n",
       "      <td>-11.536594</td>\n",
       "    </tr>\n",
       "    <tr>\n",
       "      <th>55</th>\n",
       "      <td>2025-05-02</td>\n",
       "      <td>NaN</td>\n",
       "      <td>1230.146118</td>\n",
       "      <td>NaN</td>\n",
       "      <td>NaN</td>\n",
       "      <td>NaN</td>\n",
       "      <td>1230.146118</td>\n",
       "      <td>NaN</td>\n",
       "      <td>NaN</td>\n",
       "      <td>NaN</td>\n",
       "      <td>NaN</td>\n",
       "      <td>-35.313484</td>\n",
       "      <td>1234.204224</td>\n",
       "      <td>-12.291383</td>\n",
       "      <td>43.546753</td>\n",
       "    </tr>\n",
       "  </tbody>\n",
       "</table>\n",
       "</div>"
      ],
      "text/plain": [
       "           ds        y        yhat1        yhat2        yhat3        yhat4  \\\n",
       "45 2025-04-18  1219.12  1206.327759          NaN          NaN          NaN   \n",
       "46 2025-04-21  1207.07  1224.760864  1226.038574          NaN          NaN   \n",
       "47 2025-04-22  1197.13  1220.161865  1226.060547  1213.989014          NaN   \n",
       "48 2025-04-23  1211.00  1197.998535  1207.829468  1226.996460  1229.043823   \n",
       "49 2025-04-24  1223.35  1200.769409  1188.183838  1214.818726  1226.468750   \n",
       "50 2025-04-25  1229.23  1221.611206  1197.420044  1199.390747  1216.808105   \n",
       "51 2025-04-28      NaN  1227.169800  1210.141846  1208.368652  1192.642578   \n",
       "52 2025-04-29      NaN  1233.451660  1233.451660  1217.302246  1195.680054   \n",
       "53 2025-04-30      NaN  1219.666992          NaN  1219.666992  1215.004761   \n",
       "54 2025-05-01      NaN  1219.979248          NaN          NaN  1219.979248   \n",
       "55 2025-05-02      NaN  1230.146118          NaN          NaN          NaN   \n",
       "\n",
       "          yhat5         ar1         ar2         ar3         ar4         ar5  \\\n",
       "45          NaN  -64.254242         NaN         NaN         NaN         NaN   \n",
       "46          NaN -111.805092 -110.527351         NaN         NaN         NaN   \n",
       "47          NaN -103.089920  -97.191147 -109.262711         NaN         NaN   \n",
       "48          NaN  -49.001492  -39.170601  -20.003592  -17.956282         NaN   \n",
       "49  1217.114868  -11.401608  -23.987230    2.647772   14.297664    4.943810   \n",
       "50  1230.772217  -45.717892  -69.909058  -67.938339  -50.521004  -36.556847   \n",
       "51  1210.033691 -106.887733 -123.915733 -125.688950 -141.414948 -124.023949   \n",
       "52  1185.455078         NaN  -87.309532 -103.459076 -125.081169 -135.306122   \n",
       "53  1201.814331         NaN         NaN  -25.385431  -30.047710  -43.238163   \n",
       "54  1237.135254         NaN         NaN         NaN    9.534608   26.690582   \n",
       "55  1230.146118         NaN         NaN         NaN         NaN  -35.313484   \n",
       "\n",
       "          trend  season_yearly  season_weekly  \n",
       "45  1231.692139      -5.063950      43.953800  \n",
       "46  1232.230469      -7.122310     111.457825  \n",
       "47  1232.409912      -7.768871      98.610802  \n",
       "48  1232.589233      -8.392397      22.803209  \n",
       "49  1232.768677      -8.984972     -11.612659  \n",
       "50  1232.948120      -9.545313      43.926254  \n",
       "51  1233.486450     -10.997077     111.568192  \n",
       "52  1233.665771     -11.394095      98.489517  \n",
       "53  1233.845459     -11.743961      22.951027  \n",
       "54  1234.024780     -12.043543     -11.536594  \n",
       "55  1234.204224     -12.291383      43.546753  "
      ]
     },
     "execution_count": 28,
     "metadata": {},
     "output_type": "execute_result"
    }
   ],
   "source": [
    "forecast.tail(11)"
   ]
  },
  {
   "cell_type": "code",
   "execution_count": null,
   "id": "aebff579",
   "metadata": {},
   "outputs": [],
   "source": [
    "m.plot_components(forecast)"
   ]
  },
  {
   "cell_type": "code",
   "execution_count": null,
   "id": "f4078fc9",
   "metadata": {},
   "outputs": [],
   "source": [
    "forecast.tail(12)"
   ]
  },
  {
   "cell_type": "code",
   "execution_count": null,
   "id": "bcc77d30",
   "metadata": {},
   "outputs": [],
   "source": [
    "result = forecast[['ds', 'yhat1']].tail(5).rename(columns={\n",
    "          'ds': 'Date',\n",
    "          'yhat1': 'VN_Index_Close'\n",
    "      })\n",
    "result.to_csv(f'../result_{m.n_lags}.xlsx')"
   ]
  }
 ],
 "metadata": {
  "kernelspec": {
   "display_name": "base",
   "language": "python",
   "name": "python3"
  },
  "language_info": {
   "codemirror_mode": {
    "name": "ipython",
    "version": 3
   },
   "file_extension": ".py",
   "mimetype": "text/x-python",
   "name": "python",
   "nbconvert_exporter": "python",
   "pygments_lexer": "ipython3",
   "version": "3.11.8"
  }
 },
 "nbformat": 4,
 "nbformat_minor": 5
}
