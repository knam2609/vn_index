{
 "cells": [
  {
   "cell_type": "code",
   "execution_count": 1,
   "id": "88eeb36a",
   "metadata": {},
   "outputs": [],
   "source": [
    "import sys\n",
    "from pathlib import Path\n",
    "\n",
    "# Go two levels up to reach project root\n",
    "project_root = Path.cwd().parents[1]  # from subfolder/ to notebook_folder/ to project_root/\n",
    "scripts_path = project_root / \"scripts\"\n",
    "\n",
    "if str(project_root) not in sys.path:\n",
    "    sys.path.insert(0, str(project_root))"
   ]
  },
  {
   "cell_type": "code",
   "execution_count": 2,
   "id": "d7c200c6",
   "metadata": {},
   "outputs": [],
   "source": [
    "import os\n",
    "import contextlib\n",
    "\n",
    "# Force matplotlib backend to avoid plotly attempts\n",
    "os.environ[\"NP_PLOT_BACKEND\"] = \"matplotlib\"\n",
    "\n",
    "# Suppress stderr where the print happens\n",
    "@contextlib.contextmanager\n",
    "def suppress_stdout_stderr():\n",
    "    with open(os.devnull, 'w') as fnull:\n",
    "        old_stdout = sys.stdout\n",
    "        old_stderr = sys.stderr\n",
    "        sys.stdout = fnull\n",
    "        sys.stderr = fnull\n",
    "        try:\n",
    "            yield\n",
    "        finally:\n",
    "            sys.stdout = old_stdout\n",
    "            sys.stderr = old_stderr\n",
    "\n",
    "# Wrap import\n",
    "with suppress_stdout_stderr():\n",
    "    from neuralprophet import NeuralProphet, set_random_seed, set_log_level\n",
    "\n",
    "import pandas as pd\n",
    "set_random_seed(0)\n",
    "# Disable logging messages unless there is an error\n",
    "set_log_level(\"ERROR\")\n"
   ]
  },
  {
   "cell_type": "code",
   "execution_count": null,
   "id": "d2992d63",
   "metadata": {},
   "outputs": [],
   "source": [
    "def modify(df, forecast=5):\n",
    "    # figure out where 'yhat1' lives\n",
    "    col_idx = df.columns.get_loc('yhat1')\n",
    "\n",
    "    # loop 1…9\n",
    "    for i in range(1, forecast):\n",
    "        # compute which yhatN we need\n",
    "        which = forecast - i + 1          # 10→1, 9→2, …, 2→9\n",
    "        val   = df.iloc[-i][f'yhat{which}'] \n",
    "        # row number = -i (so i=1 → last row, i=9 → 9th-from-last)\n",
    "        df.iat[-i, col_idx] = val\n",
    "\n",
    "    # j = 0\n",
    "    # for i in range(forecast+1, forecast+6):\n",
    "    #     which = min(5, forecast - j +1)\n",
    "    #     print(which)\n",
    "    #     print(df.iloc[-i]['ds'])\n",
    "\n",
    "    #     val = df.iloc[-i][f'yhat{which}']\n",
    "    #     df.iat[-i, col_idx] = val\n",
    "    #     j += 1"
   ]
  },
  {
   "cell_type": "code",
   "execution_count": null,
   "id": "17166fdc",
   "metadata": {},
   "outputs": [],
   "source": [
    "# 1) Instantiate a NeuralProphet model that learns from the past 60 days (n_lags)\n",
    "#    to forecast the next 10 days (n_forecasts), with trend + all seasonalities on.\n",
    "m = NeuralProphet(\n",
    "    n_lags=5,                 # look back this many days as inputs\n",
    "    n_forecasts=2,            # predict this many days ahead\n",
    "    yearly_seasonality=True,   # model an annual cycle\n",
    "    weekly_seasonality=True,   # model day-of-week cycle\n",
    "    daily_seasonality=False,    # if intra-day data; set False for daily only\n",
    "    seasonality_mode='additive',\n",
    "    n_changepoints=10,\n",
    "    # you can also tweak trend flexibility:\n",
    "    trend_reg=0.5,                  \n",
    "    trend_reg_threshold=True,\n",
    "    normalize='standardize',\n",
    "    drop_missing=True,\n",
    "    epochs=10\n",
    ")\n",
    "m.set_plotting_backend(\"plotly-static\")\n",
    "# m.add_country_holidays('VN')"
   ]
  },
  {
   "cell_type": "code",
   "execution_count": null,
   "id": "2b552aee",
   "metadata": {},
   "outputs": [],
   "source": [
    "# 📂 Load dataset\n",
    "file_path_1 = \"../../ready_data/vn_index_data/cleaned_vn_index_data.csv\"\n",
    "df_1 = pd.read_csv(file_path_1)\n",
    "\n",
    "# df_1.drop(columns=['Index'], inplace=True)\n",
    "\n",
    "df = (\n",
    "    df_1[['Date', 'VN_Index_Close']].rename(columns={\n",
    "          'Date': 'ds',\n",
    "          'VN_Index_Close': 'y'\n",
    "      })\n",
    ")\n",
    "\n",
    "# convert the 'ds' column to datetime\n",
    "df['ds'] = pd.to_datetime(df['ds'])"
   ]
  },
  {
   "cell_type": "code",
   "execution_count": null,
   "id": "26cfd3e2",
   "metadata": {},
   "outputs": [],
   "source": [
    "df"
   ]
  },
  {
   "cell_type": "code",
   "execution_count": null,
   "id": "af5ce736",
   "metadata": {},
   "outputs": [],
   "source": [
    "# 2) compute how many rows you need for validation\n",
    "n_val = m.n_lags + m.n_forecasts  # must equal 60 + 10 = 70\n",
    "\n",
    "# 3) split your DataFrame by row‐count\n",
    "train_df = df.iloc[:-n_val]\n",
    "val_df   = df.iloc[-n_val:]\n",
    "\n",
    "# 4) fit using the fixed‐size validation set\n",
    "metrics = m.fit(\n",
    "    train_df,\n",
    "    freq=\"B\",\n",
    "    validation_df=val_df,\n",
    "    progress=\"plot\",\n",
    ")\n"
   ]
  },
  {
   "cell_type": "code",
   "execution_count": null,
   "id": "e861f865",
   "metadata": {},
   "outputs": [],
   "source": [
    "future = m.make_future_dataframe(df, periods=m.n_forecasts, n_historic_predictions=False)\n",
    "forecast = m.predict(future, auto_extend=False, raw=False)\n",
    "\n",
    "print(forecast)\n",
    "modify(forecast, m.n_forecasts)\n",
    "# Visualize the forecast\n",
    "m.highlight_nth_step_ahead_of_each_forecast(step_number=1)\n",
    "m.plot(forecast)"
   ]
  },
  {
   "cell_type": "code",
   "execution_count": null,
   "id": "c2caf241",
   "metadata": {},
   "outputs": [],
   "source": [
    "forecast.tail(11)"
   ]
  },
  {
   "cell_type": "code",
   "execution_count": null,
   "id": "aebff579",
   "metadata": {},
   "outputs": [],
   "source": [
    "m.plot_components(forecast)"
   ]
  },
  {
   "cell_type": "code",
   "execution_count": null,
   "id": "f4078fc9",
   "metadata": {},
   "outputs": [],
   "source": [
    "forecast.tail(12)"
   ]
  },
  {
   "cell_type": "code",
   "execution_count": null,
   "id": "bcc77d30",
   "metadata": {},
   "outputs": [],
   "source": [
    "result = forecast[['ds', 'yhat1']].tail(5).rename(columns={\n",
    "          'ds': 'Date',\n",
    "          'yhat1': 'VN_Index_Close'\n",
    "      })\n",
    "result"
   ]
  }
 ],
 "metadata": {
  "kernelspec": {
   "display_name": "base",
   "language": "python",
   "name": "python3"
  },
  "language_info": {
   "codemirror_mode": {
    "name": "ipython",
    "version": 3
   },
   "file_extension": ".py",
   "mimetype": "text/x-python",
   "name": "python",
   "nbconvert_exporter": "python",
   "pygments_lexer": "ipython3",
   "version": "3.11.8"
  }
 },
 "nbformat": 4,
 "nbformat_minor": 5
}
