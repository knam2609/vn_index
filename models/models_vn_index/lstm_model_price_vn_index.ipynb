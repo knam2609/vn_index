{
 "cells": [
  {
   "cell_type": "code",
   "execution_count": null,
   "metadata": {},
   "outputs": [],
   "source": [
    "import sys\n",
    "from pathlib import Path\n",
    "\n",
    "# Go two levels up to reach project root\n",
    "project_root = Path.cwd().parents[1]  # from subfolder/ to notebook_folder/ to project_root/\n",
    "scripts_path = project_root / \"scripts\"\n",
    "\n",
    "if str(project_root) not in sys.path:\n",
    "    sys.path.insert(0, str(project_root))"
   ]
  },
  {
   "cell_type": "code",
   "execution_count": null,
   "metadata": {},
   "outputs": [],
   "source": [
    "from scripts.general_scripts.features_engineering import quicky_data, lag_features_indicators\n",
    "from scripts.general_scripts.pipelines import price_model\n",
    "from scripts.general_scripts.predict import future_price_prediction\n",
    "from scripts.general_scripts.lstm import LSTMModelMultiStep, LSTMModelMultiOutput\n",
    "from scripts.general_scripts.helper import CustomizedLoss\n",
    "import pandas as pd \n",
    "from sklearn.preprocessing import MinMaxScaler, StandardScaler\n",
    "from statsmodels.tsa.holtwinters import ExponentialSmoothing"
   ]
  },
  {
   "cell_type": "code",
   "execution_count": null,
   "metadata": {},
   "outputs": [],
   "source": [
    "scaler = StandardScaler()\n",
    "model_type = LSTMModelMultiOutput\n",
    "criterion = CustomizedLoss()\n",
    "n_lags = 5\n",
    "n_forecasts = 2\n",
    "seasonal_periods = 261"
   ]
  },
  {
   "cell_type": "code",
   "execution_count": null,
   "metadata": {},
   "outputs": [],
   "source": [
    "# 📂 Load dataset\n",
    "file_path_1 = \"../../ready_data/vn_index_data/cleaned_vn_index_data.csv\"\n",
    "df = pd.read_csv(file_path_1)\n",
    "print(df.columns)\n",
    "df_1 = quicky_data(df.copy(), seasonal_periods, plot=True)"
   ]
  },
  {
   "cell_type": "code",
   "execution_count": null,
   "metadata": {},
   "outputs": [],
   "source": [
    "df_1.tail(20)"
   ]
  },
  {
   "cell_type": "code",
   "execution_count": null,
   "metadata": {},
   "outputs": [],
   "source": [
    "df"
   ]
  },
  {
   "cell_type": "code",
   "execution_count": null,
   "metadata": {},
   "outputs": [],
   "source": [
    "for n_forecast in range(1,3):\n",
    "    for i in range(5):\n",
    "        df_2 = quicky_data(df.copy().iloc[:-n_forecast*(i+1)], seasonal_periods)\n",
    "        \n",
    "        baseline = ExponentialSmoothing(\n",
    "        df_2['VN_Index_Close'],\n",
    "        trend='add',            # additive trend\n",
    "        seasonal='add',         # additive seasonality\n",
    "        seasonal_periods=seasonal_periods\n",
    "        ).fit()\n",
    "\n",
    "        # 2) Forecast the next day (one‐step ahead):\n",
    "        price_forecast = baseline.forecast(n_forecast)\n",
    "\n",
    "        # 3) If you want to extract the trend/seasonal forecasts separately:\n",
    "        fitted_components = baseline.fittedvalues  # this is price = level+trend+seasonal\n",
    "        level = baseline.level                     # the “smoothed level” ≈ trend\n",
    "        seasonal = baseline.season                 # the seasonal factors\n",
    "\n",
    "        print(price_forecast)\n",
    "                    \n",
    "        data = df_2[['residual', 'trend', 'seasonal', 'dow_sin', 'dow_cos', 'month_sin', 'month_cos']]\n",
    "        \n",
    "        # 🚀 Train the model and get the test set\n",
    "        model, X_test_tensor, scaler, y_pred = price_model(data, scaler, model_type, criterion, tuning=False, train_seq_len=n_lags, test_seq_len=n_forecast, seasonal_periods=seasonal_periods, epochs=50)\n",
    "        future_price_prediction(X_test_tensor, data, y_pred, scaler, model, num_days=n_forecast, seasonal_periods=seasonal_periods)"
   ]
  },
  {
   "cell_type": "code",
   "execution_count": null,
   "metadata": {},
   "outputs": [],
   "source": [
    "data = df_1[['residual', 'trend', 'seasonal', 'dow_sin', 'dow_cos', 'month_sin', 'month_cos']]\n",
    "# 🚀 Train the model and get the test set\n",
    "model, X_test_tensor, scaler, y_pred = price_model(data, scaler, model_type, criterion, tuning=False, train_seq_len=n_lags, test_seq_len=n_forecast, \n",
    "                                                   seasonal_periods=seasonal_periods, epochs=50)\n",
    "                                                   # params={'hidden_size': 64, 'num_layers': 2, 'dropout': 0.4304905019702554, 'learning_rate': 0.0022837602160213867, 'batch_size': 128})\n",
    "\n",
    "# 🔮 Generate future predictions\n",
    "future_price_prediction(X_test_tensor, data, y_pred, scaler, model, num_days=n_forecast, seasonal_periods=seasonal_periods)"
   ]
  }
 ],
 "metadata": {
  "kernelspec": {
   "display_name": "base",
   "language": "python",
   "name": "python3"
  },
  "language_info": {
   "codemirror_mode": {
    "name": "ipython",
    "version": 3
   },
   "file_extension": ".py",
   "mimetype": "text/x-python",
   "name": "python",
   "nbconvert_exporter": "python",
   "pygments_lexer": "ipython3",
   "version": "3.11.8"
  },
  "orig_nbformat": 4
 },
 "nbformat": 4,
 "nbformat_minor": 2
}
